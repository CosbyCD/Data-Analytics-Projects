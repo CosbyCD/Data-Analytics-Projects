{
  "nbformat": 4,
  "nbformat_minor": 0,
  "metadata": {
    "colab": {
      "provenance": [],
      "collapsed_sections": [
        "ktmPc2-_zGuS"
      ]
    },
    "kernelspec": {
      "name": "python3",
      "display_name": "Python 3"
    }
  },
  "cells": [
    {
      "cell_type": "markdown",
      "metadata": {
        "id": "ktmPc2-_zGuS"
      },
      "source": [
        "# Analysis of the Covid-19 containment measures Global v/s US - Project Proposal\n",
        "I plan to compare the data from the WHO’s Covid-19 ‘confirmation of infection’ time series for both the Global and US datasets. I believe this data will show that Globally, the containment measures were more effective than they were in the US.\n",
        "\n",
        "The datasets I plan to use are from Kaggle and consist of: USA Covid19-confirmed time series, and the Global Covid19-confirmed time series; Global dataset 1/22/2020 to 12/30/2020 (containing 271 rows and 348 columns)\n",
        "U.S. dataset 1/22/2020 to 12/07/2020 (containing 3340 rows and 332 columns), as well as seeing what trends appear along the timeline of infection rate increased over the timeline indicated. I will be working with datetime. integers, and floats.\n",
        "\n",
        "The final data that I will be examining, is the Percent of Total Covid-19 infection rates by Global and US.\n",
        "\n",
        "By performing some initial tests on the individual data sets using Python, I will get a better sense of the data I have, then I will merge, clean, and model my analysis. I will be identifying effects, analyzing trends, and apply testing methods as well to validate my findings. Then I will create visualizations of the completed analysis using Python.\n",
        "\n",
        "My hypothesis is that there will be significant data showing a strong correlation between Global COVID-19 containment measures being more effective than the US containment measures.\n",
        "\n",
        "Those who would find my findings valuable are health officials, who can use the data to help them prove how effective containment measures are to those who do not believe in following such measures.\n",
        "\n"
      ]
    },
    {
      "cell_type": "markdown",
      "metadata": {
        "id": "Dz-4NUqf4KtT"
      },
      "source": [
        "# Loading libraries\n",
        "  Exploration, cleaning and reshaping of the Covid-19 portion of the dataframe\n"
      ]
    },
    {
      "cell_type": "code",
      "metadata": {
        "id": "60m_2CwRJHZg"
      },
      "source": [
        "# Import & alias modules\n",
        "\n",
        "import math\n",
        "import os\n",
        "import glob\n",
        "import pandas as pd\n",
        "from scipy import stats\n",
        "import seaborn as sns\n",
        "import matplotlib.pyplot as plt\n",
        "sns.set()\n",
        "\n",
        "\n",
        "\n"
      ],
      "execution_count": null,
      "outputs": []
    },
    {
      "cell_type": "markdown",
      "metadata": {
        "id": "ieMMxsfg4vGE"
      },
      "source": [
        "# US Covid-19 data load and explore\n"
      ]
    },
    {
      "cell_type": "code",
      "metadata": {
        "id": "RqDGZ2jKSG-D"
      },
      "source": [
        "#start by loading in the files\n",
        "#cu_df = Confimed US\n",
        "cu_df = pd.read_csv('https://raw.githubusercontent.com/cdcosby/Capstone/main/coviddata/time_series_covid19_confirmed_US.csv')\n"
      ],
      "execution_count": null,
      "outputs": []
    },
    {
      "cell_type": "code",
      "metadata": {
        "id": "DlSZCnq9Ofzo",
        "colab": {
          "base_uri": "https://localhost:8080/",
          "height": 334
        },
        "outputId": "bd6f0d47-4a08-46b5-b0de-c4c5914ad45f"
      },
      "source": [
        "# See what the data looks like\n",
        "cu_df.head()"
      ],
      "execution_count": null,
      "outputs": [
        {
          "output_type": "execute_result",
          "data": {
            "text/html": [
              "<div>\n",
              "<style scoped>\n",
              "    .dataframe tbody tr th:only-of-type {\n",
              "        vertical-align: middle;\n",
              "    }\n",
              "\n",
              "    .dataframe tbody tr th {\n",
              "        vertical-align: top;\n",
              "    }\n",
              "\n",
              "    .dataframe thead th {\n",
              "        text-align: right;\n",
              "    }\n",
              "</style>\n",
              "<table border=\"1\" class=\"dataframe\">\n",
              "  <thead>\n",
              "    <tr style=\"text-align: right;\">\n",
              "      <th></th>\n",
              "      <th>UID</th>\n",
              "      <th>iso2</th>\n",
              "      <th>iso3</th>\n",
              "      <th>code3</th>\n",
              "      <th>FIPS</th>\n",
              "      <th>Admin2</th>\n",
              "      <th>Province_State</th>\n",
              "      <th>Country_Region</th>\n",
              "      <th>Lat</th>\n",
              "      <th>Long_</th>\n",
              "      <th>Combined_Key</th>\n",
              "      <th>1/22/20</th>\n",
              "      <th>1/23/20</th>\n",
              "      <th>1/24/20</th>\n",
              "      <th>1/25/20</th>\n",
              "      <th>1/26/20</th>\n",
              "      <th>1/27/20</th>\n",
              "      <th>1/28/20</th>\n",
              "      <th>1/29/20</th>\n",
              "      <th>1/30/20</th>\n",
              "      <th>1/31/20</th>\n",
              "      <th>2/1/20</th>\n",
              "      <th>2/2/20</th>\n",
              "      <th>2/3/20</th>\n",
              "      <th>2/4/20</th>\n",
              "      <th>2/5/20</th>\n",
              "      <th>2/6/20</th>\n",
              "      <th>2/7/20</th>\n",
              "      <th>2/8/20</th>\n",
              "      <th>2/9/20</th>\n",
              "      <th>2/10/20</th>\n",
              "      <th>2/11/20</th>\n",
              "      <th>2/12/20</th>\n",
              "      <th>2/13/20</th>\n",
              "      <th>2/14/20</th>\n",
              "      <th>2/15/20</th>\n",
              "      <th>2/16/20</th>\n",
              "      <th>2/17/20</th>\n",
              "      <th>2/18/20</th>\n",
              "      <th>2/19/20</th>\n",
              "      <th>...</th>\n",
              "      <th>10/29/20</th>\n",
              "      <th>10/30/20</th>\n",
              "      <th>10/31/20</th>\n",
              "      <th>11/1/20</th>\n",
              "      <th>11/2/20</th>\n",
              "      <th>11/3/20</th>\n",
              "      <th>11/4/20</th>\n",
              "      <th>11/5/20</th>\n",
              "      <th>11/6/20</th>\n",
              "      <th>11/7/20</th>\n",
              "      <th>11/8/20</th>\n",
              "      <th>11/9/20</th>\n",
              "      <th>11/10/20</th>\n",
              "      <th>11/11/20</th>\n",
              "      <th>11/12/20</th>\n",
              "      <th>11/13/20</th>\n",
              "      <th>11/14/20</th>\n",
              "      <th>11/15/20</th>\n",
              "      <th>11/16/20</th>\n",
              "      <th>11/17/20</th>\n",
              "      <th>11/18/20</th>\n",
              "      <th>11/19/20</th>\n",
              "      <th>11/20/20</th>\n",
              "      <th>11/21/20</th>\n",
              "      <th>11/22/20</th>\n",
              "      <th>11/23/20</th>\n",
              "      <th>11/24/20</th>\n",
              "      <th>11/25/20</th>\n",
              "      <th>11/26/20</th>\n",
              "      <th>11/27/20</th>\n",
              "      <th>11/28/20</th>\n",
              "      <th>11/29/20</th>\n",
              "      <th>11/30/20</th>\n",
              "      <th>12/1/20</th>\n",
              "      <th>12/2/20</th>\n",
              "      <th>12/3/20</th>\n",
              "      <th>12/4/20</th>\n",
              "      <th>12/5/20</th>\n",
              "      <th>12/6/20</th>\n",
              "      <th>12/7/20</th>\n",
              "    </tr>\n",
              "  </thead>\n",
              "  <tbody>\n",
              "    <tr>\n",
              "      <th>0</th>\n",
              "      <td>84001001</td>\n",
              "      <td>US</td>\n",
              "      <td>USA</td>\n",
              "      <td>840</td>\n",
              "      <td>1001.0</td>\n",
              "      <td>Autauga</td>\n",
              "      <td>Alabama</td>\n",
              "      <td>US</td>\n",
              "      <td>32.539527</td>\n",
              "      <td>-86.644082</td>\n",
              "      <td>Autauga, Alabama, US</td>\n",
              "      <td>0</td>\n",
              "      <td>0</td>\n",
              "      <td>0</td>\n",
              "      <td>0</td>\n",
              "      <td>0</td>\n",
              "      <td>0</td>\n",
              "      <td>0</td>\n",
              "      <td>0</td>\n",
              "      <td>0</td>\n",
              "      <td>0</td>\n",
              "      <td>0</td>\n",
              "      <td>0</td>\n",
              "      <td>0</td>\n",
              "      <td>0</td>\n",
              "      <td>0</td>\n",
              "      <td>0</td>\n",
              "      <td>0</td>\n",
              "      <td>0</td>\n",
              "      <td>0</td>\n",
              "      <td>0</td>\n",
              "      <td>0</td>\n",
              "      <td>0</td>\n",
              "      <td>0</td>\n",
              "      <td>0</td>\n",
              "      <td>0</td>\n",
              "      <td>0</td>\n",
              "      <td>0</td>\n",
              "      <td>0</td>\n",
              "      <td>0</td>\n",
              "      <td>...</td>\n",
              "      <td>2134</td>\n",
              "      <td>2154</td>\n",
              "      <td>2168</td>\n",
              "      <td>2182</td>\n",
              "      <td>2195</td>\n",
              "      <td>2210</td>\n",
              "      <td>2229</td>\n",
              "      <td>2244</td>\n",
              "      <td>2257</td>\n",
              "      <td>2286</td>\n",
              "      <td>2307</td>\n",
              "      <td>2328</td>\n",
              "      <td>2328</td>\n",
              "      <td>2351</td>\n",
              "      <td>2385</td>\n",
              "      <td>2417</td>\n",
              "      <td>2435</td>\n",
              "      <td>2456</td>\n",
              "      <td>2481</td>\n",
              "      <td>2506</td>\n",
              "      <td>2529</td>\n",
              "      <td>2554</td>\n",
              "      <td>2580</td>\n",
              "      <td>2597</td>\n",
              "      <td>2617</td>\n",
              "      <td>2634</td>\n",
              "      <td>2661</td>\n",
              "      <td>2686</td>\n",
              "      <td>2704</td>\n",
              "      <td>2716</td>\n",
              "      <td>2735</td>\n",
              "      <td>2751</td>\n",
              "      <td>2780</td>\n",
              "      <td>2818</td>\n",
              "      <td>2873</td>\n",
              "      <td>2893</td>\n",
              "      <td>2945</td>\n",
              "      <td>2979</td>\n",
              "      <td>3005</td>\n",
              "      <td>3043</td>\n",
              "    </tr>\n",
              "    <tr>\n",
              "      <th>1</th>\n",
              "      <td>84001003</td>\n",
              "      <td>US</td>\n",
              "      <td>USA</td>\n",
              "      <td>840</td>\n",
              "      <td>1003.0</td>\n",
              "      <td>Baldwin</td>\n",
              "      <td>Alabama</td>\n",
              "      <td>US</td>\n",
              "      <td>30.727750</td>\n",
              "      <td>-87.722071</td>\n",
              "      <td>Baldwin, Alabama, US</td>\n",
              "      <td>0</td>\n",
              "      <td>0</td>\n",
              "      <td>0</td>\n",
              "      <td>0</td>\n",
              "      <td>0</td>\n",
              "      <td>0</td>\n",
              "      <td>0</td>\n",
              "      <td>0</td>\n",
              "      <td>0</td>\n",
              "      <td>0</td>\n",
              "      <td>0</td>\n",
              "      <td>0</td>\n",
              "      <td>0</td>\n",
              "      <td>0</td>\n",
              "      <td>0</td>\n",
              "      <td>0</td>\n",
              "      <td>0</td>\n",
              "      <td>0</td>\n",
              "      <td>0</td>\n",
              "      <td>0</td>\n",
              "      <td>0</td>\n",
              "      <td>0</td>\n",
              "      <td>0</td>\n",
              "      <td>0</td>\n",
              "      <td>0</td>\n",
              "      <td>0</td>\n",
              "      <td>0</td>\n",
              "      <td>0</td>\n",
              "      <td>0</td>\n",
              "      <td>...</td>\n",
              "      <td>6879</td>\n",
              "      <td>6931</td>\n",
              "      <td>6955</td>\n",
              "      <td>6974</td>\n",
              "      <td>6991</td>\n",
              "      <td>7054</td>\n",
              "      <td>7093</td>\n",
              "      <td>7133</td>\n",
              "      <td>7184</td>\n",
              "      <td>7226</td>\n",
              "      <td>7263</td>\n",
              "      <td>7345</td>\n",
              "      <td>7348</td>\n",
              "      <td>7409</td>\n",
              "      <td>7454</td>\n",
              "      <td>7523</td>\n",
              "      <td>7596</td>\n",
              "      <td>7646</td>\n",
              "      <td>7696</td>\n",
              "      <td>7772</td>\n",
              "      <td>7849</td>\n",
              "      <td>7933</td>\n",
              "      <td>8038</td>\n",
              "      <td>8131</td>\n",
              "      <td>8199</td>\n",
              "      <td>8269</td>\n",
              "      <td>8376</td>\n",
              "      <td>8473</td>\n",
              "      <td>8576</td>\n",
              "      <td>8603</td>\n",
              "      <td>8733</td>\n",
              "      <td>8820</td>\n",
              "      <td>8890</td>\n",
              "      <td>9051</td>\n",
              "      <td>9163</td>\n",
              "      <td>9341</td>\n",
              "      <td>9501</td>\n",
              "      <td>9626</td>\n",
              "      <td>9728</td>\n",
              "      <td>9821</td>\n",
              "    </tr>\n",
              "    <tr>\n",
              "      <th>2</th>\n",
              "      <td>84001005</td>\n",
              "      <td>US</td>\n",
              "      <td>USA</td>\n",
              "      <td>840</td>\n",
              "      <td>1005.0</td>\n",
              "      <td>Barbour</td>\n",
              "      <td>Alabama</td>\n",
              "      <td>US</td>\n",
              "      <td>31.868263</td>\n",
              "      <td>-85.387129</td>\n",
              "      <td>Barbour, Alabama, US</td>\n",
              "      <td>0</td>\n",
              "      <td>0</td>\n",
              "      <td>0</td>\n",
              "      <td>0</td>\n",
              "      <td>0</td>\n",
              "      <td>0</td>\n",
              "      <td>0</td>\n",
              "      <td>0</td>\n",
              "      <td>0</td>\n",
              "      <td>0</td>\n",
              "      <td>0</td>\n",
              "      <td>0</td>\n",
              "      <td>0</td>\n",
              "      <td>0</td>\n",
              "      <td>0</td>\n",
              "      <td>0</td>\n",
              "      <td>0</td>\n",
              "      <td>0</td>\n",
              "      <td>0</td>\n",
              "      <td>0</td>\n",
              "      <td>0</td>\n",
              "      <td>0</td>\n",
              "      <td>0</td>\n",
              "      <td>0</td>\n",
              "      <td>0</td>\n",
              "      <td>0</td>\n",
              "      <td>0</td>\n",
              "      <td>0</td>\n",
              "      <td>0</td>\n",
              "      <td>...</td>\n",
              "      <td>1053</td>\n",
              "      <td>1058</td>\n",
              "      <td>1059</td>\n",
              "      <td>1062</td>\n",
              "      <td>1073</td>\n",
              "      <td>1077</td>\n",
              "      <td>1079</td>\n",
              "      <td>1089</td>\n",
              "      <td>1092</td>\n",
              "      <td>1095</td>\n",
              "      <td>1098</td>\n",
              "      <td>1107</td>\n",
              "      <td>1107</td>\n",
              "      <td>1112</td>\n",
              "      <td>1113</td>\n",
              "      <td>1117</td>\n",
              "      <td>1123</td>\n",
              "      <td>1128</td>\n",
              "      <td>1130</td>\n",
              "      <td>1134</td>\n",
              "      <td>1137</td>\n",
              "      <td>1145</td>\n",
              "      <td>1151</td>\n",
              "      <td>1157</td>\n",
              "      <td>1160</td>\n",
              "      <td>1161</td>\n",
              "      <td>1167</td>\n",
              "      <td>1170</td>\n",
              "      <td>1170</td>\n",
              "      <td>1171</td>\n",
              "      <td>1173</td>\n",
              "      <td>1175</td>\n",
              "      <td>1178</td>\n",
              "      <td>1189</td>\n",
              "      <td>1206</td>\n",
              "      <td>1214</td>\n",
              "      <td>1217</td>\n",
              "      <td>1219</td>\n",
              "      <td>1223</td>\n",
              "      <td>1224</td>\n",
              "    </tr>\n",
              "    <tr>\n",
              "      <th>3</th>\n",
              "      <td>84001007</td>\n",
              "      <td>US</td>\n",
              "      <td>USA</td>\n",
              "      <td>840</td>\n",
              "      <td>1007.0</td>\n",
              "      <td>Bibb</td>\n",
              "      <td>Alabama</td>\n",
              "      <td>US</td>\n",
              "      <td>32.996421</td>\n",
              "      <td>-87.125115</td>\n",
              "      <td>Bibb, Alabama, US</td>\n",
              "      <td>0</td>\n",
              "      <td>0</td>\n",
              "      <td>0</td>\n",
              "      <td>0</td>\n",
              "      <td>0</td>\n",
              "      <td>0</td>\n",
              "      <td>0</td>\n",
              "      <td>0</td>\n",
              "      <td>0</td>\n",
              "      <td>0</td>\n",
              "      <td>0</td>\n",
              "      <td>0</td>\n",
              "      <td>0</td>\n",
              "      <td>0</td>\n",
              "      <td>0</td>\n",
              "      <td>0</td>\n",
              "      <td>0</td>\n",
              "      <td>0</td>\n",
              "      <td>0</td>\n",
              "      <td>0</td>\n",
              "      <td>0</td>\n",
              "      <td>0</td>\n",
              "      <td>0</td>\n",
              "      <td>0</td>\n",
              "      <td>0</td>\n",
              "      <td>0</td>\n",
              "      <td>0</td>\n",
              "      <td>0</td>\n",
              "      <td>0</td>\n",
              "      <td>...</td>\n",
              "      <td>867</td>\n",
              "      <td>873</td>\n",
              "      <td>877</td>\n",
              "      <td>883</td>\n",
              "      <td>890</td>\n",
              "      <td>900</td>\n",
              "      <td>907</td>\n",
              "      <td>920</td>\n",
              "      <td>926</td>\n",
              "      <td>934</td>\n",
              "      <td>942</td>\n",
              "      <td>948</td>\n",
              "      <td>948</td>\n",
              "      <td>961</td>\n",
              "      <td>966</td>\n",
              "      <td>973</td>\n",
              "      <td>978</td>\n",
              "      <td>986</td>\n",
              "      <td>993</td>\n",
              "      <td>1004</td>\n",
              "      <td>1008</td>\n",
              "      <td>1011</td>\n",
              "      <td>1024</td>\n",
              "      <td>1036</td>\n",
              "      <td>1136</td>\n",
              "      <td>1142</td>\n",
              "      <td>1157</td>\n",
              "      <td>1162</td>\n",
              "      <td>1170</td>\n",
              "      <td>1173</td>\n",
              "      <td>1179</td>\n",
              "      <td>1188</td>\n",
              "      <td>1196</td>\n",
              "      <td>1204</td>\n",
              "      <td>1239</td>\n",
              "      <td>1252</td>\n",
              "      <td>1270</td>\n",
              "      <td>1283</td>\n",
              "      <td>1293</td>\n",
              "      <td>1299</td>\n",
              "    </tr>\n",
              "    <tr>\n",
              "      <th>4</th>\n",
              "      <td>84001009</td>\n",
              "      <td>US</td>\n",
              "      <td>USA</td>\n",
              "      <td>840</td>\n",
              "      <td>1009.0</td>\n",
              "      <td>Blount</td>\n",
              "      <td>Alabama</td>\n",
              "      <td>US</td>\n",
              "      <td>33.982109</td>\n",
              "      <td>-86.567906</td>\n",
              "      <td>Blount, Alabama, US</td>\n",
              "      <td>0</td>\n",
              "      <td>0</td>\n",
              "      <td>0</td>\n",
              "      <td>0</td>\n",
              "      <td>0</td>\n",
              "      <td>0</td>\n",
              "      <td>0</td>\n",
              "      <td>0</td>\n",
              "      <td>0</td>\n",
              "      <td>0</td>\n",
              "      <td>0</td>\n",
              "      <td>0</td>\n",
              "      <td>0</td>\n",
              "      <td>0</td>\n",
              "      <td>0</td>\n",
              "      <td>0</td>\n",
              "      <td>0</td>\n",
              "      <td>0</td>\n",
              "      <td>0</td>\n",
              "      <td>0</td>\n",
              "      <td>0</td>\n",
              "      <td>0</td>\n",
              "      <td>0</td>\n",
              "      <td>0</td>\n",
              "      <td>0</td>\n",
              "      <td>0</td>\n",
              "      <td>0</td>\n",
              "      <td>0</td>\n",
              "      <td>0</td>\n",
              "      <td>...</td>\n",
              "      <td>2054</td>\n",
              "      <td>2089</td>\n",
              "      <td>2109</td>\n",
              "      <td>2128</td>\n",
              "      <td>2178</td>\n",
              "      <td>2204</td>\n",
              "      <td>2233</td>\n",
              "      <td>2258</td>\n",
              "      <td>2290</td>\n",
              "      <td>2302</td>\n",
              "      <td>2338</td>\n",
              "      <td>2378</td>\n",
              "      <td>2378</td>\n",
              "      <td>2400</td>\n",
              "      <td>2429</td>\n",
              "      <td>2488</td>\n",
              "      <td>2518</td>\n",
              "      <td>2549</td>\n",
              "      <td>2574</td>\n",
              "      <td>2594</td>\n",
              "      <td>2648</td>\n",
              "      <td>2683</td>\n",
              "      <td>2704</td>\n",
              "      <td>2735</td>\n",
              "      <td>2754</td>\n",
              "      <td>2763</td>\n",
              "      <td>2822</td>\n",
              "      <td>2855</td>\n",
              "      <td>2879</td>\n",
              "      <td>2888</td>\n",
              "      <td>2922</td>\n",
              "      <td>2946</td>\n",
              "      <td>2997</td>\n",
              "      <td>3061</td>\n",
              "      <td>3100</td>\n",
              "      <td>3158</td>\n",
              "      <td>3231</td>\n",
              "      <td>3281</td>\n",
              "      <td>3299</td>\n",
              "      <td>3324</td>\n",
              "    </tr>\n",
              "  </tbody>\n",
              "</table>\n",
              "<p>5 rows × 332 columns</p>\n",
              "</div>"
            ],
            "text/plain": [
              "        UID iso2 iso3  code3  ...  12/4/20 12/5/20 12/6/20 12/7/20\n",
              "0  84001001   US  USA    840  ...     2945    2979    3005    3043\n",
              "1  84001003   US  USA    840  ...     9501    9626    9728    9821\n",
              "2  84001005   US  USA    840  ...     1217    1219    1223    1224\n",
              "3  84001007   US  USA    840  ...     1270    1283    1293    1299\n",
              "4  84001009   US  USA    840  ...     3231    3281    3299    3324\n",
              "\n",
              "[5 rows x 332 columns]"
            ]
          },
          "metadata": {
            "tags": []
          },
          "execution_count": 5
        }
      ]
    },
    {
      "cell_type": "code",
      "metadata": {
        "id": "X97hH9S37w-S",
        "colab": {
          "base_uri": "https://localhost:8080/"
        },
        "outputId": "917004f7-135e-4afe-ecaf-6f339372de04"
      },
      "source": [
        "# Getting a more focused look at the data\n",
        "cu_df.info(5)"
      ],
      "execution_count": null,
      "outputs": [
        {
          "output_type": "stream",
          "text": [
            "<class 'pandas.core.frame.DataFrame'>\n",
            "RangeIndex: 3340 entries, 0 to 3339\n",
            "Data columns (total 332 columns):\n",
            " #   Column          Dtype  \n",
            "---  ------          -----  \n",
            " 0   UID             int64  \n",
            " 1   iso2            object \n",
            " 2   iso3            object \n",
            " 3   code3           int64  \n",
            " 4   FIPS            float64\n",
            " 5   Admin2          object \n",
            " 6   Province_State  object \n",
            " 7   Country_Region  object \n",
            " 8   Lat             float64\n",
            " 9   Long_           float64\n",
            " 10  Combined_Key    object \n",
            " 11  1/22/20         int64  \n",
            " 12  1/23/20         int64  \n",
            " 13  1/24/20         int64  \n",
            " 14  1/25/20         int64  \n",
            " 15  1/26/20         int64  \n",
            " 16  1/27/20         int64  \n",
            " 17  1/28/20         int64  \n",
            " 18  1/29/20         int64  \n",
            " 19  1/30/20         int64  \n",
            " 20  1/31/20         int64  \n",
            " 21  2/1/20          int64  \n",
            " 22  2/2/20          int64  \n",
            " 23  2/3/20          int64  \n",
            " 24  2/4/20          int64  \n",
            " 25  2/5/20          int64  \n",
            " 26  2/6/20          int64  \n",
            " 27  2/7/20          int64  \n",
            " 28  2/8/20          int64  \n",
            " 29  2/9/20          int64  \n",
            " 30  2/10/20         int64  \n",
            " 31  2/11/20         int64  \n",
            " 32  2/12/20         int64  \n",
            " 33  2/13/20         int64  \n",
            " 34  2/14/20         int64  \n",
            " 35  2/15/20         int64  \n",
            " 36  2/16/20         int64  \n",
            " 37  2/17/20         int64  \n",
            " 38  2/18/20         int64  \n",
            " 39  2/19/20         int64  \n",
            " 40  2/20/20         int64  \n",
            " 41  2/21/20         int64  \n",
            " 42  2/22/20         int64  \n",
            " 43  2/23/20         int64  \n",
            " 44  2/24/20         int64  \n",
            " 45  2/25/20         int64  \n",
            " 46  2/26/20         int64  \n",
            " 47  2/27/20         int64  \n",
            " 48  2/28/20         int64  \n",
            " 49  2/29/20         int64  \n",
            " 50  3/1/20          int64  \n",
            " 51  3/2/20          int64  \n",
            " 52  3/3/20          int64  \n",
            " 53  3/4/20          int64  \n",
            " 54  3/5/20          int64  \n",
            " 55  3/6/20          int64  \n",
            " 56  3/7/20          int64  \n",
            " 57  3/8/20          int64  \n",
            " 58  3/9/20          int64  \n",
            " 59  3/10/20         int64  \n",
            " 60  3/11/20         int64  \n",
            " 61  3/12/20         int64  \n",
            " 62  3/13/20         int64  \n",
            " 63  3/14/20         int64  \n",
            " 64  3/15/20         int64  \n",
            " 65  3/16/20         int64  \n",
            " 66  3/17/20         int64  \n",
            " 67  3/18/20         int64  \n",
            " 68  3/19/20         int64  \n",
            " 69  3/20/20         int64  \n",
            " 70  3/21/20         int64  \n",
            " 71  3/22/20         int64  \n",
            " 72  3/23/20         int64  \n",
            " 73  3/24/20         int64  \n",
            " 74  3/25/20         int64  \n",
            " 75  3/26/20         int64  \n",
            " 76  3/27/20         int64  \n",
            " 77  3/28/20         int64  \n",
            " 78  3/29/20         int64  \n",
            " 79  3/30/20         int64  \n",
            " 80  3/31/20         int64  \n",
            " 81  4/1/20          int64  \n",
            " 82  4/2/20          int64  \n",
            " 83  4/3/20          int64  \n",
            " 84  4/4/20          int64  \n",
            " 85  4/5/20          int64  \n",
            " 86  4/6/20          int64  \n",
            " 87  4/7/20          int64  \n",
            " 88  4/8/20          int64  \n",
            " 89  4/9/20          int64  \n",
            " 90  4/10/20         int64  \n",
            " 91  4/11/20         int64  \n",
            " 92  4/12/20         int64  \n",
            " 93  4/13/20         int64  \n",
            " 94  4/14/20         int64  \n",
            " 95  4/15/20         int64  \n",
            " 96  4/16/20         int64  \n",
            " 97  4/17/20         int64  \n",
            " 98  4/18/20         int64  \n",
            " 99  4/19/20         int64  \n",
            " 100 4/20/20         int64  \n",
            " 101 4/21/20         int64  \n",
            " 102 4/22/20         int64  \n",
            " 103 4/23/20         int64  \n",
            " 104 4/24/20         int64  \n",
            " 105 4/25/20         int64  \n",
            " 106 4/26/20         int64  \n",
            " 107 4/27/20         int64  \n",
            " 108 4/28/20         int64  \n",
            " 109 4/29/20         int64  \n",
            " 110 4/30/20         int64  \n",
            " 111 5/1/20          int64  \n",
            " 112 5/2/20          int64  \n",
            " 113 5/3/20          int64  \n",
            " 114 5/4/20          int64  \n",
            " 115 5/5/20          int64  \n",
            " 116 5/6/20          int64  \n",
            " 117 5/7/20          int64  \n",
            " 118 5/8/20          int64  \n",
            " 119 5/9/20          int64  \n",
            " 120 5/10/20         int64  \n",
            " 121 5/11/20         int64  \n",
            " 122 5/12/20         int64  \n",
            " 123 5/13/20         int64  \n",
            " 124 5/14/20         int64  \n",
            " 125 5/15/20         int64  \n",
            " 126 5/16/20         int64  \n",
            " 127 5/17/20         int64  \n",
            " 128 5/18/20         int64  \n",
            " 129 5/19/20         int64  \n",
            " 130 5/20/20         int64  \n",
            " 131 5/21/20         int64  \n",
            " 132 5/22/20         int64  \n",
            " 133 5/23/20         int64  \n",
            " 134 5/24/20         int64  \n",
            " 135 5/25/20         int64  \n",
            " 136 5/26/20         int64  \n",
            " 137 5/27/20         int64  \n",
            " 138 5/28/20         int64  \n",
            " 139 5/29/20         int64  \n",
            " 140 5/30/20         int64  \n",
            " 141 5/31/20         int64  \n",
            " 142 6/1/20          int64  \n",
            " 143 6/2/20          int64  \n",
            " 144 6/3/20          int64  \n",
            " 145 6/4/20          int64  \n",
            " 146 6/5/20          int64  \n",
            " 147 6/6/20          int64  \n",
            " 148 6/7/20          int64  \n",
            " 149 6/8/20          int64  \n",
            " 150 6/9/20          int64  \n",
            " 151 6/10/20         int64  \n",
            " 152 6/11/20         int64  \n",
            " 153 6/12/20         int64  \n",
            " 154 6/13/20         int64  \n",
            " 155 6/14/20         int64  \n",
            " 156 6/15/20         int64  \n",
            " 157 6/16/20         int64  \n",
            " 158 6/17/20         int64  \n",
            " 159 6/18/20         int64  \n",
            " 160 6/19/20         int64  \n",
            " 161 6/20/20         int64  \n",
            " 162 6/21/20         int64  \n",
            " 163 6/22/20         int64  \n",
            " 164 6/23/20         int64  \n",
            " 165 6/24/20         int64  \n",
            " 166 6/25/20         int64  \n",
            " 167 6/26/20         int64  \n",
            " 168 6/27/20         int64  \n",
            " 169 6/28/20         int64  \n",
            " 170 6/29/20         int64  \n",
            " 171 6/30/20         int64  \n",
            " 172 7/1/20          int64  \n",
            " 173 7/2/20          int64  \n",
            " 174 7/3/20          int64  \n",
            " 175 7/4/20          int64  \n",
            " 176 7/5/20          int64  \n",
            " 177 7/6/20          int64  \n",
            " 178 7/7/20          int64  \n",
            " 179 7/8/20          int64  \n",
            " 180 7/9/20          int64  \n",
            " 181 7/10/20         int64  \n",
            " 182 7/11/20         int64  \n",
            " 183 7/12/20         int64  \n",
            " 184 7/13/20         int64  \n",
            " 185 7/14/20         int64  \n",
            " 186 7/15/20         int64  \n",
            " 187 7/16/20         int64  \n",
            " 188 7/17/20         int64  \n",
            " 189 7/18/20         int64  \n",
            " 190 7/19/20         int64  \n",
            " 191 7/20/20         int64  \n",
            " 192 7/21/20         int64  \n",
            " 193 7/22/20         int64  \n",
            " 194 7/23/20         int64  \n",
            " 195 7/24/20         int64  \n",
            " 196 7/25/20         int64  \n",
            " 197 7/26/20         int64  \n",
            " 198 7/27/20         int64  \n",
            " 199 7/28/20         int64  \n",
            " 200 7/29/20         int64  \n",
            " 201 7/30/20         int64  \n",
            " 202 7/31/20         int64  \n",
            " 203 8/1/20          int64  \n",
            " 204 8/2/20          int64  \n",
            " 205 8/3/20          int64  \n",
            " 206 8/4/20          int64  \n",
            " 207 8/5/20          int64  \n",
            " 208 8/6/20          int64  \n",
            " 209 8/7/20          int64  \n",
            " 210 8/8/20          int64  \n",
            " 211 8/9/20          int64  \n",
            " 212 8/10/20         int64  \n",
            " 213 8/11/20         int64  \n",
            " 214 8/12/20         int64  \n",
            " 215 8/13/20         int64  \n",
            " 216 8/14/20         int64  \n",
            " 217 8/15/20         int64  \n",
            " 218 8/16/20         int64  \n",
            " 219 8/17/20         int64  \n",
            " 220 8/18/20         int64  \n",
            " 221 8/19/20         int64  \n",
            " 222 8/20/20         int64  \n",
            " 223 8/21/20         int64  \n",
            " 224 8/22/20         int64  \n",
            " 225 8/23/20         int64  \n",
            " 226 8/24/20         int64  \n",
            " 227 8/25/20         int64  \n",
            " 228 8/26/20         int64  \n",
            " 229 8/27/20         int64  \n",
            " 230 8/28/20         int64  \n",
            " 231 8/29/20         int64  \n",
            " 232 8/30/20         int64  \n",
            " 233 8/31/20         int64  \n",
            " 234 9/1/20          int64  \n",
            " 235 9/2/20          int64  \n",
            " 236 9/3/20          int64  \n",
            " 237 9/4/20          int64  \n",
            " 238 9/5/20          int64  \n",
            " 239 9/6/20          int64  \n",
            " 240 9/7/20          int64  \n",
            " 241 9/8/20          int64  \n",
            " 242 9/9/20          int64  \n",
            " 243 9/10/20         int64  \n",
            " 244 9/11/20         int64  \n",
            " 245 9/12/20         int64  \n",
            " 246 9/13/20         int64  \n",
            " 247 9/14/20         int64  \n",
            " 248 9/15/20         int64  \n",
            " 249 9/16/20         int64  \n",
            " 250 9/17/20         int64  \n",
            " 251 9/18/20         int64  \n",
            " 252 9/19/20         int64  \n",
            " 253 9/20/20         int64  \n",
            " 254 9/21/20         int64  \n",
            " 255 9/22/20         int64  \n",
            " 256 9/23/20         int64  \n",
            " 257 9/24/20         int64  \n",
            " 258 9/25/20         int64  \n",
            " 259 9/26/20         int64  \n",
            " 260 9/27/20         int64  \n",
            " 261 9/28/20         int64  \n",
            " 262 9/29/20         int64  \n",
            " 263 9/30/20         int64  \n",
            " 264 10/1/20         int64  \n",
            " 265 10/2/20         int64  \n",
            " 266 10/3/20         int64  \n",
            " 267 10/4/20         int64  \n",
            " 268 10/5/20         int64  \n",
            " 269 10/6/20         int64  \n",
            " 270 10/7/20         int64  \n",
            " 271 10/8/20         int64  \n",
            " 272 10/9/20         int64  \n",
            " 273 10/10/20        int64  \n",
            " 274 10/11/20        int64  \n",
            " 275 10/12/20        int64  \n",
            " 276 10/13/20        int64  \n",
            " 277 10/14/20        int64  \n",
            " 278 10/15/20        int64  \n",
            " 279 10/16/20        int64  \n",
            " 280 10/17/20        int64  \n",
            " 281 10/18/20        int64  \n",
            " 282 10/19/20        int64  \n",
            " 283 10/20/20        int64  \n",
            " 284 10/21/20        int64  \n",
            " 285 10/22/20        int64  \n",
            " 286 10/23/20        int64  \n",
            " 287 10/24/20        int64  \n",
            " 288 10/25/20        int64  \n",
            " 289 10/26/20        int64  \n",
            " 290 10/27/20        int64  \n",
            " 291 10/28/20        int64  \n",
            " 292 10/29/20        int64  \n",
            " 293 10/30/20        int64  \n",
            " 294 10/31/20        int64  \n",
            " 295 11/1/20         int64  \n",
            " 296 11/2/20         int64  \n",
            " 297 11/3/20         int64  \n",
            " 298 11/4/20         int64  \n",
            " 299 11/5/20         int64  \n",
            " 300 11/6/20         int64  \n",
            " 301 11/7/20         int64  \n",
            " 302 11/8/20         int64  \n",
            " 303 11/9/20         int64  \n",
            " 304 11/10/20        int64  \n",
            " 305 11/11/20        int64  \n",
            " 306 11/12/20        int64  \n",
            " 307 11/13/20        int64  \n",
            " 308 11/14/20        int64  \n",
            " 309 11/15/20        int64  \n",
            " 310 11/16/20        int64  \n",
            " 311 11/17/20        int64  \n",
            " 312 11/18/20        int64  \n",
            " 313 11/19/20        int64  \n",
            " 314 11/20/20        int64  \n",
            " 315 11/21/20        int64  \n",
            " 316 11/22/20        int64  \n",
            " 317 11/23/20        int64  \n",
            " 318 11/24/20        int64  \n",
            " 319 11/25/20        int64  \n",
            " 320 11/26/20        int64  \n",
            " 321 11/27/20        int64  \n",
            " 322 11/28/20        int64  \n",
            " 323 11/29/20        int64  \n",
            " 324 11/30/20        int64  \n",
            " 325 12/1/20         int64  \n",
            " 326 12/2/20         int64  \n",
            " 327 12/3/20         int64  \n",
            " 328 12/4/20         int64  \n",
            " 329 12/5/20         int64  \n",
            " 330 12/6/20         int64  \n",
            " 331 12/7/20         int64  \n",
            "dtypes: float64(3), int64(323), object(6)\n",
            "memory usage: 8.5+ MB\n"
          ],
          "name": "stdout"
        }
      ]
    },
    {
      "cell_type": "code",
      "metadata": {
        "id": "lRR799js7SA6",
        "colab": {
          "base_uri": "https://localhost:8080/",
          "height": 337
        },
        "outputId": "44f0d3f7-48f5-4d4a-d6e0-c23f120f75a4"
      },
      "source": [
        "cu_df.describe()"
      ],
      "execution_count": null,
      "outputs": [
        {
          "output_type": "execute_result",
          "data": {
            "text/html": [
              "<div>\n",
              "<style scoped>\n",
              "    .dataframe tbody tr th:only-of-type {\n",
              "        vertical-align: middle;\n",
              "    }\n",
              "\n",
              "    .dataframe tbody tr th {\n",
              "        vertical-align: top;\n",
              "    }\n",
              "\n",
              "    .dataframe thead th {\n",
              "        text-align: right;\n",
              "    }\n",
              "</style>\n",
              "<table border=\"1\" class=\"dataframe\">\n",
              "  <thead>\n",
              "    <tr style=\"text-align: right;\">\n",
              "      <th></th>\n",
              "      <th>UID</th>\n",
              "      <th>code3</th>\n",
              "      <th>FIPS</th>\n",
              "      <th>Lat</th>\n",
              "      <th>Long_</th>\n",
              "      <th>1/22/20</th>\n",
              "      <th>1/23/20</th>\n",
              "      <th>1/24/20</th>\n",
              "      <th>1/25/20</th>\n",
              "      <th>1/26/20</th>\n",
              "      <th>1/27/20</th>\n",
              "      <th>1/28/20</th>\n",
              "      <th>1/29/20</th>\n",
              "      <th>1/30/20</th>\n",
              "      <th>1/31/20</th>\n",
              "      <th>2/1/20</th>\n",
              "      <th>2/2/20</th>\n",
              "      <th>2/3/20</th>\n",
              "      <th>2/4/20</th>\n",
              "      <th>2/5/20</th>\n",
              "      <th>2/6/20</th>\n",
              "      <th>2/7/20</th>\n",
              "      <th>2/8/20</th>\n",
              "      <th>2/9/20</th>\n",
              "      <th>2/10/20</th>\n",
              "      <th>2/11/20</th>\n",
              "      <th>2/12/20</th>\n",
              "      <th>2/13/20</th>\n",
              "      <th>2/14/20</th>\n",
              "      <th>2/15/20</th>\n",
              "      <th>2/16/20</th>\n",
              "      <th>2/17/20</th>\n",
              "      <th>2/18/20</th>\n",
              "      <th>2/19/20</th>\n",
              "      <th>2/20/20</th>\n",
              "      <th>2/21/20</th>\n",
              "      <th>2/22/20</th>\n",
              "      <th>2/23/20</th>\n",
              "      <th>2/24/20</th>\n",
              "      <th>2/25/20</th>\n",
              "      <th>...</th>\n",
              "      <th>10/29/20</th>\n",
              "      <th>10/30/20</th>\n",
              "      <th>10/31/20</th>\n",
              "      <th>11/1/20</th>\n",
              "      <th>11/2/20</th>\n",
              "      <th>11/3/20</th>\n",
              "      <th>11/4/20</th>\n",
              "      <th>11/5/20</th>\n",
              "      <th>11/6/20</th>\n",
              "      <th>11/7/20</th>\n",
              "      <th>11/8/20</th>\n",
              "      <th>11/9/20</th>\n",
              "      <th>11/10/20</th>\n",
              "      <th>11/11/20</th>\n",
              "      <th>11/12/20</th>\n",
              "      <th>11/13/20</th>\n",
              "      <th>11/14/20</th>\n",
              "      <th>11/15/20</th>\n",
              "      <th>11/16/20</th>\n",
              "      <th>11/17/20</th>\n",
              "      <th>11/18/20</th>\n",
              "      <th>11/19/20</th>\n",
              "      <th>11/20/20</th>\n",
              "      <th>11/21/20</th>\n",
              "      <th>11/22/20</th>\n",
              "      <th>11/23/20</th>\n",
              "      <th>11/24/20</th>\n",
              "      <th>11/25/20</th>\n",
              "      <th>11/26/20</th>\n",
              "      <th>11/27/20</th>\n",
              "      <th>11/28/20</th>\n",
              "      <th>11/29/20</th>\n",
              "      <th>11/30/20</th>\n",
              "      <th>12/1/20</th>\n",
              "      <th>12/2/20</th>\n",
              "      <th>12/3/20</th>\n",
              "      <th>12/4/20</th>\n",
              "      <th>12/5/20</th>\n",
              "      <th>12/6/20</th>\n",
              "      <th>12/7/20</th>\n",
              "    </tr>\n",
              "  </thead>\n",
              "  <tbody>\n",
              "    <tr>\n",
              "      <th>count</th>\n",
              "      <td>3.340000e+03</td>\n",
              "      <td>3340.000000</td>\n",
              "      <td>3330.000000</td>\n",
              "      <td>3340.000000</td>\n",
              "      <td>3340.000000</td>\n",
              "      <td>3340.000000</td>\n",
              "      <td>3340.000000</td>\n",
              "      <td>3340.000000</td>\n",
              "      <td>3340.000000</td>\n",
              "      <td>3340.000000</td>\n",
              "      <td>3340.000000</td>\n",
              "      <td>3340.000000</td>\n",
              "      <td>3340.000000</td>\n",
              "      <td>3340.000000</td>\n",
              "      <td>3340.000000</td>\n",
              "      <td>3340.000000</td>\n",
              "      <td>3340.000000</td>\n",
              "      <td>3340.000000</td>\n",
              "      <td>3340.000000</td>\n",
              "      <td>3340.000000</td>\n",
              "      <td>3340.000000</td>\n",
              "      <td>3340.000000</td>\n",
              "      <td>3340.000000</td>\n",
              "      <td>3340.000000</td>\n",
              "      <td>3340.000000</td>\n",
              "      <td>3340.000000</td>\n",
              "      <td>3340.000000</td>\n",
              "      <td>3340.000000</td>\n",
              "      <td>3340.000000</td>\n",
              "      <td>3340.000000</td>\n",
              "      <td>3340.000000</td>\n",
              "      <td>3340.000000</td>\n",
              "      <td>3340.000000</td>\n",
              "      <td>3340.000000</td>\n",
              "      <td>3340.000000</td>\n",
              "      <td>3340.000000</td>\n",
              "      <td>3340.000000</td>\n",
              "      <td>3340.000000</td>\n",
              "      <td>3340.000000</td>\n",
              "      <td>3340.000000</td>\n",
              "      <td>...</td>\n",
              "      <td>3340.000000</td>\n",
              "      <td>3340.000000</td>\n",
              "      <td>3340.000000</td>\n",
              "      <td>3340.000000</td>\n",
              "      <td>3340.000000</td>\n",
              "      <td>3340.000000</td>\n",
              "      <td>3340.000000</td>\n",
              "      <td>3340.000000</td>\n",
              "      <td>3340.000000</td>\n",
              "      <td>3340.000000</td>\n",
              "      <td>3340.000000</td>\n",
              "      <td>3340.000000</td>\n",
              "      <td>3340.000000</td>\n",
              "      <td>3340.000000</td>\n",
              "      <td>3340.000000</td>\n",
              "      <td>3340.000000</td>\n",
              "      <td>3340.000000</td>\n",
              "      <td>3340.000000</td>\n",
              "      <td>3340.000000</td>\n",
              "      <td>3340.000000</td>\n",
              "      <td>3340.000000</td>\n",
              "      <td>3340.000000</td>\n",
              "      <td>3340.000000</td>\n",
              "      <td>3340.000000</td>\n",
              "      <td>3340.000000</td>\n",
              "      <td>3340.000000</td>\n",
              "      <td>3340.000000</td>\n",
              "      <td>3340.000000</td>\n",
              "      <td>3340.000000</td>\n",
              "      <td>3340.000000</td>\n",
              "      <td>3340.000000</td>\n",
              "      <td>3340.000000</td>\n",
              "      <td>3340.000000</td>\n",
              "      <td>3340.000000</td>\n",
              "      <td>3340.000000</td>\n",
              "      <td>3340.000000</td>\n",
              "      <td>3340.000000</td>\n",
              "      <td>3340.000000</td>\n",
              "      <td>3340.000000</td>\n",
              "      <td>3340.000000</td>\n",
              "    </tr>\n",
              "    <tr>\n",
              "      <th>mean</th>\n",
              "      <td>8.342958e+07</td>\n",
              "      <td>834.491617</td>\n",
              "      <td>33061.684685</td>\n",
              "      <td>36.707212</td>\n",
              "      <td>-88.601474</td>\n",
              "      <td>0.000299</td>\n",
              "      <td>0.000299</td>\n",
              "      <td>0.000599</td>\n",
              "      <td>0.000599</td>\n",
              "      <td>0.001497</td>\n",
              "      <td>0.001497</td>\n",
              "      <td>0.001497</td>\n",
              "      <td>0.001796</td>\n",
              "      <td>0.001796</td>\n",
              "      <td>0.002395</td>\n",
              "      <td>0.002395</td>\n",
              "      <td>0.002395</td>\n",
              "      <td>0.003293</td>\n",
              "      <td>0.003293</td>\n",
              "      <td>0.003293</td>\n",
              "      <td>0.003593</td>\n",
              "      <td>0.003593</td>\n",
              "      <td>0.003593</td>\n",
              "      <td>0.003593</td>\n",
              "      <td>0.003593</td>\n",
              "      <td>0.003892</td>\n",
              "      <td>0.003892</td>\n",
              "      <td>0.004192</td>\n",
              "      <td>0.004192</td>\n",
              "      <td>0.004192</td>\n",
              "      <td>0.004192</td>\n",
              "      <td>0.004192</td>\n",
              "      <td>0.004192</td>\n",
              "      <td>0.004192</td>\n",
              "      <td>0.004192</td>\n",
              "      <td>0.004790</td>\n",
              "      <td>0.004790</td>\n",
              "      <td>0.004790</td>\n",
              "      <td>0.004790</td>\n",
              "      <td>0.004790</td>\n",
              "      <td>...</td>\n",
              "      <td>2678.335928</td>\n",
              "      <td>2707.832635</td>\n",
              "      <td>2734.460479</td>\n",
              "      <td>2757.086527</td>\n",
              "      <td>2782.082635</td>\n",
              "      <td>2819.373952</td>\n",
              "      <td>2850.174251</td>\n",
              "      <td>2887.955689</td>\n",
              "      <td>2925.592814</td>\n",
              "      <td>2963.926946</td>\n",
              "      <td>2996.868862</td>\n",
              "      <td>3033.159281</td>\n",
              "      <td>3074.385030</td>\n",
              "      <td>3117.393713</td>\n",
              "      <td>3165.641317</td>\n",
              "      <td>3218.805389</td>\n",
              "      <td>3268.730539</td>\n",
              "      <td>3309.431437</td>\n",
              "      <td>3356.682934</td>\n",
              "      <td>3404.758982</td>\n",
              "      <td>3455.810778</td>\n",
              "      <td>3512.108084</td>\n",
              "      <td>3570.646407</td>\n",
              "      <td>3623.968862</td>\n",
              "      <td>3666.725449</td>\n",
              "      <td>3718.077246</td>\n",
              "      <td>3769.870060</td>\n",
              "      <td>3824.147605</td>\n",
              "      <td>3857.277545</td>\n",
              "      <td>3918.808683</td>\n",
              "      <td>3965.479341</td>\n",
              "      <td>4006.986228</td>\n",
              "      <td>4054.247006</td>\n",
              "      <td>4108.329940</td>\n",
              "      <td>4168.237425</td>\n",
              "      <td>4233.406287</td>\n",
              "      <td>4301.609880</td>\n",
              "      <td>4365.641617</td>\n",
              "      <td>4418.228443</td>\n",
              "      <td>4475.838024</td>\n",
              "    </tr>\n",
              "    <tr>\n",
              "      <th>std</th>\n",
              "      <td>4.315345e+06</td>\n",
              "      <td>36.498055</td>\n",
              "      <td>18638.940791</td>\n",
              "      <td>9.062922</td>\n",
              "      <td>21.718982</td>\n",
              "      <td>0.017303</td>\n",
              "      <td>0.017303</td>\n",
              "      <td>0.024467</td>\n",
              "      <td>0.024467</td>\n",
              "      <td>0.038668</td>\n",
              "      <td>0.038668</td>\n",
              "      <td>0.038668</td>\n",
              "      <td>0.042352</td>\n",
              "      <td>0.042352</td>\n",
              "      <td>0.054673</td>\n",
              "      <td>0.054673</td>\n",
              "      <td>0.054673</td>\n",
              "      <td>0.071278</td>\n",
              "      <td>0.071278</td>\n",
              "      <td>0.071278</td>\n",
              "      <td>0.073334</td>\n",
              "      <td>0.073334</td>\n",
              "      <td>0.073334</td>\n",
              "      <td>0.073334</td>\n",
              "      <td>0.073334</td>\n",
              "      <td>0.075334</td>\n",
              "      <td>0.075334</td>\n",
              "      <td>0.081063</td>\n",
              "      <td>0.081063</td>\n",
              "      <td>0.081063</td>\n",
              "      <td>0.081063</td>\n",
              "      <td>0.081063</td>\n",
              "      <td>0.081063</td>\n",
              "      <td>0.081063</td>\n",
              "      <td>0.081063</td>\n",
              "      <td>0.084645</td>\n",
              "      <td>0.084645</td>\n",
              "      <td>0.084645</td>\n",
              "      <td>0.084645</td>\n",
              "      <td>0.084645</td>\n",
              "      <td>...</td>\n",
              "      <td>10207.094236</td>\n",
              "      <td>10273.983710</td>\n",
              "      <td>10342.083707</td>\n",
              "      <td>10414.225564</td>\n",
              "      <td>10484.670245</td>\n",
              "      <td>10558.110680</td>\n",
              "      <td>10637.583902</td>\n",
              "      <td>10736.238781</td>\n",
              "      <td>10843.137858</td>\n",
              "      <td>10944.778600</td>\n",
              "      <td>11023.106108</td>\n",
              "      <td>11132.864852</td>\n",
              "      <td>11242.477815</td>\n",
              "      <td>11350.863878</td>\n",
              "      <td>11474.226829</td>\n",
              "      <td>11612.340447</td>\n",
              "      <td>11742.925407</td>\n",
              "      <td>11873.340124</td>\n",
              "      <td>11998.391367</td>\n",
              "      <td>12121.650397</td>\n",
              "      <td>12257.061802</td>\n",
              "      <td>12431.570132</td>\n",
              "      <td>12592.567049</td>\n",
              "      <td>12752.853558</td>\n",
              "      <td>12878.983746</td>\n",
              "      <td>13033.597681</td>\n",
              "      <td>13185.053658</td>\n",
              "      <td>13345.357625</td>\n",
              "      <td>13462.841151</td>\n",
              "      <td>13627.128047</td>\n",
              "      <td>13754.439992</td>\n",
              "      <td>13899.842443</td>\n",
              "      <td>14038.988476</td>\n",
              "      <td>14240.891146</td>\n",
              "      <td>14419.718413</td>\n",
              "      <td>14634.842466</td>\n",
              "      <td>14852.116225</td>\n",
              "      <td>15071.952938</td>\n",
              "      <td>15291.758640</td>\n",
              "      <td>15477.533337</td>\n",
              "    </tr>\n",
              "    <tr>\n",
              "      <th>min</th>\n",
              "      <td>1.600000e+01</td>\n",
              "      <td>16.000000</td>\n",
              "      <td>60.000000</td>\n",
              "      <td>-14.271000</td>\n",
              "      <td>-174.159600</td>\n",
              "      <td>0.000000</td>\n",
              "      <td>0.000000</td>\n",
              "      <td>0.000000</td>\n",
              "      <td>0.000000</td>\n",
              "      <td>0.000000</td>\n",
              "      <td>0.000000</td>\n",
              "      <td>0.000000</td>\n",
              "      <td>0.000000</td>\n",
              "      <td>0.000000</td>\n",
              "      <td>0.000000</td>\n",
              "      <td>0.000000</td>\n",
              "      <td>0.000000</td>\n",
              "      <td>0.000000</td>\n",
              "      <td>0.000000</td>\n",
              "      <td>0.000000</td>\n",
              "      <td>0.000000</td>\n",
              "      <td>0.000000</td>\n",
              "      <td>0.000000</td>\n",
              "      <td>0.000000</td>\n",
              "      <td>0.000000</td>\n",
              "      <td>0.000000</td>\n",
              "      <td>0.000000</td>\n",
              "      <td>0.000000</td>\n",
              "      <td>0.000000</td>\n",
              "      <td>0.000000</td>\n",
              "      <td>0.000000</td>\n",
              "      <td>0.000000</td>\n",
              "      <td>0.000000</td>\n",
              "      <td>0.000000</td>\n",
              "      <td>0.000000</td>\n",
              "      <td>0.000000</td>\n",
              "      <td>0.000000</td>\n",
              "      <td>0.000000</td>\n",
              "      <td>0.000000</td>\n",
              "      <td>0.000000</td>\n",
              "      <td>...</td>\n",
              "      <td>0.000000</td>\n",
              "      <td>0.000000</td>\n",
              "      <td>0.000000</td>\n",
              "      <td>0.000000</td>\n",
              "      <td>0.000000</td>\n",
              "      <td>0.000000</td>\n",
              "      <td>0.000000</td>\n",
              "      <td>0.000000</td>\n",
              "      <td>0.000000</td>\n",
              "      <td>0.000000</td>\n",
              "      <td>0.000000</td>\n",
              "      <td>0.000000</td>\n",
              "      <td>0.000000</td>\n",
              "      <td>0.000000</td>\n",
              "      <td>0.000000</td>\n",
              "      <td>0.000000</td>\n",
              "      <td>0.000000</td>\n",
              "      <td>0.000000</td>\n",
              "      <td>0.000000</td>\n",
              "      <td>0.000000</td>\n",
              "      <td>0.000000</td>\n",
              "      <td>0.000000</td>\n",
              "      <td>0.000000</td>\n",
              "      <td>0.000000</td>\n",
              "      <td>0.000000</td>\n",
              "      <td>0.000000</td>\n",
              "      <td>0.000000</td>\n",
              "      <td>0.000000</td>\n",
              "      <td>0.000000</td>\n",
              "      <td>0.000000</td>\n",
              "      <td>0.000000</td>\n",
              "      <td>0.000000</td>\n",
              "      <td>0.000000</td>\n",
              "      <td>0.000000</td>\n",
              "      <td>0.000000</td>\n",
              "      <td>0.000000</td>\n",
              "      <td>0.000000</td>\n",
              "      <td>0.000000</td>\n",
              "      <td>0.000000</td>\n",
              "      <td>0.000000</td>\n",
              "    </tr>\n",
              "    <tr>\n",
              "      <th>25%</th>\n",
              "      <td>8.401811e+07</td>\n",
              "      <td>840.000000</td>\n",
              "      <td>19079.500000</td>\n",
              "      <td>33.895587</td>\n",
              "      <td>-97.790204</td>\n",
              "      <td>0.000000</td>\n",
              "      <td>0.000000</td>\n",
              "      <td>0.000000</td>\n",
              "      <td>0.000000</td>\n",
              "      <td>0.000000</td>\n",
              "      <td>0.000000</td>\n",
              "      <td>0.000000</td>\n",
              "      <td>0.000000</td>\n",
              "      <td>0.000000</td>\n",
              "      <td>0.000000</td>\n",
              "      <td>0.000000</td>\n",
              "      <td>0.000000</td>\n",
              "      <td>0.000000</td>\n",
              "      <td>0.000000</td>\n",
              "      <td>0.000000</td>\n",
              "      <td>0.000000</td>\n",
              "      <td>0.000000</td>\n",
              "      <td>0.000000</td>\n",
              "      <td>0.000000</td>\n",
              "      <td>0.000000</td>\n",
              "      <td>0.000000</td>\n",
              "      <td>0.000000</td>\n",
              "      <td>0.000000</td>\n",
              "      <td>0.000000</td>\n",
              "      <td>0.000000</td>\n",
              "      <td>0.000000</td>\n",
              "      <td>0.000000</td>\n",
              "      <td>0.000000</td>\n",
              "      <td>0.000000</td>\n",
              "      <td>0.000000</td>\n",
              "      <td>0.000000</td>\n",
              "      <td>0.000000</td>\n",
              "      <td>0.000000</td>\n",
              "      <td>0.000000</td>\n",
              "      <td>0.000000</td>\n",
              "      <td>...</td>\n",
              "      <td>193.750000</td>\n",
              "      <td>199.750000</td>\n",
              "      <td>202.750000</td>\n",
              "      <td>205.000000</td>\n",
              "      <td>210.000000</td>\n",
              "      <td>217.000000</td>\n",
              "      <td>222.750000</td>\n",
              "      <td>227.750000</td>\n",
              "      <td>232.750000</td>\n",
              "      <td>239.750000</td>\n",
              "      <td>245.750000</td>\n",
              "      <td>249.750000</td>\n",
              "      <td>254.750000</td>\n",
              "      <td>259.750000</td>\n",
              "      <td>266.750000</td>\n",
              "      <td>277.000000</td>\n",
              "      <td>284.750000</td>\n",
              "      <td>290.000000</td>\n",
              "      <td>297.000000</td>\n",
              "      <td>302.000000</td>\n",
              "      <td>309.750000</td>\n",
              "      <td>318.750000</td>\n",
              "      <td>324.750000</td>\n",
              "      <td>333.750000</td>\n",
              "      <td>338.000000</td>\n",
              "      <td>343.000000</td>\n",
              "      <td>351.000000</td>\n",
              "      <td>359.000000</td>\n",
              "      <td>361.750000</td>\n",
              "      <td>370.750000</td>\n",
              "      <td>375.750000</td>\n",
              "      <td>381.250000</td>\n",
              "      <td>386.000000</td>\n",
              "      <td>393.250000</td>\n",
              "      <td>400.750000</td>\n",
              "      <td>409.750000</td>\n",
              "      <td>417.000000</td>\n",
              "      <td>423.750000</td>\n",
              "      <td>428.750000</td>\n",
              "      <td>437.000000</td>\n",
              "    </tr>\n",
              "    <tr>\n",
              "      <th>50%</th>\n",
              "      <td>8.402921e+07</td>\n",
              "      <td>840.000000</td>\n",
              "      <td>31014.000000</td>\n",
              "      <td>38.002344</td>\n",
              "      <td>-89.486710</td>\n",
              "      <td>0.000000</td>\n",
              "      <td>0.000000</td>\n",
              "      <td>0.000000</td>\n",
              "      <td>0.000000</td>\n",
              "      <td>0.000000</td>\n",
              "      <td>0.000000</td>\n",
              "      <td>0.000000</td>\n",
              "      <td>0.000000</td>\n",
              "      <td>0.000000</td>\n",
              "      <td>0.000000</td>\n",
              "      <td>0.000000</td>\n",
              "      <td>0.000000</td>\n",
              "      <td>0.000000</td>\n",
              "      <td>0.000000</td>\n",
              "      <td>0.000000</td>\n",
              "      <td>0.000000</td>\n",
              "      <td>0.000000</td>\n",
              "      <td>0.000000</td>\n",
              "      <td>0.000000</td>\n",
              "      <td>0.000000</td>\n",
              "      <td>0.000000</td>\n",
              "      <td>0.000000</td>\n",
              "      <td>0.000000</td>\n",
              "      <td>0.000000</td>\n",
              "      <td>0.000000</td>\n",
              "      <td>0.000000</td>\n",
              "      <td>0.000000</td>\n",
              "      <td>0.000000</td>\n",
              "      <td>0.000000</td>\n",
              "      <td>0.000000</td>\n",
              "      <td>0.000000</td>\n",
              "      <td>0.000000</td>\n",
              "      <td>0.000000</td>\n",
              "      <td>0.000000</td>\n",
              "      <td>0.000000</td>\n",
              "      <td>...</td>\n",
              "      <td>570.000000</td>\n",
              "      <td>578.500000</td>\n",
              "      <td>589.000000</td>\n",
              "      <td>599.500000</td>\n",
              "      <td>607.500000</td>\n",
              "      <td>624.000000</td>\n",
              "      <td>632.000000</td>\n",
              "      <td>646.000000</td>\n",
              "      <td>659.500000</td>\n",
              "      <td>673.500000</td>\n",
              "      <td>682.000000</td>\n",
              "      <td>696.500000</td>\n",
              "      <td>708.000000</td>\n",
              "      <td>721.500000</td>\n",
              "      <td>742.000000</td>\n",
              "      <td>759.500000</td>\n",
              "      <td>774.000000</td>\n",
              "      <td>788.500000</td>\n",
              "      <td>800.500000</td>\n",
              "      <td>816.000000</td>\n",
              "      <td>827.500000</td>\n",
              "      <td>845.000000</td>\n",
              "      <td>873.000000</td>\n",
              "      <td>890.500000</td>\n",
              "      <td>896.500000</td>\n",
              "      <td>912.500000</td>\n",
              "      <td>924.500000</td>\n",
              "      <td>946.000000</td>\n",
              "      <td>956.000000</td>\n",
              "      <td>971.500000</td>\n",
              "      <td>981.500000</td>\n",
              "      <td>986.500000</td>\n",
              "      <td>995.000000</td>\n",
              "      <td>1011.500000</td>\n",
              "      <td>1037.000000</td>\n",
              "      <td>1062.000000</td>\n",
              "      <td>1079.000000</td>\n",
              "      <td>1093.000000</td>\n",
              "      <td>1100.000000</td>\n",
              "      <td>1112.500000</td>\n",
              "    </tr>\n",
              "    <tr>\n",
              "      <th>75%</th>\n",
              "      <td>8.404612e+07</td>\n",
              "      <td>840.000000</td>\n",
              "      <td>47130.500000</td>\n",
              "      <td>41.573069</td>\n",
              "      <td>-82.311265</td>\n",
              "      <td>0.000000</td>\n",
              "      <td>0.000000</td>\n",
              "      <td>0.000000</td>\n",
              "      <td>0.000000</td>\n",
              "      <td>0.000000</td>\n",
              "      <td>0.000000</td>\n",
              "      <td>0.000000</td>\n",
              "      <td>0.000000</td>\n",
              "      <td>0.000000</td>\n",
              "      <td>0.000000</td>\n",
              "      <td>0.000000</td>\n",
              "      <td>0.000000</td>\n",
              "      <td>0.000000</td>\n",
              "      <td>0.000000</td>\n",
              "      <td>0.000000</td>\n",
              "      <td>0.000000</td>\n",
              "      <td>0.000000</td>\n",
              "      <td>0.000000</td>\n",
              "      <td>0.000000</td>\n",
              "      <td>0.000000</td>\n",
              "      <td>0.000000</td>\n",
              "      <td>0.000000</td>\n",
              "      <td>0.000000</td>\n",
              "      <td>0.000000</td>\n",
              "      <td>0.000000</td>\n",
              "      <td>0.000000</td>\n",
              "      <td>0.000000</td>\n",
              "      <td>0.000000</td>\n",
              "      <td>0.000000</td>\n",
              "      <td>0.000000</td>\n",
              "      <td>0.000000</td>\n",
              "      <td>0.000000</td>\n",
              "      <td>0.000000</td>\n",
              "      <td>0.000000</td>\n",
              "      <td>0.000000</td>\n",
              "      <td>...</td>\n",
              "      <td>1647.500000</td>\n",
              "      <td>1666.750000</td>\n",
              "      <td>1683.500000</td>\n",
              "      <td>1702.250000</td>\n",
              "      <td>1724.500000</td>\n",
              "      <td>1745.500000</td>\n",
              "      <td>1767.750000</td>\n",
              "      <td>1800.250000</td>\n",
              "      <td>1834.250000</td>\n",
              "      <td>1856.000000</td>\n",
              "      <td>1890.000000</td>\n",
              "      <td>1917.750000</td>\n",
              "      <td>1957.500000</td>\n",
              "      <td>1982.750000</td>\n",
              "      <td>2026.250000</td>\n",
              "      <td>2056.250000</td>\n",
              "      <td>2100.000000</td>\n",
              "      <td>2128.750000</td>\n",
              "      <td>2167.500000</td>\n",
              "      <td>2193.500000</td>\n",
              "      <td>2226.750000</td>\n",
              "      <td>2272.250000</td>\n",
              "      <td>2328.000000</td>\n",
              "      <td>2369.500000</td>\n",
              "      <td>2399.250000</td>\n",
              "      <td>2428.250000</td>\n",
              "      <td>2465.000000</td>\n",
              "      <td>2521.750000</td>\n",
              "      <td>2535.250000</td>\n",
              "      <td>2592.250000</td>\n",
              "      <td>2614.000000</td>\n",
              "      <td>2637.500000</td>\n",
              "      <td>2672.000000</td>\n",
              "      <td>2699.250000</td>\n",
              "      <td>2740.500000</td>\n",
              "      <td>2790.500000</td>\n",
              "      <td>2837.250000</td>\n",
              "      <td>2882.500000</td>\n",
              "      <td>2937.500000</td>\n",
              "      <td>2968.000000</td>\n",
              "    </tr>\n",
              "    <tr>\n",
              "      <th>max</th>\n",
              "      <td>8.410000e+07</td>\n",
              "      <td>850.000000</td>\n",
              "      <td>99999.000000</td>\n",
              "      <td>69.314792</td>\n",
              "      <td>145.673900</td>\n",
              "      <td>1.000000</td>\n",
              "      <td>1.000000</td>\n",
              "      <td>1.000000</td>\n",
              "      <td>1.000000</td>\n",
              "      <td>1.000000</td>\n",
              "      <td>1.000000</td>\n",
              "      <td>1.000000</td>\n",
              "      <td>1.000000</td>\n",
              "      <td>1.000000</td>\n",
              "      <td>2.000000</td>\n",
              "      <td>2.000000</td>\n",
              "      <td>2.000000</td>\n",
              "      <td>2.000000</td>\n",
              "      <td>2.000000</td>\n",
              "      <td>2.000000</td>\n",
              "      <td>2.000000</td>\n",
              "      <td>2.000000</td>\n",
              "      <td>2.000000</td>\n",
              "      <td>2.000000</td>\n",
              "      <td>2.000000</td>\n",
              "      <td>2.000000</td>\n",
              "      <td>2.000000</td>\n",
              "      <td>2.000000</td>\n",
              "      <td>2.000000</td>\n",
              "      <td>2.000000</td>\n",
              "      <td>2.000000</td>\n",
              "      <td>2.000000</td>\n",
              "      <td>2.000000</td>\n",
              "      <td>2.000000</td>\n",
              "      <td>2.000000</td>\n",
              "      <td>2.000000</td>\n",
              "      <td>2.000000</td>\n",
              "      <td>2.000000</td>\n",
              "      <td>2.000000</td>\n",
              "      <td>2.000000</td>\n",
              "      <td>...</td>\n",
              "      <td>305070.000000</td>\n",
              "      <td>306327.000000</td>\n",
              "      <td>307618.000000</td>\n",
              "      <td>309190.000000</td>\n",
              "      <td>310595.000000</td>\n",
              "      <td>311745.000000</td>\n",
              "      <td>313526.000000</td>\n",
              "      <td>315564.000000</td>\n",
              "      <td>317656.000000</td>\n",
              "      <td>319977.000000</td>\n",
              "      <td>319977.000000</td>\n",
              "      <td>323625.000000</td>\n",
              "      <td>325876.000000</td>\n",
              "      <td>327964.000000</td>\n",
              "      <td>330450.000000</td>\n",
              "      <td>332865.000000</td>\n",
              "      <td>336549.000000</td>\n",
              "      <td>339560.000000</td>\n",
              "      <td>342343.000000</td>\n",
              "      <td>344523.000000</td>\n",
              "      <td>348336.000000</td>\n",
              "      <td>353232.000000</td>\n",
              "      <td>357451.000000</td>\n",
              "      <td>361869.000000</td>\n",
              "      <td>364520.000000</td>\n",
              "      <td>370636.000000</td>\n",
              "      <td>374134.000000</td>\n",
              "      <td>378323.000000</td>\n",
              "      <td>383275.000000</td>\n",
              "      <td>387793.000000</td>\n",
              "      <td>390891.000000</td>\n",
              "      <td>395843.000000</td>\n",
              "      <td>400919.000000</td>\n",
              "      <td>408396.000000</td>\n",
              "      <td>414185.000000</td>\n",
              "      <td>421881.000000</td>\n",
              "      <td>430583.000000</td>\n",
              "      <td>439408.000000</td>\n",
              "      <td>449851.000000</td>\n",
              "      <td>457880.000000</td>\n",
              "    </tr>\n",
              "  </tbody>\n",
              "</table>\n",
              "<p>8 rows × 326 columns</p>\n",
              "</div>"
            ],
            "text/plain": [
              "                UID        code3  ...        12/6/20        12/7/20\n",
              "count  3.340000e+03  3340.000000  ...    3340.000000    3340.000000\n",
              "mean   8.342958e+07   834.491617  ...    4418.228443    4475.838024\n",
              "std    4.315345e+06    36.498055  ...   15291.758640   15477.533337\n",
              "min    1.600000e+01    16.000000  ...       0.000000       0.000000\n",
              "25%    8.401811e+07   840.000000  ...     428.750000     437.000000\n",
              "50%    8.402921e+07   840.000000  ...    1100.000000    1112.500000\n",
              "75%    8.404612e+07   840.000000  ...    2937.500000    2968.000000\n",
              "max    8.410000e+07   850.000000  ...  449851.000000  457880.000000\n",
              "\n",
              "[8 rows x 326 columns]"
            ]
          },
          "metadata": {
            "tags": []
          },
          "execution_count": 7
        }
      ]
    },
    {
      "cell_type": "code",
      "metadata": {
        "id": "yKkSrchD7UfR",
        "colab": {
          "base_uri": "https://localhost:8080/"
        },
        "outputId": "9496183d-e244-49be-b9bf-cdec914cee7a"
      },
      "source": [
        "cu_df.isnull().sum().sum()"
      ],
      "execution_count": null,
      "outputs": [
        {
          "output_type": "execute_result",
          "data": {
            "text/plain": [
              "16"
            ]
          },
          "metadata": {
            "tags": []
          },
          "execution_count": 8
        }
      ]
    },
    {
      "cell_type": "markdown",
      "metadata": {
        "id": "rKDjnhIaaTyq"
      },
      "source": [
        "This is the end of the initial exploration of the data, further modifications will be performed in Reshaping the Covid-19 data frames"
      ]
    },
    {
      "cell_type": "markdown",
      "metadata": {
        "id": "mCch5ZSSBWv7"
      },
      "source": [
        "# Global Covid-19 data load and explore\n"
      ]
    },
    {
      "cell_type": "code",
      "metadata": {
        "id": "bESxOeuW2cgS"
      },
      "source": [
        "# Load in the files\n",
        "#cg_df = Confimed Global\n",
        "cg_df = pd.read_csv('https://raw.githubusercontent.com/cdcosby/Capstone/main/coviddata/time_series_covid19_confirmed_global.csv')"
      ],
      "execution_count": null,
      "outputs": []
    },
    {
      "cell_type": "code",
      "metadata": {
        "colab": {
          "base_uri": "https://localhost:8080/",
          "height": 247
        },
        "id": "g9bfjtEaBpI0",
        "outputId": "6a5489db-d278-4bcb-d559-72831c2dd0d8"
      },
      "source": [
        "# explore the data\n",
        "cg_df.head()\n"
      ],
      "execution_count": null,
      "outputs": [
        {
          "output_type": "execute_result",
          "data": {
            "text/html": [
              "<div>\n",
              "<style scoped>\n",
              "    .dataframe tbody tr th:only-of-type {\n",
              "        vertical-align: middle;\n",
              "    }\n",
              "\n",
              "    .dataframe tbody tr th {\n",
              "        vertical-align: top;\n",
              "    }\n",
              "\n",
              "    .dataframe thead th {\n",
              "        text-align: right;\n",
              "    }\n",
              "</style>\n",
              "<table border=\"1\" class=\"dataframe\">\n",
              "  <thead>\n",
              "    <tr style=\"text-align: right;\">\n",
              "      <th></th>\n",
              "      <th>Province/State</th>\n",
              "      <th>Country/Region</th>\n",
              "      <th>Lat</th>\n",
              "      <th>Long</th>\n",
              "      <th>1/22/20</th>\n",
              "      <th>1/23/20</th>\n",
              "      <th>1/24/20</th>\n",
              "      <th>1/25/20</th>\n",
              "      <th>1/26/20</th>\n",
              "      <th>1/27/20</th>\n",
              "      <th>1/28/20</th>\n",
              "      <th>1/29/20</th>\n",
              "      <th>1/30/20</th>\n",
              "      <th>1/31/20</th>\n",
              "      <th>2/1/20</th>\n",
              "      <th>2/2/20</th>\n",
              "      <th>2/3/20</th>\n",
              "      <th>2/4/20</th>\n",
              "      <th>2/5/20</th>\n",
              "      <th>2/6/20</th>\n",
              "      <th>2/7/20</th>\n",
              "      <th>2/8/20</th>\n",
              "      <th>2/9/20</th>\n",
              "      <th>2/10/20</th>\n",
              "      <th>2/11/20</th>\n",
              "      <th>2/12/20</th>\n",
              "      <th>2/13/20</th>\n",
              "      <th>2/14/20</th>\n",
              "      <th>2/15/20</th>\n",
              "      <th>2/16/20</th>\n",
              "      <th>2/17/20</th>\n",
              "      <th>2/18/20</th>\n",
              "      <th>2/19/20</th>\n",
              "      <th>2/20/20</th>\n",
              "      <th>2/21/20</th>\n",
              "      <th>2/22/20</th>\n",
              "      <th>2/23/20</th>\n",
              "      <th>2/24/20</th>\n",
              "      <th>2/25/20</th>\n",
              "      <th>2/26/20</th>\n",
              "      <th>...</th>\n",
              "      <th>11/21/20</th>\n",
              "      <th>11/22/20</th>\n",
              "      <th>11/23/20</th>\n",
              "      <th>11/24/20</th>\n",
              "      <th>11/25/20</th>\n",
              "      <th>11/26/20</th>\n",
              "      <th>11/27/20</th>\n",
              "      <th>11/28/20</th>\n",
              "      <th>11/29/20</th>\n",
              "      <th>11/30/20</th>\n",
              "      <th>12/1/20</th>\n",
              "      <th>12/2/20</th>\n",
              "      <th>12/3/20</th>\n",
              "      <th>12/4/20</th>\n",
              "      <th>12/5/20</th>\n",
              "      <th>12/6/20</th>\n",
              "      <th>12/7/20</th>\n",
              "      <th>12/8/20</th>\n",
              "      <th>12/9/20</th>\n",
              "      <th>12/10/20</th>\n",
              "      <th>12/11/20</th>\n",
              "      <th>12/12/20</th>\n",
              "      <th>12/13/20</th>\n",
              "      <th>12/14/20</th>\n",
              "      <th>12/15/20</th>\n",
              "      <th>12/16/20</th>\n",
              "      <th>12/17/20</th>\n",
              "      <th>12/18/20</th>\n",
              "      <th>12/19/20</th>\n",
              "      <th>12/20/20</th>\n",
              "      <th>12/21/20</th>\n",
              "      <th>12/22/20</th>\n",
              "      <th>12/23/20</th>\n",
              "      <th>12/24/20</th>\n",
              "      <th>12/25/20</th>\n",
              "      <th>12/26/20</th>\n",
              "      <th>12/27/20</th>\n",
              "      <th>12/28/20</th>\n",
              "      <th>12/29/20</th>\n",
              "      <th>12/30/20</th>\n",
              "    </tr>\n",
              "  </thead>\n",
              "  <tbody>\n",
              "    <tr>\n",
              "      <th>0</th>\n",
              "      <td>NaN</td>\n",
              "      <td>Afghanistan</td>\n",
              "      <td>33.93911</td>\n",
              "      <td>67.709953</td>\n",
              "      <td>0</td>\n",
              "      <td>0</td>\n",
              "      <td>0</td>\n",
              "      <td>0</td>\n",
              "      <td>0</td>\n",
              "      <td>0</td>\n",
              "      <td>0</td>\n",
              "      <td>0</td>\n",
              "      <td>0</td>\n",
              "      <td>0</td>\n",
              "      <td>0</td>\n",
              "      <td>0</td>\n",
              "      <td>0</td>\n",
              "      <td>0</td>\n",
              "      <td>0</td>\n",
              "      <td>0</td>\n",
              "      <td>0</td>\n",
              "      <td>0</td>\n",
              "      <td>0</td>\n",
              "      <td>0</td>\n",
              "      <td>0</td>\n",
              "      <td>0</td>\n",
              "      <td>0</td>\n",
              "      <td>0</td>\n",
              "      <td>0</td>\n",
              "      <td>0</td>\n",
              "      <td>0</td>\n",
              "      <td>0</td>\n",
              "      <td>0</td>\n",
              "      <td>0</td>\n",
              "      <td>0</td>\n",
              "      <td>0</td>\n",
              "      <td>0</td>\n",
              "      <td>1</td>\n",
              "      <td>1</td>\n",
              "      <td>1</td>\n",
              "      <td>...</td>\n",
              "      <td>44503</td>\n",
              "      <td>44706</td>\n",
              "      <td>44988</td>\n",
              "      <td>45174</td>\n",
              "      <td>45384</td>\n",
              "      <td>45600</td>\n",
              "      <td>45723</td>\n",
              "      <td>45844</td>\n",
              "      <td>46116</td>\n",
              "      <td>46274</td>\n",
              "      <td>46516</td>\n",
              "      <td>46718</td>\n",
              "      <td>46837</td>\n",
              "      <td>46837</td>\n",
              "      <td>47072</td>\n",
              "      <td>47306</td>\n",
              "      <td>47516</td>\n",
              "      <td>47716</td>\n",
              "      <td>47851</td>\n",
              "      <td>48053</td>\n",
              "      <td>48116</td>\n",
              "      <td>48229</td>\n",
              "      <td>48527</td>\n",
              "      <td>48718</td>\n",
              "      <td>48952</td>\n",
              "      <td>49161</td>\n",
              "      <td>49378</td>\n",
              "      <td>49621</td>\n",
              "      <td>49681</td>\n",
              "      <td>49817</td>\n",
              "      <td>50013</td>\n",
              "      <td>50190</td>\n",
              "      <td>50433</td>\n",
              "      <td>50655</td>\n",
              "      <td>50810</td>\n",
              "      <td>50886</td>\n",
              "      <td>51039</td>\n",
              "      <td>51280</td>\n",
              "      <td>51350</td>\n",
              "      <td>51405</td>\n",
              "    </tr>\n",
              "    <tr>\n",
              "      <th>1</th>\n",
              "      <td>NaN</td>\n",
              "      <td>Albania</td>\n",
              "      <td>41.15330</td>\n",
              "      <td>20.168300</td>\n",
              "      <td>0</td>\n",
              "      <td>0</td>\n",
              "      <td>0</td>\n",
              "      <td>0</td>\n",
              "      <td>0</td>\n",
              "      <td>0</td>\n",
              "      <td>0</td>\n",
              "      <td>0</td>\n",
              "      <td>0</td>\n",
              "      <td>0</td>\n",
              "      <td>0</td>\n",
              "      <td>0</td>\n",
              "      <td>0</td>\n",
              "      <td>0</td>\n",
              "      <td>0</td>\n",
              "      <td>0</td>\n",
              "      <td>0</td>\n",
              "      <td>0</td>\n",
              "      <td>0</td>\n",
              "      <td>0</td>\n",
              "      <td>0</td>\n",
              "      <td>0</td>\n",
              "      <td>0</td>\n",
              "      <td>0</td>\n",
              "      <td>0</td>\n",
              "      <td>0</td>\n",
              "      <td>0</td>\n",
              "      <td>0</td>\n",
              "      <td>0</td>\n",
              "      <td>0</td>\n",
              "      <td>0</td>\n",
              "      <td>0</td>\n",
              "      <td>0</td>\n",
              "      <td>0</td>\n",
              "      <td>0</td>\n",
              "      <td>0</td>\n",
              "      <td>...</td>\n",
              "      <td>32196</td>\n",
              "      <td>32761</td>\n",
              "      <td>33556</td>\n",
              "      <td>34300</td>\n",
              "      <td>34944</td>\n",
              "      <td>35600</td>\n",
              "      <td>36245</td>\n",
              "      <td>36790</td>\n",
              "      <td>37625</td>\n",
              "      <td>38182</td>\n",
              "      <td>39014</td>\n",
              "      <td>39719</td>\n",
              "      <td>40501</td>\n",
              "      <td>41302</td>\n",
              "      <td>42148</td>\n",
              "      <td>42988</td>\n",
              "      <td>43683</td>\n",
              "      <td>44436</td>\n",
              "      <td>45188</td>\n",
              "      <td>46061</td>\n",
              "      <td>46863</td>\n",
              "      <td>47742</td>\n",
              "      <td>48530</td>\n",
              "      <td>49191</td>\n",
              "      <td>50000</td>\n",
              "      <td>50637</td>\n",
              "      <td>51424</td>\n",
              "      <td>52004</td>\n",
              "      <td>52542</td>\n",
              "      <td>53003</td>\n",
              "      <td>53425</td>\n",
              "      <td>53814</td>\n",
              "      <td>54317</td>\n",
              "      <td>54827</td>\n",
              "      <td>55380</td>\n",
              "      <td>55755</td>\n",
              "      <td>56254</td>\n",
              "      <td>56572</td>\n",
              "      <td>57146</td>\n",
              "      <td>57727</td>\n",
              "    </tr>\n",
              "    <tr>\n",
              "      <th>2</th>\n",
              "      <td>NaN</td>\n",
              "      <td>Algeria</td>\n",
              "      <td>28.03390</td>\n",
              "      <td>1.659600</td>\n",
              "      <td>0</td>\n",
              "      <td>0</td>\n",
              "      <td>0</td>\n",
              "      <td>0</td>\n",
              "      <td>0</td>\n",
              "      <td>0</td>\n",
              "      <td>0</td>\n",
              "      <td>0</td>\n",
              "      <td>0</td>\n",
              "      <td>0</td>\n",
              "      <td>0</td>\n",
              "      <td>0</td>\n",
              "      <td>0</td>\n",
              "      <td>0</td>\n",
              "      <td>0</td>\n",
              "      <td>0</td>\n",
              "      <td>0</td>\n",
              "      <td>0</td>\n",
              "      <td>0</td>\n",
              "      <td>0</td>\n",
              "      <td>0</td>\n",
              "      <td>0</td>\n",
              "      <td>0</td>\n",
              "      <td>0</td>\n",
              "      <td>0</td>\n",
              "      <td>0</td>\n",
              "      <td>0</td>\n",
              "      <td>0</td>\n",
              "      <td>0</td>\n",
              "      <td>0</td>\n",
              "      <td>0</td>\n",
              "      <td>0</td>\n",
              "      <td>0</td>\n",
              "      <td>0</td>\n",
              "      <td>1</td>\n",
              "      <td>1</td>\n",
              "      <td>...</td>\n",
              "      <td>73774</td>\n",
              "      <td>74862</td>\n",
              "      <td>75867</td>\n",
              "      <td>77000</td>\n",
              "      <td>78025</td>\n",
              "      <td>79110</td>\n",
              "      <td>80168</td>\n",
              "      <td>81212</td>\n",
              "      <td>82221</td>\n",
              "      <td>83199</td>\n",
              "      <td>84152</td>\n",
              "      <td>85084</td>\n",
              "      <td>85927</td>\n",
              "      <td>86730</td>\n",
              "      <td>87502</td>\n",
              "      <td>88252</td>\n",
              "      <td>88825</td>\n",
              "      <td>89416</td>\n",
              "      <td>90014</td>\n",
              "      <td>90579</td>\n",
              "      <td>91121</td>\n",
              "      <td>91638</td>\n",
              "      <td>92102</td>\n",
              "      <td>92597</td>\n",
              "      <td>93065</td>\n",
              "      <td>93507</td>\n",
              "      <td>93933</td>\n",
              "      <td>94371</td>\n",
              "      <td>94781</td>\n",
              "      <td>95203</td>\n",
              "      <td>95659</td>\n",
              "      <td>96069</td>\n",
              "      <td>96549</td>\n",
              "      <td>97007</td>\n",
              "      <td>97441</td>\n",
              "      <td>97857</td>\n",
              "      <td>98249</td>\n",
              "      <td>98631</td>\n",
              "      <td>98988</td>\n",
              "      <td>99311</td>\n",
              "    </tr>\n",
              "    <tr>\n",
              "      <th>3</th>\n",
              "      <td>NaN</td>\n",
              "      <td>Andorra</td>\n",
              "      <td>42.50630</td>\n",
              "      <td>1.521800</td>\n",
              "      <td>0</td>\n",
              "      <td>0</td>\n",
              "      <td>0</td>\n",
              "      <td>0</td>\n",
              "      <td>0</td>\n",
              "      <td>0</td>\n",
              "      <td>0</td>\n",
              "      <td>0</td>\n",
              "      <td>0</td>\n",
              "      <td>0</td>\n",
              "      <td>0</td>\n",
              "      <td>0</td>\n",
              "      <td>0</td>\n",
              "      <td>0</td>\n",
              "      <td>0</td>\n",
              "      <td>0</td>\n",
              "      <td>0</td>\n",
              "      <td>0</td>\n",
              "      <td>0</td>\n",
              "      <td>0</td>\n",
              "      <td>0</td>\n",
              "      <td>0</td>\n",
              "      <td>0</td>\n",
              "      <td>0</td>\n",
              "      <td>0</td>\n",
              "      <td>0</td>\n",
              "      <td>0</td>\n",
              "      <td>0</td>\n",
              "      <td>0</td>\n",
              "      <td>0</td>\n",
              "      <td>0</td>\n",
              "      <td>0</td>\n",
              "      <td>0</td>\n",
              "      <td>0</td>\n",
              "      <td>0</td>\n",
              "      <td>0</td>\n",
              "      <td>...</td>\n",
              "      <td>6207</td>\n",
              "      <td>6256</td>\n",
              "      <td>6304</td>\n",
              "      <td>6351</td>\n",
              "      <td>6428</td>\n",
              "      <td>6534</td>\n",
              "      <td>6610</td>\n",
              "      <td>6610</td>\n",
              "      <td>6712</td>\n",
              "      <td>6745</td>\n",
              "      <td>6790</td>\n",
              "      <td>6842</td>\n",
              "      <td>6904</td>\n",
              "      <td>6955</td>\n",
              "      <td>7005</td>\n",
              "      <td>7050</td>\n",
              "      <td>7084</td>\n",
              "      <td>7127</td>\n",
              "      <td>7162</td>\n",
              "      <td>7190</td>\n",
              "      <td>7236</td>\n",
              "      <td>7288</td>\n",
              "      <td>7338</td>\n",
              "      <td>7382</td>\n",
              "      <td>7382</td>\n",
              "      <td>7446</td>\n",
              "      <td>7466</td>\n",
              "      <td>7519</td>\n",
              "      <td>7560</td>\n",
              "      <td>7577</td>\n",
              "      <td>7602</td>\n",
              "      <td>7633</td>\n",
              "      <td>7669</td>\n",
              "      <td>7699</td>\n",
              "      <td>7756</td>\n",
              "      <td>7806</td>\n",
              "      <td>7821</td>\n",
              "      <td>7875</td>\n",
              "      <td>7919</td>\n",
              "      <td>7983</td>\n",
              "    </tr>\n",
              "    <tr>\n",
              "      <th>4</th>\n",
              "      <td>NaN</td>\n",
              "      <td>Angola</td>\n",
              "      <td>-11.20270</td>\n",
              "      <td>17.873900</td>\n",
              "      <td>0</td>\n",
              "      <td>0</td>\n",
              "      <td>0</td>\n",
              "      <td>0</td>\n",
              "      <td>0</td>\n",
              "      <td>0</td>\n",
              "      <td>0</td>\n",
              "      <td>0</td>\n",
              "      <td>0</td>\n",
              "      <td>0</td>\n",
              "      <td>0</td>\n",
              "      <td>0</td>\n",
              "      <td>0</td>\n",
              "      <td>0</td>\n",
              "      <td>0</td>\n",
              "      <td>0</td>\n",
              "      <td>0</td>\n",
              "      <td>0</td>\n",
              "      <td>0</td>\n",
              "      <td>0</td>\n",
              "      <td>0</td>\n",
              "      <td>0</td>\n",
              "      <td>0</td>\n",
              "      <td>0</td>\n",
              "      <td>0</td>\n",
              "      <td>0</td>\n",
              "      <td>0</td>\n",
              "      <td>0</td>\n",
              "      <td>0</td>\n",
              "      <td>0</td>\n",
              "      <td>0</td>\n",
              "      <td>0</td>\n",
              "      <td>0</td>\n",
              "      <td>0</td>\n",
              "      <td>0</td>\n",
              "      <td>0</td>\n",
              "      <td>...</td>\n",
              "      <td>14413</td>\n",
              "      <td>14493</td>\n",
              "      <td>14634</td>\n",
              "      <td>14742</td>\n",
              "      <td>14821</td>\n",
              "      <td>14920</td>\n",
              "      <td>15008</td>\n",
              "      <td>15087</td>\n",
              "      <td>15103</td>\n",
              "      <td>15139</td>\n",
              "      <td>15251</td>\n",
              "      <td>15319</td>\n",
              "      <td>15361</td>\n",
              "      <td>15493</td>\n",
              "      <td>15536</td>\n",
              "      <td>15591</td>\n",
              "      <td>15648</td>\n",
              "      <td>15729</td>\n",
              "      <td>15804</td>\n",
              "      <td>15925</td>\n",
              "      <td>16061</td>\n",
              "      <td>16161</td>\n",
              "      <td>16188</td>\n",
              "      <td>16277</td>\n",
              "      <td>16362</td>\n",
              "      <td>16407</td>\n",
              "      <td>16484</td>\n",
              "      <td>16562</td>\n",
              "      <td>16626</td>\n",
              "      <td>16644</td>\n",
              "      <td>16686</td>\n",
              "      <td>16802</td>\n",
              "      <td>16931</td>\n",
              "      <td>17029</td>\n",
              "      <td>17099</td>\n",
              "      <td>17149</td>\n",
              "      <td>17240</td>\n",
              "      <td>17296</td>\n",
              "      <td>17371</td>\n",
              "      <td>17433</td>\n",
              "    </tr>\n",
              "  </tbody>\n",
              "</table>\n",
              "<p>5 rows × 348 columns</p>\n",
              "</div>"
            ],
            "text/plain": [
              "  Province/State Country/Region       Lat  ...  12/28/20  12/29/20  12/30/20\n",
              "0            NaN    Afghanistan  33.93911  ...     51280     51350     51405\n",
              "1            NaN        Albania  41.15330  ...     56572     57146     57727\n",
              "2            NaN        Algeria  28.03390  ...     98631     98988     99311\n",
              "3            NaN        Andorra  42.50630  ...      7875      7919      7983\n",
              "4            NaN         Angola -11.20270  ...     17296     17371     17433\n",
              "\n",
              "[5 rows x 348 columns]"
            ]
          },
          "metadata": {
            "tags": []
          },
          "execution_count": 10
        }
      ]
    },
    {
      "cell_type": "code",
      "metadata": {
        "id": "rVy6uymNCTw0",
        "colab": {
          "base_uri": "https://localhost:8080/"
        },
        "outputId": "064d9248-735b-46a1-ee60-58b015501957"
      },
      "source": [
        "cg_df.info(5)"
      ],
      "execution_count": null,
      "outputs": [
        {
          "output_type": "stream",
          "text": [
            "<class 'pandas.core.frame.DataFrame'>\n",
            "RangeIndex: 271 entries, 0 to 270\n",
            "Data columns (total 348 columns):\n",
            " #   Column          Dtype  \n",
            "---  ------          -----  \n",
            " 0   Province/State  object \n",
            " 1   Country/Region  object \n",
            " 2   Lat             float64\n",
            " 3   Long            float64\n",
            " 4   1/22/20         int64  \n",
            " 5   1/23/20         int64  \n",
            " 6   1/24/20         int64  \n",
            " 7   1/25/20         int64  \n",
            " 8   1/26/20         int64  \n",
            " 9   1/27/20         int64  \n",
            " 10  1/28/20         int64  \n",
            " 11  1/29/20         int64  \n",
            " 12  1/30/20         int64  \n",
            " 13  1/31/20         int64  \n",
            " 14  2/1/20          int64  \n",
            " 15  2/2/20          int64  \n",
            " 16  2/3/20          int64  \n",
            " 17  2/4/20          int64  \n",
            " 18  2/5/20          int64  \n",
            " 19  2/6/20          int64  \n",
            " 20  2/7/20          int64  \n",
            " 21  2/8/20          int64  \n",
            " 22  2/9/20          int64  \n",
            " 23  2/10/20         int64  \n",
            " 24  2/11/20         int64  \n",
            " 25  2/12/20         int64  \n",
            " 26  2/13/20         int64  \n",
            " 27  2/14/20         int64  \n",
            " 28  2/15/20         int64  \n",
            " 29  2/16/20         int64  \n",
            " 30  2/17/20         int64  \n",
            " 31  2/18/20         int64  \n",
            " 32  2/19/20         int64  \n",
            " 33  2/20/20         int64  \n",
            " 34  2/21/20         int64  \n",
            " 35  2/22/20         int64  \n",
            " 36  2/23/20         int64  \n",
            " 37  2/24/20         int64  \n",
            " 38  2/25/20         int64  \n",
            " 39  2/26/20         int64  \n",
            " 40  2/27/20         int64  \n",
            " 41  2/28/20         int64  \n",
            " 42  2/29/20         int64  \n",
            " 43  3/1/20          int64  \n",
            " 44  3/2/20          int64  \n",
            " 45  3/3/20          int64  \n",
            " 46  3/4/20          int64  \n",
            " 47  3/5/20          int64  \n",
            " 48  3/6/20          int64  \n",
            " 49  3/7/20          int64  \n",
            " 50  3/8/20          int64  \n",
            " 51  3/9/20          int64  \n",
            " 52  3/10/20         int64  \n",
            " 53  3/11/20         int64  \n",
            " 54  3/12/20         int64  \n",
            " 55  3/13/20         int64  \n",
            " 56  3/14/20         int64  \n",
            " 57  3/15/20         int64  \n",
            " 58  3/16/20         int64  \n",
            " 59  3/17/20         int64  \n",
            " 60  3/18/20         int64  \n",
            " 61  3/19/20         int64  \n",
            " 62  3/20/20         int64  \n",
            " 63  3/21/20         int64  \n",
            " 64  3/22/20         int64  \n",
            " 65  3/23/20         int64  \n",
            " 66  3/24/20         int64  \n",
            " 67  3/25/20         int64  \n",
            " 68  3/26/20         int64  \n",
            " 69  3/27/20         int64  \n",
            " 70  3/28/20         int64  \n",
            " 71  3/29/20         int64  \n",
            " 72  3/30/20         int64  \n",
            " 73  3/31/20         int64  \n",
            " 74  4/1/20          int64  \n",
            " 75  4/2/20          int64  \n",
            " 76  4/3/20          int64  \n",
            " 77  4/4/20          int64  \n",
            " 78  4/5/20          int64  \n",
            " 79  4/6/20          int64  \n",
            " 80  4/7/20          int64  \n",
            " 81  4/8/20          int64  \n",
            " 82  4/9/20          int64  \n",
            " 83  4/10/20         int64  \n",
            " 84  4/11/20         int64  \n",
            " 85  4/12/20         int64  \n",
            " 86  4/13/20         int64  \n",
            " 87  4/14/20         int64  \n",
            " 88  4/15/20         int64  \n",
            " 89  4/16/20         int64  \n",
            " 90  4/17/20         int64  \n",
            " 91  4/18/20         int64  \n",
            " 92  4/19/20         int64  \n",
            " 93  4/20/20         int64  \n",
            " 94  4/21/20         int64  \n",
            " 95  4/22/20         int64  \n",
            " 96  4/23/20         int64  \n",
            " 97  4/24/20         int64  \n",
            " 98  4/25/20         int64  \n",
            " 99  4/26/20         int64  \n",
            " 100 4/27/20         int64  \n",
            " 101 4/28/20         int64  \n",
            " 102 4/29/20         int64  \n",
            " 103 4/30/20         int64  \n",
            " 104 5/1/20          int64  \n",
            " 105 5/2/20          int64  \n",
            " 106 5/3/20          int64  \n",
            " 107 5/4/20          int64  \n",
            " 108 5/5/20          int64  \n",
            " 109 5/6/20          int64  \n",
            " 110 5/7/20          int64  \n",
            " 111 5/8/20          int64  \n",
            " 112 5/9/20          int64  \n",
            " 113 5/10/20         int64  \n",
            " 114 5/11/20         int64  \n",
            " 115 5/12/20         int64  \n",
            " 116 5/13/20         int64  \n",
            " 117 5/14/20         int64  \n",
            " 118 5/15/20         int64  \n",
            " 119 5/16/20         int64  \n",
            " 120 5/17/20         int64  \n",
            " 121 5/18/20         int64  \n",
            " 122 5/19/20         int64  \n",
            " 123 5/20/20         int64  \n",
            " 124 5/21/20         int64  \n",
            " 125 5/22/20         int64  \n",
            " 126 5/23/20         int64  \n",
            " 127 5/24/20         int64  \n",
            " 128 5/25/20         int64  \n",
            " 129 5/26/20         int64  \n",
            " 130 5/27/20         int64  \n",
            " 131 5/28/20         int64  \n",
            " 132 5/29/20         int64  \n",
            " 133 5/30/20         int64  \n",
            " 134 5/31/20         int64  \n",
            " 135 6/1/20          int64  \n",
            " 136 6/2/20          int64  \n",
            " 137 6/3/20          int64  \n",
            " 138 6/4/20          int64  \n",
            " 139 6/5/20          int64  \n",
            " 140 6/6/20          int64  \n",
            " 141 6/7/20          int64  \n",
            " 142 6/8/20          int64  \n",
            " 143 6/9/20          int64  \n",
            " 144 6/10/20         int64  \n",
            " 145 6/11/20         int64  \n",
            " 146 6/12/20         int64  \n",
            " 147 6/13/20         int64  \n",
            " 148 6/14/20         int64  \n",
            " 149 6/15/20         int64  \n",
            " 150 6/16/20         int64  \n",
            " 151 6/17/20         int64  \n",
            " 152 6/18/20         int64  \n",
            " 153 6/19/20         int64  \n",
            " 154 6/20/20         int64  \n",
            " 155 6/21/20         int64  \n",
            " 156 6/22/20         int64  \n",
            " 157 6/23/20         int64  \n",
            " 158 6/24/20         int64  \n",
            " 159 6/25/20         int64  \n",
            " 160 6/26/20         int64  \n",
            " 161 6/27/20         int64  \n",
            " 162 6/28/20         int64  \n",
            " 163 6/29/20         int64  \n",
            " 164 6/30/20         int64  \n",
            " 165 7/1/20          int64  \n",
            " 166 7/2/20          int64  \n",
            " 167 7/3/20          int64  \n",
            " 168 7/4/20          int64  \n",
            " 169 7/5/20          int64  \n",
            " 170 7/6/20          int64  \n",
            " 171 7/7/20          int64  \n",
            " 172 7/8/20          int64  \n",
            " 173 7/9/20          int64  \n",
            " 174 7/10/20         int64  \n",
            " 175 7/11/20         int64  \n",
            " 176 7/12/20         int64  \n",
            " 177 7/13/20         int64  \n",
            " 178 7/14/20         int64  \n",
            " 179 7/15/20         int64  \n",
            " 180 7/16/20         int64  \n",
            " 181 7/17/20         int64  \n",
            " 182 7/18/20         int64  \n",
            " 183 7/19/20         int64  \n",
            " 184 7/20/20         int64  \n",
            " 185 7/21/20         int64  \n",
            " 186 7/22/20         int64  \n",
            " 187 7/23/20         int64  \n",
            " 188 7/24/20         int64  \n",
            " 189 7/25/20         int64  \n",
            " 190 7/26/20         int64  \n",
            " 191 7/27/20         int64  \n",
            " 192 7/28/20         int64  \n",
            " 193 7/29/20         int64  \n",
            " 194 7/30/20         int64  \n",
            " 195 7/31/20         int64  \n",
            " 196 8/1/20          int64  \n",
            " 197 8/2/20          int64  \n",
            " 198 8/3/20          int64  \n",
            " 199 8/4/20          int64  \n",
            " 200 8/5/20          int64  \n",
            " 201 8/6/20          int64  \n",
            " 202 8/7/20          int64  \n",
            " 203 8/8/20          int64  \n",
            " 204 8/9/20          int64  \n",
            " 205 8/10/20         int64  \n",
            " 206 8/11/20         int64  \n",
            " 207 8/12/20         int64  \n",
            " 208 8/13/20         int64  \n",
            " 209 8/14/20         int64  \n",
            " 210 8/15/20         int64  \n",
            " 211 8/16/20         int64  \n",
            " 212 8/17/20         int64  \n",
            " 213 8/18/20         int64  \n",
            " 214 8/19/20         int64  \n",
            " 215 8/20/20         int64  \n",
            " 216 8/21/20         int64  \n",
            " 217 8/22/20         int64  \n",
            " 218 8/23/20         int64  \n",
            " 219 8/24/20         int64  \n",
            " 220 8/25/20         int64  \n",
            " 221 8/26/20         int64  \n",
            " 222 8/27/20         int64  \n",
            " 223 8/28/20         int64  \n",
            " 224 8/29/20         int64  \n",
            " 225 8/30/20         int64  \n",
            " 226 8/31/20         int64  \n",
            " 227 9/1/20          int64  \n",
            " 228 9/2/20          int64  \n",
            " 229 9/3/20          int64  \n",
            " 230 9/4/20          int64  \n",
            " 231 9/5/20          int64  \n",
            " 232 9/6/20          int64  \n",
            " 233 9/7/20          int64  \n",
            " 234 9/8/20          int64  \n",
            " 235 9/9/20          int64  \n",
            " 236 9/10/20         int64  \n",
            " 237 9/11/20         int64  \n",
            " 238 9/12/20         int64  \n",
            " 239 9/13/20         int64  \n",
            " 240 9/14/20         int64  \n",
            " 241 9/15/20         int64  \n",
            " 242 9/16/20         int64  \n",
            " 243 9/17/20         int64  \n",
            " 244 9/18/20         int64  \n",
            " 245 9/19/20         int64  \n",
            " 246 9/20/20         int64  \n",
            " 247 9/21/20         int64  \n",
            " 248 9/22/20         int64  \n",
            " 249 9/23/20         int64  \n",
            " 250 9/24/20         int64  \n",
            " 251 9/25/20         int64  \n",
            " 252 9/26/20         int64  \n",
            " 253 9/27/20         int64  \n",
            " 254 9/28/20         int64  \n",
            " 255 9/29/20         int64  \n",
            " 256 9/30/20         int64  \n",
            " 257 10/1/20         int64  \n",
            " 258 10/2/20         int64  \n",
            " 259 10/3/20         int64  \n",
            " 260 10/4/20         int64  \n",
            " 261 10/5/20         int64  \n",
            " 262 10/6/20         int64  \n",
            " 263 10/7/20         int64  \n",
            " 264 10/8/20         int64  \n",
            " 265 10/9/20         int64  \n",
            " 266 10/10/20        int64  \n",
            " 267 10/11/20        int64  \n",
            " 268 10/12/20        int64  \n",
            " 269 10/13/20        int64  \n",
            " 270 10/14/20        int64  \n",
            " 271 10/15/20        int64  \n",
            " 272 10/16/20        int64  \n",
            " 273 10/17/20        int64  \n",
            " 274 10/18/20        int64  \n",
            " 275 10/19/20        int64  \n",
            " 276 10/20/20        int64  \n",
            " 277 10/21/20        int64  \n",
            " 278 10/22/20        int64  \n",
            " 279 10/23/20        int64  \n",
            " 280 10/24/20        int64  \n",
            " 281 10/25/20        int64  \n",
            " 282 10/26/20        int64  \n",
            " 283 10/27/20        int64  \n",
            " 284 10/28/20        int64  \n",
            " 285 10/29/20        int64  \n",
            " 286 10/30/20        int64  \n",
            " 287 10/31/20        int64  \n",
            " 288 11/1/20         int64  \n",
            " 289 11/2/20         int64  \n",
            " 290 11/3/20         int64  \n",
            " 291 11/4/20         int64  \n",
            " 292 11/5/20         int64  \n",
            " 293 11/6/20         int64  \n",
            " 294 11/7/20         int64  \n",
            " 295 11/8/20         int64  \n",
            " 296 11/9/20         int64  \n",
            " 297 11/10/20        int64  \n",
            " 298 11/11/20        int64  \n",
            " 299 11/12/20        int64  \n",
            " 300 11/13/20        int64  \n",
            " 301 11/14/20        int64  \n",
            " 302 11/15/20        int64  \n",
            " 303 11/16/20        int64  \n",
            " 304 11/17/20        int64  \n",
            " 305 11/18/20        int64  \n",
            " 306 11/19/20        int64  \n",
            " 307 11/20/20        int64  \n",
            " 308 11/21/20        int64  \n",
            " 309 11/22/20        int64  \n",
            " 310 11/23/20        int64  \n",
            " 311 11/24/20        int64  \n",
            " 312 11/25/20        int64  \n",
            " 313 11/26/20        int64  \n",
            " 314 11/27/20        int64  \n",
            " 315 11/28/20        int64  \n",
            " 316 11/29/20        int64  \n",
            " 317 11/30/20        int64  \n",
            " 318 12/1/20         int64  \n",
            " 319 12/2/20         int64  \n",
            " 320 12/3/20         int64  \n",
            " 321 12/4/20         int64  \n",
            " 322 12/5/20         int64  \n",
            " 323 12/6/20         int64  \n",
            " 324 12/7/20         int64  \n",
            " 325 12/8/20         int64  \n",
            " 326 12/9/20         int64  \n",
            " 327 12/10/20        int64  \n",
            " 328 12/11/20        int64  \n",
            " 329 12/12/20        int64  \n",
            " 330 12/13/20        int64  \n",
            " 331 12/14/20        int64  \n",
            " 332 12/15/20        int64  \n",
            " 333 12/16/20        int64  \n",
            " 334 12/17/20        int64  \n",
            " 335 12/18/20        int64  \n",
            " 336 12/19/20        int64  \n",
            " 337 12/20/20        int64  \n",
            " 338 12/21/20        int64  \n",
            " 339 12/22/20        int64  \n",
            " 340 12/23/20        int64  \n",
            " 341 12/24/20        int64  \n",
            " 342 12/25/20        int64  \n",
            " 343 12/26/20        int64  \n",
            " 344 12/27/20        int64  \n",
            " 345 12/28/20        int64  \n",
            " 346 12/29/20        int64  \n",
            " 347 12/30/20        int64  \n",
            "dtypes: float64(2), int64(344), object(2)\n",
            "memory usage: 736.9+ KB\n"
          ],
          "name": "stdout"
        }
      ]
    },
    {
      "cell_type": "code",
      "metadata": {
        "colab": {
          "base_uri": "https://localhost:8080/",
          "height": 337
        },
        "id": "HM6H23Yya9_K",
        "outputId": "9e707549-a082-4ee8-b190-30d0682ad17c"
      },
      "source": [
        "cg_df.describe()"
      ],
      "execution_count": null,
      "outputs": [
        {
          "output_type": "execute_result",
          "data": {
            "text/html": [
              "<div>\n",
              "<style scoped>\n",
              "    .dataframe tbody tr th:only-of-type {\n",
              "        vertical-align: middle;\n",
              "    }\n",
              "\n",
              "    .dataframe tbody tr th {\n",
              "        vertical-align: top;\n",
              "    }\n",
              "\n",
              "    .dataframe thead th {\n",
              "        text-align: right;\n",
              "    }\n",
              "</style>\n",
              "<table border=\"1\" class=\"dataframe\">\n",
              "  <thead>\n",
              "    <tr style=\"text-align: right;\">\n",
              "      <th></th>\n",
              "      <th>Lat</th>\n",
              "      <th>Long</th>\n",
              "      <th>1/22/20</th>\n",
              "      <th>1/23/20</th>\n",
              "      <th>1/24/20</th>\n",
              "      <th>1/25/20</th>\n",
              "      <th>1/26/20</th>\n",
              "      <th>1/27/20</th>\n",
              "      <th>1/28/20</th>\n",
              "      <th>1/29/20</th>\n",
              "      <th>1/30/20</th>\n",
              "      <th>1/31/20</th>\n",
              "      <th>2/1/20</th>\n",
              "      <th>2/2/20</th>\n",
              "      <th>2/3/20</th>\n",
              "      <th>2/4/20</th>\n",
              "      <th>2/5/20</th>\n",
              "      <th>2/6/20</th>\n",
              "      <th>2/7/20</th>\n",
              "      <th>2/8/20</th>\n",
              "      <th>2/9/20</th>\n",
              "      <th>2/10/20</th>\n",
              "      <th>2/11/20</th>\n",
              "      <th>2/12/20</th>\n",
              "      <th>2/13/20</th>\n",
              "      <th>2/14/20</th>\n",
              "      <th>2/15/20</th>\n",
              "      <th>2/16/20</th>\n",
              "      <th>2/17/20</th>\n",
              "      <th>2/18/20</th>\n",
              "      <th>2/19/20</th>\n",
              "      <th>2/20/20</th>\n",
              "      <th>2/21/20</th>\n",
              "      <th>2/22/20</th>\n",
              "      <th>2/23/20</th>\n",
              "      <th>2/24/20</th>\n",
              "      <th>2/25/20</th>\n",
              "      <th>2/26/20</th>\n",
              "      <th>2/27/20</th>\n",
              "      <th>2/28/20</th>\n",
              "      <th>...</th>\n",
              "      <th>11/21/20</th>\n",
              "      <th>11/22/20</th>\n",
              "      <th>11/23/20</th>\n",
              "      <th>11/24/20</th>\n",
              "      <th>11/25/20</th>\n",
              "      <th>11/26/20</th>\n",
              "      <th>11/27/20</th>\n",
              "      <th>11/28/20</th>\n",
              "      <th>11/29/20</th>\n",
              "      <th>11/30/20</th>\n",
              "      <th>12/1/20</th>\n",
              "      <th>12/2/20</th>\n",
              "      <th>12/3/20</th>\n",
              "      <th>12/4/20</th>\n",
              "      <th>12/5/20</th>\n",
              "      <th>12/6/20</th>\n",
              "      <th>12/7/20</th>\n",
              "      <th>12/8/20</th>\n",
              "      <th>12/9/20</th>\n",
              "      <th>12/10/20</th>\n",
              "      <th>12/11/20</th>\n",
              "      <th>12/12/20</th>\n",
              "      <th>12/13/20</th>\n",
              "      <th>12/14/20</th>\n",
              "      <th>12/15/20</th>\n",
              "      <th>12/16/20</th>\n",
              "      <th>12/17/20</th>\n",
              "      <th>12/18/20</th>\n",
              "      <th>12/19/20</th>\n",
              "      <th>12/20/20</th>\n",
              "      <th>12/21/20</th>\n",
              "      <th>12/22/20</th>\n",
              "      <th>12/23/20</th>\n",
              "      <th>12/24/20</th>\n",
              "      <th>12/25/20</th>\n",
              "      <th>12/26/20</th>\n",
              "      <th>12/27/20</th>\n",
              "      <th>12/28/20</th>\n",
              "      <th>12/29/20</th>\n",
              "      <th>12/30/20</th>\n",
              "    </tr>\n",
              "  </thead>\n",
              "  <tbody>\n",
              "    <tr>\n",
              "      <th>count</th>\n",
              "      <td>270.000000</td>\n",
              "      <td>270.000000</td>\n",
              "      <td>271.000000</td>\n",
              "      <td>271.000000</td>\n",
              "      <td>271.000000</td>\n",
              "      <td>271.000000</td>\n",
              "      <td>271.000000</td>\n",
              "      <td>271.000000</td>\n",
              "      <td>271.000000</td>\n",
              "      <td>271.000000</td>\n",
              "      <td>271.000000</td>\n",
              "      <td>271.000000</td>\n",
              "      <td>271.000000</td>\n",
              "      <td>271.000000</td>\n",
              "      <td>271.000000</td>\n",
              "      <td>271.000000</td>\n",
              "      <td>271.000000</td>\n",
              "      <td>271.000000</td>\n",
              "      <td>271.000000</td>\n",
              "      <td>271.000000</td>\n",
              "      <td>271.000000</td>\n",
              "      <td>271.000000</td>\n",
              "      <td>271.000000</td>\n",
              "      <td>271.000000</td>\n",
              "      <td>271.000000</td>\n",
              "      <td>271.000000</td>\n",
              "      <td>271.000000</td>\n",
              "      <td>271.000000</td>\n",
              "      <td>271.000000</td>\n",
              "      <td>271.000000</td>\n",
              "      <td>271.000000</td>\n",
              "      <td>271.000000</td>\n",
              "      <td>271.000000</td>\n",
              "      <td>271.000000</td>\n",
              "      <td>271.000000</td>\n",
              "      <td>271.000000</td>\n",
              "      <td>271.000000</td>\n",
              "      <td>271.000000</td>\n",
              "      <td>271.000000</td>\n",
              "      <td>271.000000</td>\n",
              "      <td>...</td>\n",
              "      <td>2.710000e+02</td>\n",
              "      <td>2.710000e+02</td>\n",
              "      <td>2.710000e+02</td>\n",
              "      <td>2.710000e+02</td>\n",
              "      <td>2.710000e+02</td>\n",
              "      <td>2.710000e+02</td>\n",
              "      <td>2.710000e+02</td>\n",
              "      <td>2.710000e+02</td>\n",
              "      <td>2.710000e+02</td>\n",
              "      <td>2.710000e+02</td>\n",
              "      <td>2.710000e+02</td>\n",
              "      <td>2.710000e+02</td>\n",
              "      <td>2.710000e+02</td>\n",
              "      <td>2.710000e+02</td>\n",
              "      <td>2.710000e+02</td>\n",
              "      <td>2.710000e+02</td>\n",
              "      <td>2.710000e+02</td>\n",
              "      <td>2.710000e+02</td>\n",
              "      <td>2.710000e+02</td>\n",
              "      <td>2.710000e+02</td>\n",
              "      <td>2.710000e+02</td>\n",
              "      <td>2.710000e+02</td>\n",
              "      <td>2.710000e+02</td>\n",
              "      <td>2.710000e+02</td>\n",
              "      <td>2.710000e+02</td>\n",
              "      <td>2.710000e+02</td>\n",
              "      <td>2.710000e+02</td>\n",
              "      <td>2.710000e+02</td>\n",
              "      <td>2.710000e+02</td>\n",
              "      <td>2.710000e+02</td>\n",
              "      <td>2.710000e+02</td>\n",
              "      <td>2.710000e+02</td>\n",
              "      <td>2.710000e+02</td>\n",
              "      <td>2.710000e+02</td>\n",
              "      <td>2.710000e+02</td>\n",
              "      <td>2.710000e+02</td>\n",
              "      <td>2.710000e+02</td>\n",
              "      <td>2.710000e+02</td>\n",
              "      <td>2.710000e+02</td>\n",
              "      <td>2.710000e+02</td>\n",
              "    </tr>\n",
              "    <tr>\n",
              "      <th>mean</th>\n",
              "      <td>20.817839</td>\n",
              "      <td>23.439277</td>\n",
              "      <td>2.047970</td>\n",
              "      <td>2.413284</td>\n",
              "      <td>3.472325</td>\n",
              "      <td>5.291513</td>\n",
              "      <td>7.815498</td>\n",
              "      <td>10.800738</td>\n",
              "      <td>20.583026</td>\n",
              "      <td>22.756458</td>\n",
              "      <td>30.387454</td>\n",
              "      <td>36.630996</td>\n",
              "      <td>44.420664</td>\n",
              "      <td>61.944649</td>\n",
              "      <td>73.383764</td>\n",
              "      <td>88.184502</td>\n",
              "      <td>102.003690</td>\n",
              "      <td>113.664207</td>\n",
              "      <td>126.922509</td>\n",
              "      <td>137.011070</td>\n",
              "      <td>148.191882</td>\n",
              "      <td>157.819188</td>\n",
              "      <td>165.354244</td>\n",
              "      <td>166.896679</td>\n",
              "      <td>222.811808</td>\n",
              "      <td>246.896679</td>\n",
              "      <td>254.800738</td>\n",
              "      <td>262.859779</td>\n",
              "      <td>270.369004</td>\n",
              "      <td>277.313653</td>\n",
              "      <td>279.158672</td>\n",
              "      <td>281.225092</td>\n",
              "      <td>283.546125</td>\n",
              "      <td>290.044280</td>\n",
              "      <td>291.446494</td>\n",
              "      <td>293.527675</td>\n",
              "      <td>296.675277</td>\n",
              "      <td>300.280443</td>\n",
              "      <td>305.298893</td>\n",
              "      <td>310.416974</td>\n",
              "      <td>...</td>\n",
              "      <td>2.150144e+05</td>\n",
              "      <td>2.168164e+05</td>\n",
              "      <td>2.187314e+05</td>\n",
              "      <td>2.209062e+05</td>\n",
              "      <td>2.232531e+05</td>\n",
              "      <td>2.254096e+05</td>\n",
              "      <td>2.278860e+05</td>\n",
              "      <td>2.300953e+05</td>\n",
              "      <td>2.318899e+05</td>\n",
              "      <td>2.337551e+05</td>\n",
              "      <td>2.360005e+05</td>\n",
              "      <td>2.383891e+05</td>\n",
              "      <td>2.409443e+05</td>\n",
              "      <td>2.434563e+05</td>\n",
              "      <td>2.458286e+05</td>\n",
              "      <td>2.478188e+05</td>\n",
              "      <td>2.497195e+05</td>\n",
              "      <td>2.520719e+05</td>\n",
              "      <td>2.545423e+05</td>\n",
              "      <td>2.600554e+05</td>\n",
              "      <td>2.626350e+05</td>\n",
              "      <td>2.649339e+05</td>\n",
              "      <td>2.669582e+05</td>\n",
              "      <td>2.688934e+05</td>\n",
              "      <td>2.711975e+05</td>\n",
              "      <td>2.739053e+05</td>\n",
              "      <td>2.766227e+05</td>\n",
              "      <td>2.792707e+05</td>\n",
              "      <td>2.815451e+05</td>\n",
              "      <td>2.835149e+05</td>\n",
              "      <td>2.855147e+05</td>\n",
              "      <td>2.879002e+05</td>\n",
              "      <td>2.904522e+05</td>\n",
              "      <td>2.929300e+05</td>\n",
              "      <td>2.946553e+05</td>\n",
              "      <td>2.965469e+05</td>\n",
              "      <td>2.981444e+05</td>\n",
              "      <td>2.999478e+05</td>\n",
              "      <td>3.024042e+05</td>\n",
              "      <td>3.051955e+05</td>\n",
              "    </tr>\n",
              "    <tr>\n",
              "      <th>std</th>\n",
              "      <td>25.171460</td>\n",
              "      <td>72.529836</td>\n",
              "      <td>27.026899</td>\n",
              "      <td>27.125204</td>\n",
              "      <td>33.769345</td>\n",
              "      <td>46.999290</td>\n",
              "      <td>65.681295</td>\n",
              "      <td>88.495349</td>\n",
              "      <td>217.167147</td>\n",
              "      <td>218.495596</td>\n",
              "      <td>301.099493</td>\n",
              "      <td>356.981144</td>\n",
              "      <td>439.284756</td>\n",
              "      <td>682.678841</td>\n",
              "      <td>825.266404</td>\n",
              "      <td>1017.104559</td>\n",
              "      <td>1198.582763</td>\n",
              "      <td>1347.367299</td>\n",
              "      <td>1519.951236</td>\n",
              "      <td>1650.442523</td>\n",
              "      <td>1804.081336</td>\n",
              "      <td>1931.389855</td>\n",
              "      <td>2030.867727</td>\n",
              "      <td>2031.206896</td>\n",
              "      <td>2930.676869</td>\n",
              "      <td>3306.833170</td>\n",
              "      <td>3418.740376</td>\n",
              "      <td>3536.085769</td>\n",
              "      <td>3645.766602</td>\n",
              "      <td>3748.528307</td>\n",
              "      <td>3769.740388</td>\n",
              "      <td>3794.672005</td>\n",
              "      <td>3808.097996</td>\n",
              "      <td>3894.372899</td>\n",
              "      <td>3894.412420</td>\n",
              "      <td>3906.807907</td>\n",
              "      <td>3937.140087</td>\n",
              "      <td>3961.671313</td>\n",
              "      <td>3987.063559</td>\n",
              "      <td>4007.348121</td>\n",
              "      <td>...</td>\n",
              "      <td>1.022856e+06</td>\n",
              "      <td>1.031675e+06</td>\n",
              "      <td>1.041251e+06</td>\n",
              "      <td>1.051636e+06</td>\n",
              "      <td>1.062884e+06</td>\n",
              "      <td>1.070874e+06</td>\n",
              "      <td>1.082692e+06</td>\n",
              "      <td>1.092740e+06</td>\n",
              "      <td>1.101190e+06</td>\n",
              "      <td>1.110245e+06</td>\n",
              "      <td>1.121337e+06</td>\n",
              "      <td>1.133230e+06</td>\n",
              "      <td>1.146092e+06</td>\n",
              "      <td>1.159340e+06</td>\n",
              "      <td>1.171877e+06</td>\n",
              "      <td>1.182334e+06</td>\n",
              "      <td>1.192838e+06</td>\n",
              "      <td>1.205552e+06</td>\n",
              "      <td>1.218538e+06</td>\n",
              "      <td>1.234429e+06</td>\n",
              "      <td>1.248169e+06</td>\n",
              "      <td>1.260852e+06</td>\n",
              "      <td>1.271830e+06</td>\n",
              "      <td>1.282744e+06</td>\n",
              "      <td>1.294451e+06</td>\n",
              "      <td>1.309081e+06</td>\n",
              "      <td>1.323302e+06</td>\n",
              "      <td>1.337823e+06</td>\n",
              "      <td>1.349728e+06</td>\n",
              "      <td>1.360657e+06</td>\n",
              "      <td>1.371642e+06</td>\n",
              "      <td>1.383613e+06</td>\n",
              "      <td>1.397056e+06</td>\n",
              "      <td>1.409380e+06</td>\n",
              "      <td>1.416133e+06</td>\n",
              "      <td>1.428598e+06</td>\n",
              "      <td>1.437439e+06</td>\n",
              "      <td>1.447149e+06</td>\n",
              "      <td>1.459575e+06</td>\n",
              "      <td>1.473547e+06</td>\n",
              "    </tr>\n",
              "    <tr>\n",
              "      <th>min</th>\n",
              "      <td>-51.796300</td>\n",
              "      <td>-172.104600</td>\n",
              "      <td>0.000000</td>\n",
              "      <td>0.000000</td>\n",
              "      <td>0.000000</td>\n",
              "      <td>0.000000</td>\n",
              "      <td>0.000000</td>\n",
              "      <td>0.000000</td>\n",
              "      <td>0.000000</td>\n",
              "      <td>0.000000</td>\n",
              "      <td>0.000000</td>\n",
              "      <td>0.000000</td>\n",
              "      <td>0.000000</td>\n",
              "      <td>0.000000</td>\n",
              "      <td>0.000000</td>\n",
              "      <td>0.000000</td>\n",
              "      <td>0.000000</td>\n",
              "      <td>0.000000</td>\n",
              "      <td>0.000000</td>\n",
              "      <td>0.000000</td>\n",
              "      <td>0.000000</td>\n",
              "      <td>0.000000</td>\n",
              "      <td>0.000000</td>\n",
              "      <td>0.000000</td>\n",
              "      <td>0.000000</td>\n",
              "      <td>0.000000</td>\n",
              "      <td>0.000000</td>\n",
              "      <td>0.000000</td>\n",
              "      <td>0.000000</td>\n",
              "      <td>0.000000</td>\n",
              "      <td>0.000000</td>\n",
              "      <td>0.000000</td>\n",
              "      <td>0.000000</td>\n",
              "      <td>0.000000</td>\n",
              "      <td>0.000000</td>\n",
              "      <td>0.000000</td>\n",
              "      <td>0.000000</td>\n",
              "      <td>0.000000</td>\n",
              "      <td>0.000000</td>\n",
              "      <td>0.000000</td>\n",
              "      <td>...</td>\n",
              "      <td>0.000000e+00</td>\n",
              "      <td>0.000000e+00</td>\n",
              "      <td>0.000000e+00</td>\n",
              "      <td>0.000000e+00</td>\n",
              "      <td>0.000000e+00</td>\n",
              "      <td>0.000000e+00</td>\n",
              "      <td>0.000000e+00</td>\n",
              "      <td>0.000000e+00</td>\n",
              "      <td>0.000000e+00</td>\n",
              "      <td>0.000000e+00</td>\n",
              "      <td>0.000000e+00</td>\n",
              "      <td>0.000000e+00</td>\n",
              "      <td>0.000000e+00</td>\n",
              "      <td>0.000000e+00</td>\n",
              "      <td>0.000000e+00</td>\n",
              "      <td>0.000000e+00</td>\n",
              "      <td>0.000000e+00</td>\n",
              "      <td>0.000000e+00</td>\n",
              "      <td>0.000000e+00</td>\n",
              "      <td>0.000000e+00</td>\n",
              "      <td>0.000000e+00</td>\n",
              "      <td>0.000000e+00</td>\n",
              "      <td>0.000000e+00</td>\n",
              "      <td>0.000000e+00</td>\n",
              "      <td>0.000000e+00</td>\n",
              "      <td>0.000000e+00</td>\n",
              "      <td>0.000000e+00</td>\n",
              "      <td>0.000000e+00</td>\n",
              "      <td>0.000000e+00</td>\n",
              "      <td>0.000000e+00</td>\n",
              "      <td>0.000000e+00</td>\n",
              "      <td>0.000000e+00</td>\n",
              "      <td>0.000000e+00</td>\n",
              "      <td>0.000000e+00</td>\n",
              "      <td>0.000000e+00</td>\n",
              "      <td>0.000000e+00</td>\n",
              "      <td>0.000000e+00</td>\n",
              "      <td>0.000000e+00</td>\n",
              "      <td>0.000000e+00</td>\n",
              "      <td>0.000000e+00</td>\n",
              "    </tr>\n",
              "    <tr>\n",
              "      <th>25%</th>\n",
              "      <td>6.424864</td>\n",
              "      <td>-18.093125</td>\n",
              "      <td>0.000000</td>\n",
              "      <td>0.000000</td>\n",
              "      <td>0.000000</td>\n",
              "      <td>0.000000</td>\n",
              "      <td>0.000000</td>\n",
              "      <td>0.000000</td>\n",
              "      <td>0.000000</td>\n",
              "      <td>0.000000</td>\n",
              "      <td>0.000000</td>\n",
              "      <td>0.000000</td>\n",
              "      <td>0.000000</td>\n",
              "      <td>0.000000</td>\n",
              "      <td>0.000000</td>\n",
              "      <td>0.000000</td>\n",
              "      <td>0.000000</td>\n",
              "      <td>0.000000</td>\n",
              "      <td>0.000000</td>\n",
              "      <td>0.000000</td>\n",
              "      <td>0.000000</td>\n",
              "      <td>0.000000</td>\n",
              "      <td>0.000000</td>\n",
              "      <td>0.000000</td>\n",
              "      <td>0.000000</td>\n",
              "      <td>0.000000</td>\n",
              "      <td>0.000000</td>\n",
              "      <td>0.000000</td>\n",
              "      <td>0.000000</td>\n",
              "      <td>0.000000</td>\n",
              "      <td>0.000000</td>\n",
              "      <td>0.000000</td>\n",
              "      <td>0.000000</td>\n",
              "      <td>0.000000</td>\n",
              "      <td>0.000000</td>\n",
              "      <td>0.000000</td>\n",
              "      <td>0.000000</td>\n",
              "      <td>0.000000</td>\n",
              "      <td>0.000000</td>\n",
              "      <td>0.000000</td>\n",
              "      <td>...</td>\n",
              "      <td>5.930000e+02</td>\n",
              "      <td>5.930000e+02</td>\n",
              "      <td>5.930000e+02</td>\n",
              "      <td>5.985000e+02</td>\n",
              "      <td>6.005000e+02</td>\n",
              "      <td>6.050000e+02</td>\n",
              "      <td>6.065000e+02</td>\n",
              "      <td>6.090000e+02</td>\n",
              "      <td>6.095000e+02</td>\n",
              "      <td>6.100000e+02</td>\n",
              "      <td>6.150000e+02</td>\n",
              "      <td>6.170000e+02</td>\n",
              "      <td>6.225000e+02</td>\n",
              "      <td>6.310000e+02</td>\n",
              "      <td>6.345000e+02</td>\n",
              "      <td>6.350000e+02</td>\n",
              "      <td>6.450000e+02</td>\n",
              "      <td>6.485000e+02</td>\n",
              "      <td>6.520000e+02</td>\n",
              "      <td>6.565000e+02</td>\n",
              "      <td>6.575000e+02</td>\n",
              "      <td>6.760000e+02</td>\n",
              "      <td>6.760000e+02</td>\n",
              "      <td>6.775000e+02</td>\n",
              "      <td>6.810000e+02</td>\n",
              "      <td>6.845000e+02</td>\n",
              "      <td>6.920000e+02</td>\n",
              "      <td>6.980000e+02</td>\n",
              "      <td>6.980000e+02</td>\n",
              "      <td>6.980000e+02</td>\n",
              "      <td>6.980000e+02</td>\n",
              "      <td>7.025000e+02</td>\n",
              "      <td>7.025000e+02</td>\n",
              "      <td>7.135000e+02</td>\n",
              "      <td>7.135000e+02</td>\n",
              "      <td>7.135000e+02</td>\n",
              "      <td>7.135000e+02</td>\n",
              "      <td>7.135000e+02</td>\n",
              "      <td>7.385000e+02</td>\n",
              "      <td>7.385000e+02</td>\n",
              "    </tr>\n",
              "    <tr>\n",
              "      <th>50%</th>\n",
              "      <td>22.041450</td>\n",
              "      <td>20.972650</td>\n",
              "      <td>0.000000</td>\n",
              "      <td>0.000000</td>\n",
              "      <td>0.000000</td>\n",
              "      <td>0.000000</td>\n",
              "      <td>0.000000</td>\n",
              "      <td>0.000000</td>\n",
              "      <td>0.000000</td>\n",
              "      <td>0.000000</td>\n",
              "      <td>0.000000</td>\n",
              "      <td>0.000000</td>\n",
              "      <td>0.000000</td>\n",
              "      <td>0.000000</td>\n",
              "      <td>0.000000</td>\n",
              "      <td>0.000000</td>\n",
              "      <td>0.000000</td>\n",
              "      <td>0.000000</td>\n",
              "      <td>0.000000</td>\n",
              "      <td>0.000000</td>\n",
              "      <td>0.000000</td>\n",
              "      <td>0.000000</td>\n",
              "      <td>0.000000</td>\n",
              "      <td>0.000000</td>\n",
              "      <td>0.000000</td>\n",
              "      <td>0.000000</td>\n",
              "      <td>0.000000</td>\n",
              "      <td>0.000000</td>\n",
              "      <td>0.000000</td>\n",
              "      <td>0.000000</td>\n",
              "      <td>0.000000</td>\n",
              "      <td>0.000000</td>\n",
              "      <td>0.000000</td>\n",
              "      <td>0.000000</td>\n",
              "      <td>0.000000</td>\n",
              "      <td>0.000000</td>\n",
              "      <td>0.000000</td>\n",
              "      <td>0.000000</td>\n",
              "      <td>0.000000</td>\n",
              "      <td>0.000000</td>\n",
              "      <td>...</td>\n",
              "      <td>6.237000e+03</td>\n",
              "      <td>6.450000e+03</td>\n",
              "      <td>6.475000e+03</td>\n",
              "      <td>6.488000e+03</td>\n",
              "      <td>6.503000e+03</td>\n",
              "      <td>6.570000e+03</td>\n",
              "      <td>6.610000e+03</td>\n",
              "      <td>6.630000e+03</td>\n",
              "      <td>6.712000e+03</td>\n",
              "      <td>6.745000e+03</td>\n",
              "      <td>6.790000e+03</td>\n",
              "      <td>6.842000e+03</td>\n",
              "      <td>7.236000e+03</td>\n",
              "      <td>7.383000e+03</td>\n",
              "      <td>7.570000e+03</td>\n",
              "      <td>7.570000e+03</td>\n",
              "      <td>7.579000e+03</td>\n",
              "      <td>7.806000e+03</td>\n",
              "      <td>8.104000e+03</td>\n",
              "      <td>8.345000e+03</td>\n",
              "      <td>8.345000e+03</td>\n",
              "      <td>8.345000e+03</td>\n",
              "      <td>8.345000e+03</td>\n",
              "      <td>8.345000e+03</td>\n",
              "      <td>8.498000e+03</td>\n",
              "      <td>8.498000e+03</td>\n",
              "      <td>8.498000e+03</td>\n",
              "      <td>8.498000e+03</td>\n",
              "      <td>8.498000e+03</td>\n",
              "      <td>8.557000e+03</td>\n",
              "      <td>8.557000e+03</td>\n",
              "      <td>8.557000e+03</td>\n",
              "      <td>8.557000e+03</td>\n",
              "      <td>8.557000e+03</td>\n",
              "      <td>8.557000e+03</td>\n",
              "      <td>8.557000e+03</td>\n",
              "      <td>8.620000e+03</td>\n",
              "      <td>8.687000e+03</td>\n",
              "      <td>8.934000e+03</td>\n",
              "      <td>8.972000e+03</td>\n",
              "    </tr>\n",
              "    <tr>\n",
              "      <th>75%</th>\n",
              "      <td>41.143200</td>\n",
              "      <td>83.380449</td>\n",
              "      <td>0.000000</td>\n",
              "      <td>0.000000</td>\n",
              "      <td>0.000000</td>\n",
              "      <td>0.000000</td>\n",
              "      <td>0.000000</td>\n",
              "      <td>0.000000</td>\n",
              "      <td>0.000000</td>\n",
              "      <td>0.000000</td>\n",
              "      <td>0.000000</td>\n",
              "      <td>0.000000</td>\n",
              "      <td>0.000000</td>\n",
              "      <td>0.000000</td>\n",
              "      <td>0.000000</td>\n",
              "      <td>0.000000</td>\n",
              "      <td>0.000000</td>\n",
              "      <td>0.000000</td>\n",
              "      <td>0.000000</td>\n",
              "      <td>0.000000</td>\n",
              "      <td>0.000000</td>\n",
              "      <td>0.000000</td>\n",
              "      <td>0.000000</td>\n",
              "      <td>0.000000</td>\n",
              "      <td>0.000000</td>\n",
              "      <td>0.000000</td>\n",
              "      <td>0.000000</td>\n",
              "      <td>0.000000</td>\n",
              "      <td>0.000000</td>\n",
              "      <td>0.000000</td>\n",
              "      <td>0.000000</td>\n",
              "      <td>0.000000</td>\n",
              "      <td>0.000000</td>\n",
              "      <td>0.000000</td>\n",
              "      <td>0.500000</td>\n",
              "      <td>1.000000</td>\n",
              "      <td>1.000000</td>\n",
              "      <td>2.000000</td>\n",
              "      <td>2.000000</td>\n",
              "      <td>2.500000</td>\n",
              "      <td>...</td>\n",
              "      <td>8.653100e+04</td>\n",
              "      <td>8.720800e+04</td>\n",
              "      <td>8.754100e+04</td>\n",
              "      <td>8.811450e+04</td>\n",
              "      <td>8.874600e+04</td>\n",
              "      <td>8.941100e+04</td>\n",
              "      <td>9.020150e+04</td>\n",
              "      <td>9.147850e+04</td>\n",
              "      <td>9.286850e+04</td>\n",
              "      <td>9.374100e+04</td>\n",
              "      <td>9.447900e+04</td>\n",
              "      <td>9.644000e+04</td>\n",
              "      <td>9.714900e+04</td>\n",
              "      <td>9.921000e+04</td>\n",
              "      <td>1.005190e+05</td>\n",
              "      <td>1.015785e+05</td>\n",
              "      <td>1.023800e+05</td>\n",
              "      <td>1.035615e+05</td>\n",
              "      <td>1.045090e+05</td>\n",
              "      <td>1.055795e+05</td>\n",
              "      <td>1.066685e+05</td>\n",
              "      <td>1.076570e+05</td>\n",
              "      <td>1.097480e+05</td>\n",
              "      <td>1.112315e+05</td>\n",
              "      <td>1.133250e+05</td>\n",
              "      <td>1.149320e+05</td>\n",
              "      <td>1.157200e+05</td>\n",
              "      <td>1.168970e+05</td>\n",
              "      <td>1.176815e+05</td>\n",
              "      <td>1.184865e+05</td>\n",
              "      <td>1.187690e+05</td>\n",
              "      <td>1.192920e+05</td>\n",
              "      <td>1.205415e+05</td>\n",
              "      <td>1.226440e+05</td>\n",
              "      <td>1.242305e+05</td>\n",
              "      <td>1.253515e+05</td>\n",
              "      <td>1.256680e+05</td>\n",
              "      <td>1.258540e+05</td>\n",
              "      <td>1.260105e+05</td>\n",
              "      <td>1.262875e+05</td>\n",
              "    </tr>\n",
              "    <tr>\n",
              "      <th>max</th>\n",
              "      <td>71.706900</td>\n",
              "      <td>178.065000</td>\n",
              "      <td>444.000000</td>\n",
              "      <td>444.000000</td>\n",
              "      <td>549.000000</td>\n",
              "      <td>761.000000</td>\n",
              "      <td>1058.000000</td>\n",
              "      <td>1423.000000</td>\n",
              "      <td>3554.000000</td>\n",
              "      <td>3554.000000</td>\n",
              "      <td>4903.000000</td>\n",
              "      <td>5806.000000</td>\n",
              "      <td>7153.000000</td>\n",
              "      <td>11177.000000</td>\n",
              "      <td>13522.000000</td>\n",
              "      <td>16678.000000</td>\n",
              "      <td>19665.000000</td>\n",
              "      <td>22112.000000</td>\n",
              "      <td>24953.000000</td>\n",
              "      <td>27100.000000</td>\n",
              "      <td>29631.000000</td>\n",
              "      <td>31728.000000</td>\n",
              "      <td>33366.000000</td>\n",
              "      <td>33366.000000</td>\n",
              "      <td>48206.000000</td>\n",
              "      <td>54406.000000</td>\n",
              "      <td>56249.000000</td>\n",
              "      <td>58182.000000</td>\n",
              "      <td>59989.000000</td>\n",
              "      <td>61682.000000</td>\n",
              "      <td>62031.000000</td>\n",
              "      <td>62442.000000</td>\n",
              "      <td>62662.000000</td>\n",
              "      <td>64084.000000</td>\n",
              "      <td>64084.000000</td>\n",
              "      <td>64287.000000</td>\n",
              "      <td>64786.000000</td>\n",
              "      <td>65187.000000</td>\n",
              "      <td>65596.000000</td>\n",
              "      <td>65914.000000</td>\n",
              "      <td>...</td>\n",
              "      <td>1.216459e+07</td>\n",
              "      <td>1.231151e+07</td>\n",
              "      <td>1.247998e+07</td>\n",
              "      <td>1.265430e+07</td>\n",
              "      <td>1.283754e+07</td>\n",
              "      <td>1.295197e+07</td>\n",
              "      <td>1.315616e+07</td>\n",
              "      <td>1.331216e+07</td>\n",
              "      <td>1.345048e+07</td>\n",
              "      <td>1.360787e+07</td>\n",
              "      <td>1.379194e+07</td>\n",
              "      <td>1.399276e+07</td>\n",
              "      <td>1.421265e+07</td>\n",
              "      <td>1.444279e+07</td>\n",
              "      <td>1.465888e+07</td>\n",
              "      <td>1.484027e+07</td>\n",
              "      <td>1.503020e+07</td>\n",
              "      <td>1.524920e+07</td>\n",
              "      <td>1.547113e+07</td>\n",
              "      <td>1.569874e+07</td>\n",
              "      <td>1.593342e+07</td>\n",
              "      <td>1.615267e+07</td>\n",
              "      <td>1.634441e+07</td>\n",
              "      <td>1.653802e+07</td>\n",
              "      <td>1.673533e+07</td>\n",
              "      <td>1.698216e+07</td>\n",
              "      <td>1.721918e+07</td>\n",
              "      <td>1.746884e+07</td>\n",
              "      <td>1.766528e+07</td>\n",
              "      <td>1.785373e+07</td>\n",
              "      <td>1.804505e+07</td>\n",
              "      <td>1.823976e+07</td>\n",
              "      <td>1.846648e+07</td>\n",
              "      <td>1.866534e+07</td>\n",
              "      <td>1.876553e+07</td>\n",
              "      <td>1.899213e+07</td>\n",
              "      <td>1.914260e+07</td>\n",
              "      <td>1.930928e+07</td>\n",
              "      <td>1.951143e+07</td>\n",
              "      <td>1.974047e+07</td>\n",
              "    </tr>\n",
              "  </tbody>\n",
              "</table>\n",
              "<p>8 rows × 346 columns</p>\n",
              "</div>"
            ],
            "text/plain": [
              "              Lat        Long  ...      12/29/20      12/30/20\n",
              "count  270.000000  270.000000  ...  2.710000e+02  2.710000e+02\n",
              "mean    20.817839   23.439277  ...  3.024042e+05  3.051955e+05\n",
              "std     25.171460   72.529836  ...  1.459575e+06  1.473547e+06\n",
              "min    -51.796300 -172.104600  ...  0.000000e+00  0.000000e+00\n",
              "25%      6.424864  -18.093125  ...  7.385000e+02  7.385000e+02\n",
              "50%     22.041450   20.972650  ...  8.934000e+03  8.972000e+03\n",
              "75%     41.143200   83.380449  ...  1.260105e+05  1.262875e+05\n",
              "max     71.706900  178.065000  ...  1.951143e+07  1.974047e+07\n",
              "\n",
              "[8 rows x 346 columns]"
            ]
          },
          "metadata": {
            "tags": []
          },
          "execution_count": 12
        }
      ]
    },
    {
      "cell_type": "code",
      "metadata": {
        "colab": {
          "base_uri": "https://localhost:8080/"
        },
        "id": "GQHgm7aknbet",
        "outputId": "6158d3c3-55c4-4599-9ef2-ff293a1690c1"
      },
      "source": [
        "# Checking for nulls\n",
        "cg_df.isnull().sum().sum()"
      ],
      "execution_count": null,
      "outputs": [
        {
          "output_type": "execute_result",
          "data": {
            "text/plain": [
              "190"
            ]
          },
          "metadata": {
            "tags": []
          },
          "execution_count": 13
        }
      ]
    },
    {
      "cell_type": "markdown",
      "metadata": {
        "id": "cwWfEOikbbMb"
      },
      "source": [
        "This is the end of the initial exploration of the data, further modifications will be performed in Reshaping the Covid-19 data frames"
      ]
    },
    {
      "cell_type": "markdown",
      "metadata": {
        "id": "MJZ6UDo17Tbi"
      },
      "source": [
        "# US preliminary histograms by end of month reports"
      ]
    },
    {
      "cell_type": "markdown",
      "metadata": {
        "id": "DeYFt8lHceh5"
      },
      "source": [
        "With the current arrangement of the data, we can only look at one day at a time, skewing the histogram by having only one plotable datapoint. However, it does show a progression of confirmations as indicated by the changing axis notations, as observed further along the timeline series."
      ]
    },
    {
      "cell_type": "code",
      "metadata": {
        "id": "6PFxbv8z9Kbz",
        "colab": {
          "base_uri": "https://localhost:8080/",
          "height": 288
        },
        "outputId": "c38bc63e-2807-479c-ba3b-1763bb03caeb"
      },
      "source": [
        "#Exploring the data by end of month reporting, histograms\n",
        "#cu_df = Confimed US\n",
        "cu_df[['1/30/20']].describe()"
      ],
      "execution_count": null,
      "outputs": [
        {
          "output_type": "execute_result",
          "data": {
            "text/html": [
              "<div>\n",
              "<style scoped>\n",
              "    .dataframe tbody tr th:only-of-type {\n",
              "        vertical-align: middle;\n",
              "    }\n",
              "\n",
              "    .dataframe tbody tr th {\n",
              "        vertical-align: top;\n",
              "    }\n",
              "\n",
              "    .dataframe thead th {\n",
              "        text-align: right;\n",
              "    }\n",
              "</style>\n",
              "<table border=\"1\" class=\"dataframe\">\n",
              "  <thead>\n",
              "    <tr style=\"text-align: right;\">\n",
              "      <th></th>\n",
              "      <th>1/30/20</th>\n",
              "    </tr>\n",
              "  </thead>\n",
              "  <tbody>\n",
              "    <tr>\n",
              "      <th>count</th>\n",
              "      <td>3340.000000</td>\n",
              "    </tr>\n",
              "    <tr>\n",
              "      <th>mean</th>\n",
              "      <td>0.001796</td>\n",
              "    </tr>\n",
              "    <tr>\n",
              "      <th>std</th>\n",
              "      <td>0.042352</td>\n",
              "    </tr>\n",
              "    <tr>\n",
              "      <th>min</th>\n",
              "      <td>0.000000</td>\n",
              "    </tr>\n",
              "    <tr>\n",
              "      <th>25%</th>\n",
              "      <td>0.000000</td>\n",
              "    </tr>\n",
              "    <tr>\n",
              "      <th>50%</th>\n",
              "      <td>0.000000</td>\n",
              "    </tr>\n",
              "    <tr>\n",
              "      <th>75%</th>\n",
              "      <td>0.000000</td>\n",
              "    </tr>\n",
              "    <tr>\n",
              "      <th>max</th>\n",
              "      <td>1.000000</td>\n",
              "    </tr>\n",
              "  </tbody>\n",
              "</table>\n",
              "</div>"
            ],
            "text/plain": [
              "           1/30/20\n",
              "count  3340.000000\n",
              "mean      0.001796\n",
              "std       0.042352\n",
              "min       0.000000\n",
              "25%       0.000000\n",
              "50%       0.000000\n",
              "75%       0.000000\n",
              "max       1.000000"
            ]
          },
          "metadata": {
            "tags": []
          },
          "execution_count": 14
        }
      ]
    },
    {
      "cell_type": "code",
      "metadata": {
        "id": "x1ZDMgH89t8D",
        "colab": {
          "base_uri": "https://localhost:8080/",
          "height": 345
        },
        "outputId": "5a8cc398-c91e-4a3e-bde1-67bdbf31e779"
      },
      "source": [
        "ax = sns.distplot(cu_df['1/30/20'], kde=False)"
      ],
      "execution_count": null,
      "outputs": [
        {
          "output_type": "stream",
          "text": [
            "/usr/local/lib/python3.6/dist-packages/seaborn/distributions.py:2557: FutureWarning: `distplot` is a deprecated function and will be removed in a future version. Please adapt your code to use either `displot` (a figure-level function with similar flexibility) or `histplot` (an axes-level function for histograms).\n",
            "  warnings.warn(msg, FutureWarning)\n"
          ],
          "name": "stderr"
        },
        {
          "output_type": "display_data",
          "data": {
            "image/png": "[encoded data removed]",
            "text/plain": [
              "<Figure size 432x288 with 1 Axes>"
            ]
          },
          "metadata": {
            "tags": []
          }
        }
      ]
    },
    {
      "cell_type": "code",
      "metadata": {
        "id": "EDk3AJrJ99EK",
        "colab": {
          "base_uri": "https://localhost:8080/",
          "height": 288
        },
        "outputId": "337c39f5-0587-4968-eb09-b98fdf5749a9"
      },
      "source": [
        "cu_df[['2/29/20']].describe()"
      ],
      "execution_count": null,
      "outputs": [
        {
          "output_type": "execute_result",
          "data": {
            "text/html": [
              "<div>\n",
              "<style scoped>\n",
              "    .dataframe tbody tr th:only-of-type {\n",
              "        vertical-align: middle;\n",
              "    }\n",
              "\n",
              "    .dataframe tbody tr th {\n",
              "        vertical-align: top;\n",
              "    }\n",
              "\n",
              "    .dataframe thead th {\n",
              "        text-align: right;\n",
              "    }\n",
              "</style>\n",
              "<table border=\"1\" class=\"dataframe\">\n",
              "  <thead>\n",
              "    <tr style=\"text-align: right;\">\n",
              "      <th></th>\n",
              "      <th>2/29/20</th>\n",
              "    </tr>\n",
              "  </thead>\n",
              "  <tbody>\n",
              "    <tr>\n",
              "      <th>count</th>\n",
              "      <td>3340.000000</td>\n",
              "    </tr>\n",
              "    <tr>\n",
              "      <th>mean</th>\n",
              "      <td>0.007485</td>\n",
              "    </tr>\n",
              "    <tr>\n",
              "      <th>std</th>\n",
              "      <td>0.143558</td>\n",
              "    </tr>\n",
              "    <tr>\n",
              "      <th>min</th>\n",
              "      <td>0.000000</td>\n",
              "    </tr>\n",
              "    <tr>\n",
              "      <th>25%</th>\n",
              "      <td>0.000000</td>\n",
              "    </tr>\n",
              "    <tr>\n",
              "      <th>50%</th>\n",
              "      <td>0.000000</td>\n",
              "    </tr>\n",
              "    <tr>\n",
              "      <th>75%</th>\n",
              "      <td>0.000000</td>\n",
              "    </tr>\n",
              "    <tr>\n",
              "      <th>max</th>\n",
              "      <td>6.000000</td>\n",
              "    </tr>\n",
              "  </tbody>\n",
              "</table>\n",
              "</div>"
            ],
            "text/plain": [
              "           2/29/20\n",
              "count  3340.000000\n",
              "mean      0.007485\n",
              "std       0.143558\n",
              "min       0.000000\n",
              "25%       0.000000\n",
              "50%       0.000000\n",
              "75%       0.000000\n",
              "max       6.000000"
            ]
          },
          "metadata": {
            "tags": []
          },
          "execution_count": 16
        }
      ]
    },
    {
      "cell_type": "code",
      "metadata": {
        "id": "SeS95IW2-CZZ",
        "colab": {
          "base_uri": "https://localhost:8080/",
          "height": 341
        },
        "outputId": "3010ac31-420d-453b-a8bd-d076fc98856a"
      },
      "source": [
        "ax = sns.distplot(cu_df['2/29/20'],kde=False)"
      ],
      "execution_count": null,
      "outputs": [
        {
          "output_type": "stream",
          "text": [
            "/usr/local/lib/python3.6/dist-packages/seaborn/distributions.py:2557: FutureWarning: `distplot` is a deprecated function and will be removed in a future version. Please adapt your code to use either `displot` (a figure-level function with similar flexibility) or `histplot` (an axes-level function for histograms).\n",
            "  warnings.warn(msg, FutureWarning)\n"
          ],
          "name": "stderr"
        },
        {
          "output_type": "display_data",
          "data": {
            "image/png": "[encoded data removed]",
            "text/plain": [
              "<Figure size 432x288 with 1 Axes>"
            ]
          },
          "metadata": {
            "tags": []
          }
        }
      ]
    },
    {
      "cell_type": "code",
      "metadata": {
        "id": "WYjWMYyQ-Yqy",
        "colab": {
          "base_uri": "https://localhost:8080/",
          "height": 288
        },
        "outputId": "95afcc59-30f3-43db-a805-6aa863b33c21"
      },
      "source": [
        "cu_df[['3/30/20']].describe()"
      ],
      "execution_count": null,
      "outputs": [
        {
          "output_type": "execute_result",
          "data": {
            "text/html": [
              "<div>\n",
              "<style scoped>\n",
              "    .dataframe tbody tr th:only-of-type {\n",
              "        vertical-align: middle;\n",
              "    }\n",
              "\n",
              "    .dataframe tbody tr th {\n",
              "        vertical-align: top;\n",
              "    }\n",
              "\n",
              "    .dataframe thead th {\n",
              "        text-align: right;\n",
              "    }\n",
              "</style>\n",
              "<table border=\"1\" class=\"dataframe\">\n",
              "  <thead>\n",
              "    <tr style=\"text-align: right;\">\n",
              "      <th></th>\n",
              "      <th>3/30/20</th>\n",
              "    </tr>\n",
              "  </thead>\n",
              "  <tbody>\n",
              "    <tr>\n",
              "      <th>count</th>\n",
              "      <td>3340.000000</td>\n",
              "    </tr>\n",
              "    <tr>\n",
              "      <th>mean</th>\n",
              "      <td>49.658982</td>\n",
              "    </tr>\n",
              "    <tr>\n",
              "      <th>std</th>\n",
              "      <td>426.576066</td>\n",
              "    </tr>\n",
              "    <tr>\n",
              "      <th>min</th>\n",
              "      <td>0.000000</td>\n",
              "    </tr>\n",
              "    <tr>\n",
              "      <th>25%</th>\n",
              "      <td>0.000000</td>\n",
              "    </tr>\n",
              "    <tr>\n",
              "      <th>50%</th>\n",
              "      <td>1.000000</td>\n",
              "    </tr>\n",
              "    <tr>\n",
              "      <th>75%</th>\n",
              "      <td>8.000000</td>\n",
              "    </tr>\n",
              "    <tr>\n",
              "      <th>max</th>\n",
              "      <td>11669.000000</td>\n",
              "    </tr>\n",
              "  </tbody>\n",
              "</table>\n",
              "</div>"
            ],
            "text/plain": [
              "            3/30/20\n",
              "count   3340.000000\n",
              "mean      49.658982\n",
              "std      426.576066\n",
              "min        0.000000\n",
              "25%        0.000000\n",
              "50%        1.000000\n",
              "75%        8.000000\n",
              "max    11669.000000"
            ]
          },
          "metadata": {
            "tags": []
          },
          "execution_count": 18
        }
      ]
    },
    {
      "cell_type": "code",
      "metadata": {
        "id": "hxwfg7L_-kUp",
        "colab": {
          "base_uri": "https://localhost:8080/",
          "height": 341
        },
        "outputId": "2b49849d-ea1a-4f38-a2cf-b2cb332bd04d"
      },
      "source": [
        "ax = sns.distplot(cu_df['3/30/20'],kde=False)"
      ],
      "execution_count": null,
      "outputs": [
        {
          "output_type": "stream",
          "text": [
            "/usr/local/lib/python3.6/dist-packages/seaborn/distributions.py:2557: FutureWarning: `distplot` is a deprecated function and will be removed in a future version. Please adapt your code to use either `displot` (a figure-level function with similar flexibility) or `histplot` (an axes-level function for histograms).\n",
            "  warnings.warn(msg, FutureWarning)\n"
          ],
          "name": "stderr"
        },
        {
          "output_type": "display_data",
          "data": {
            "image/png": "[encoded data removed]",
            "text/plain": [
              "<Figure size 432x288 with 1 Axes>"
            ]
          },
          "metadata": {
            "tags": []
          }
        }
      ]
    },
    {
      "cell_type": "code",
      "metadata": {
        "id": "D12Gc9Pt-eN1",
        "colab": {
          "base_uri": "https://localhost:8080/",
          "height": 288
        },
        "outputId": "60da50a5-c809-4b3a-f0e3-69051700e498"
      },
      "source": [
        "cu_df[['4/30/20']].describe()"
      ],
      "execution_count": null,
      "outputs": [
        {
          "output_type": "execute_result",
          "data": {
            "text/html": [
              "<div>\n",
              "<style scoped>\n",
              "    .dataframe tbody tr th:only-of-type {\n",
              "        vertical-align: middle;\n",
              "    }\n",
              "\n",
              "    .dataframe tbody tr th {\n",
              "        vertical-align: top;\n",
              "    }\n",
              "\n",
              "    .dataframe thead th {\n",
              "        text-align: right;\n",
              "    }\n",
              "</style>\n",
              "<table border=\"1\" class=\"dataframe\">\n",
              "  <thead>\n",
              "    <tr style=\"text-align: right;\">\n",
              "      <th></th>\n",
              "      <th>4/30/20</th>\n",
              "    </tr>\n",
              "  </thead>\n",
              "  <tbody>\n",
              "    <tr>\n",
              "      <th>count</th>\n",
              "      <td>3340.000000</td>\n",
              "    </tr>\n",
              "    <tr>\n",
              "      <th>mean</th>\n",
              "      <td>322.222754</td>\n",
              "    </tr>\n",
              "    <tr>\n",
              "      <th>std</th>\n",
              "      <td>2147.025777</td>\n",
              "    </tr>\n",
              "    <tr>\n",
              "      <th>min</th>\n",
              "      <td>0.000000</td>\n",
              "    </tr>\n",
              "    <tr>\n",
              "      <th>25%</th>\n",
              "      <td>3.000000</td>\n",
              "    </tr>\n",
              "    <tr>\n",
              "      <th>50%</th>\n",
              "      <td>16.000000</td>\n",
              "    </tr>\n",
              "    <tr>\n",
              "      <th>75%</th>\n",
              "      <td>75.250000</td>\n",
              "    </tr>\n",
              "    <tr>\n",
              "      <th>max</th>\n",
              "      <td>51631.000000</td>\n",
              "    </tr>\n",
              "  </tbody>\n",
              "</table>\n",
              "</div>"
            ],
            "text/plain": [
              "            4/30/20\n",
              "count   3340.000000\n",
              "mean     322.222754\n",
              "std     2147.025777\n",
              "min        0.000000\n",
              "25%        3.000000\n",
              "50%       16.000000\n",
              "75%       75.250000\n",
              "max    51631.000000"
            ]
          },
          "metadata": {
            "tags": []
          },
          "execution_count": 20
        }
      ]
    },
    {
      "cell_type": "code",
      "metadata": {
        "id": "3PXGksQ0-d7J",
        "colab": {
          "base_uri": "https://localhost:8080/",
          "height": 341
        },
        "outputId": "21653ffe-39d4-48d9-d2b6-f7da3ab758b1"
      },
      "source": [
        "ax = sns.distplot(cu_df['4/30/20'],kde=False)"
      ],
      "execution_count": null,
      "outputs": [
        {
          "output_type": "stream",
          "text": [
            "/usr/local/lib/python3.6/dist-packages/seaborn/distributions.py:2557: FutureWarning: `distplot` is a deprecated function and will be removed in a future version. Please adapt your code to use either `displot` (a figure-level function with similar flexibility) or `histplot` (an axes-level function for histograms).\n",
            "  warnings.warn(msg, FutureWarning)\n"
          ],
          "name": "stderr"
        },
        {
          "output_type": "display_data",
          "data": {
            "image/png": "[encoded data removed]",
            "text/plain": [
              "<Figure size 432x288 with 1 Axes>"
            ]
          },
          "metadata": {
            "tags": []
          }
        }
      ]
    },
    {
      "cell_type": "code",
      "metadata": {
        "id": "-aGx1ZIW-0es",
        "colab": {
          "base_uri": "https://localhost:8080/",
          "height": 288
        },
        "outputId": "741d0c39-c5f9-4dac-df17-dd288fe91d80"
      },
      "source": [
        "cu_df[['5/30/20']].describe()"
      ],
      "execution_count": null,
      "outputs": [
        {
          "output_type": "execute_result",
          "data": {
            "text/html": [
              "<div>\n",
              "<style scoped>\n",
              "    .dataframe tbody tr th:only-of-type {\n",
              "        vertical-align: middle;\n",
              "    }\n",
              "\n",
              "    .dataframe tbody tr th {\n",
              "        vertical-align: top;\n",
              "    }\n",
              "\n",
              "    .dataframe thead th {\n",
              "        text-align: right;\n",
              "    }\n",
              "</style>\n",
              "<table border=\"1\" class=\"dataframe\">\n",
              "  <thead>\n",
              "    <tr style=\"text-align: right;\">\n",
              "      <th></th>\n",
              "      <th>5/30/20</th>\n",
              "    </tr>\n",
              "  </thead>\n",
              "  <tbody>\n",
              "    <tr>\n",
              "      <th>count</th>\n",
              "      <td>3340.000000</td>\n",
              "    </tr>\n",
              "    <tr>\n",
              "      <th>mean</th>\n",
              "      <td>531.565269</td>\n",
              "    </tr>\n",
              "    <tr>\n",
              "      <th>std</th>\n",
              "      <td>3041.575253</td>\n",
              "    </tr>\n",
              "    <tr>\n",
              "      <th>min</th>\n",
              "      <td>0.000000</td>\n",
              "    </tr>\n",
              "    <tr>\n",
              "      <th>25%</th>\n",
              "      <td>7.000000</td>\n",
              "    </tr>\n",
              "    <tr>\n",
              "      <th>50%</th>\n",
              "      <td>35.000000</td>\n",
              "    </tr>\n",
              "    <tr>\n",
              "      <th>75%</th>\n",
              "      <td>167.000000</td>\n",
              "    </tr>\n",
              "    <tr>\n",
              "      <th>max</th>\n",
              "      <td>77119.000000</td>\n",
              "    </tr>\n",
              "  </tbody>\n",
              "</table>\n",
              "</div>"
            ],
            "text/plain": [
              "            5/30/20\n",
              "count   3340.000000\n",
              "mean     531.565269\n",
              "std     3041.575253\n",
              "min        0.000000\n",
              "25%        7.000000\n",
              "50%       35.000000\n",
              "75%      167.000000\n",
              "max    77119.000000"
            ]
          },
          "metadata": {
            "tags": []
          },
          "execution_count": 22
        }
      ]
    },
    {
      "cell_type": "code",
      "metadata": {
        "id": "jbjXCNLC-0et",
        "colab": {
          "base_uri": "https://localhost:8080/",
          "height": 341
        },
        "outputId": "4dd6948c-d5cc-4602-db66-1ed49906ef67"
      },
      "source": [
        "ax = sns.distplot(cu_df['5/30/20'],kde=False)"
      ],
      "execution_count": null,
      "outputs": [
        {
          "output_type": "stream",
          "text": [
            "/usr/local/lib/python3.6/dist-packages/seaborn/distributions.py:2557: FutureWarning: `distplot` is a deprecated function and will be removed in a future version. Please adapt your code to use either `displot` (a figure-level function with similar flexibility) or `histplot` (an axes-level function for histograms).\n",
            "  warnings.warn(msg, FutureWarning)\n"
          ],
          "name": "stderr"
        },
        {
          "output_type": "display_data",
          "data": {
            "image/png": "[encoded data removed]",
            "text/plain": [
              "<Figure size 432x288 with 1 Axes>"
            ]
          },
          "metadata": {
            "tags": []
          }
        }
      ]
    },
    {
      "cell_type": "code",
      "metadata": {
        "id": "Xb_NPFHe-5k0",
        "colab": {
          "base_uri": "https://localhost:8080/",
          "height": 288
        },
        "outputId": "ada06f78-7a4c-48ee-98d7-e15aef70e5c4"
      },
      "source": [
        "cu_df[['6/30/20']].describe()"
      ],
      "execution_count": null,
      "outputs": [
        {
          "output_type": "execute_result",
          "data": {
            "text/html": [
              "<div>\n",
              "<style scoped>\n",
              "    .dataframe tbody tr th:only-of-type {\n",
              "        vertical-align: middle;\n",
              "    }\n",
              "\n",
              "    .dataframe tbody tr th {\n",
              "        vertical-align: top;\n",
              "    }\n",
              "\n",
              "    .dataframe thead th {\n",
              "        text-align: right;\n",
              "    }\n",
              "</style>\n",
              "<table border=\"1\" class=\"dataframe\">\n",
              "  <thead>\n",
              "    <tr style=\"text-align: right;\">\n",
              "      <th></th>\n",
              "      <th>6/30/20</th>\n",
              "    </tr>\n",
              "  </thead>\n",
              "  <tbody>\n",
              "    <tr>\n",
              "      <th>count</th>\n",
              "      <td>3340.000000</td>\n",
              "    </tr>\n",
              "    <tr>\n",
              "      <th>mean</th>\n",
              "      <td>787.073054</td>\n",
              "    </tr>\n",
              "    <tr>\n",
              "      <th>std</th>\n",
              "      <td>3928.666357</td>\n",
              "    </tr>\n",
              "    <tr>\n",
              "      <th>min</th>\n",
              "      <td>0.000000</td>\n",
              "    </tr>\n",
              "    <tr>\n",
              "      <th>25%</th>\n",
              "      <td>14.000000</td>\n",
              "    </tr>\n",
              "    <tr>\n",
              "      <th>50%</th>\n",
              "      <td>68.000000</td>\n",
              "    </tr>\n",
              "    <tr>\n",
              "      <th>75%</th>\n",
              "      <td>304.000000</td>\n",
              "    </tr>\n",
              "    <tr>\n",
              "      <th>max</th>\n",
              "      <td>103850.000000</td>\n",
              "    </tr>\n",
              "  </tbody>\n",
              "</table>\n",
              "</div>"
            ],
            "text/plain": [
              "             6/30/20\n",
              "count    3340.000000\n",
              "mean      787.073054\n",
              "std      3928.666357\n",
              "min         0.000000\n",
              "25%        14.000000\n",
              "50%        68.000000\n",
              "75%       304.000000\n",
              "max    103850.000000"
            ]
          },
          "metadata": {
            "tags": []
          },
          "execution_count": 24
        }
      ]
    },
    {
      "cell_type": "code",
      "metadata": {
        "id": "yqeQ66cm-5k1",
        "colab": {
          "base_uri": "https://localhost:8080/",
          "height": 341
        },
        "outputId": "8b4e8f77-c804-4f6d-8623-026befaa57ec"
      },
      "source": [
        "ax = sns.distplot(cu_df['6/30/20'],kde=False)"
      ],
      "execution_count": null,
      "outputs": [
        {
          "output_type": "stream",
          "text": [
            "/usr/local/lib/python3.6/dist-packages/seaborn/distributions.py:2557: FutureWarning: `distplot` is a deprecated function and will be removed in a future version. Please adapt your code to use either `displot` (a figure-level function with similar flexibility) or `histplot` (an axes-level function for histograms).\n",
            "  warnings.warn(msg, FutureWarning)\n"
          ],
          "name": "stderr"
        },
        {
          "output_type": "display_data",
          "data": {
            "image/png": "[encoded data removed]",
            "text/plain": [
              "<Figure size 432x288 with 1 Axes>"
            ]
          },
          "metadata": {
            "tags": []
          }
        }
      ]
    },
    {
      "cell_type": "code",
      "metadata": {
        "id": "pL8QMfoD--0N",
        "colab": {
          "base_uri": "https://localhost:8080/",
          "height": 288
        },
        "outputId": "9bd4e7ea-e3ee-4f41-ad52-158a6805980e"
      },
      "source": [
        "cu_df[['7/30/20']].describe()"
      ],
      "execution_count": null,
      "outputs": [
        {
          "output_type": "execute_result",
          "data": {
            "text/html": [
              "<div>\n",
              "<style scoped>\n",
              "    .dataframe tbody tr th:only-of-type {\n",
              "        vertical-align: middle;\n",
              "    }\n",
              "\n",
              "    .dataframe tbody tr th {\n",
              "        vertical-align: top;\n",
              "    }\n",
              "\n",
              "    .dataframe thead th {\n",
              "        text-align: right;\n",
              "    }\n",
              "</style>\n",
              "<table border=\"1\" class=\"dataframe\">\n",
              "  <thead>\n",
              "    <tr style=\"text-align: right;\">\n",
              "      <th></th>\n",
              "      <th>7/30/20</th>\n",
              "    </tr>\n",
              "  </thead>\n",
              "  <tbody>\n",
              "    <tr>\n",
              "      <th>count</th>\n",
              "      <td>3340.000000</td>\n",
              "    </tr>\n",
              "    <tr>\n",
              "      <th>mean</th>\n",
              "      <td>1342.408084</td>\n",
              "    </tr>\n",
              "    <tr>\n",
              "      <th>std</th>\n",
              "      <td>6215.832032</td>\n",
              "    </tr>\n",
              "    <tr>\n",
              "      <th>min</th>\n",
              "      <td>0.000000</td>\n",
              "    </tr>\n",
              "    <tr>\n",
              "      <th>25%</th>\n",
              "      <td>40.000000</td>\n",
              "    </tr>\n",
              "    <tr>\n",
              "      <th>50%</th>\n",
              "      <td>160.000000</td>\n",
              "    </tr>\n",
              "    <tr>\n",
              "      <th>75%</th>\n",
              "      <td>606.000000</td>\n",
              "    </tr>\n",
              "    <tr>\n",
              "      <th>max</th>\n",
              "      <td>186036.000000</td>\n",
              "    </tr>\n",
              "  </tbody>\n",
              "</table>\n",
              "</div>"
            ],
            "text/plain": [
              "             7/30/20\n",
              "count    3340.000000\n",
              "mean     1342.408084\n",
              "std      6215.832032\n",
              "min         0.000000\n",
              "25%        40.000000\n",
              "50%       160.000000\n",
              "75%       606.000000\n",
              "max    186036.000000"
            ]
          },
          "metadata": {
            "tags": []
          },
          "execution_count": 26
        }
      ]
    },
    {
      "cell_type": "code",
      "metadata": {
        "id": "afXSNdTG--0O",
        "colab": {
          "base_uri": "https://localhost:8080/",
          "height": 341
        },
        "outputId": "a438e963-2f5a-4324-cf54-35af2bbe5fdf"
      },
      "source": [
        "ax = sns.distplot(cu_df['7/30/20'],kde=False)"
      ],
      "execution_count": null,
      "outputs": [
        {
          "output_type": "stream",
          "text": [
            "/usr/local/lib/python3.6/dist-packages/seaborn/distributions.py:2557: FutureWarning: `distplot` is a deprecated function and will be removed in a future version. Please adapt your code to use either `displot` (a figure-level function with similar flexibility) or `histplot` (an axes-level function for histograms).\n",
            "  warnings.warn(msg, FutureWarning)\n"
          ],
          "name": "stderr"
        },
        {
          "output_type": "display_data",
          "data": {
            "image/png": "[encoded data removed]",
            "text/plain": [
              "<Figure size 432x288 with 1 Axes>"
            ]
          },
          "metadata": {
            "tags": []
          }
        }
      ]
    },
    {
      "cell_type": "code",
      "metadata": {
        "id": "cW40lfXm_CRr",
        "colab": {
          "base_uri": "https://localhost:8080/",
          "height": 288
        },
        "outputId": "335c1c75-a8ab-4a1b-afdc-e1860330157e"
      },
      "source": [
        "cu_df[['8/30/20']].describe()"
      ],
      "execution_count": null,
      "outputs": [
        {
          "output_type": "execute_result",
          "data": {
            "text/html": [
              "<div>\n",
              "<style scoped>\n",
              "    .dataframe tbody tr th:only-of-type {\n",
              "        vertical-align: middle;\n",
              "    }\n",
              "\n",
              "    .dataframe tbody tr th {\n",
              "        vertical-align: top;\n",
              "    }\n",
              "\n",
              "    .dataframe thead th {\n",
              "        text-align: right;\n",
              "    }\n",
              "</style>\n",
              "<table border=\"1\" class=\"dataframe\">\n",
              "  <thead>\n",
              "    <tr style=\"text-align: right;\">\n",
              "      <th></th>\n",
              "      <th>8/30/20</th>\n",
              "    </tr>\n",
              "  </thead>\n",
              "  <tbody>\n",
              "    <tr>\n",
              "      <th>count</th>\n",
              "      <td>3340.000000</td>\n",
              "    </tr>\n",
              "    <tr>\n",
              "      <th>mean</th>\n",
              "      <td>1790.746108</td>\n",
              "    </tr>\n",
              "    <tr>\n",
              "      <th>std</th>\n",
              "      <td>7861.088941</td>\n",
              "    </tr>\n",
              "    <tr>\n",
              "      <th>min</th>\n",
              "      <td>0.000000</td>\n",
              "    </tr>\n",
              "    <tr>\n",
              "      <th>25%</th>\n",
              "      <td>72.000000</td>\n",
              "    </tr>\n",
              "    <tr>\n",
              "      <th>50%</th>\n",
              "      <td>268.000000</td>\n",
              "    </tr>\n",
              "    <tr>\n",
              "      <th>75%</th>\n",
              "      <td>912.250000</td>\n",
              "    </tr>\n",
              "    <tr>\n",
              "      <th>max</th>\n",
              "      <td>240749.000000</td>\n",
              "    </tr>\n",
              "  </tbody>\n",
              "</table>\n",
              "</div>"
            ],
            "text/plain": [
              "             8/30/20\n",
              "count    3340.000000\n",
              "mean     1790.746108\n",
              "std      7861.088941\n",
              "min         0.000000\n",
              "25%        72.000000\n",
              "50%       268.000000\n",
              "75%       912.250000\n",
              "max    240749.000000"
            ]
          },
          "metadata": {
            "tags": []
          },
          "execution_count": 28
        }
      ]
    },
    {
      "cell_type": "code",
      "metadata": {
        "id": "I3w_HUBa_CRr",
        "colab": {
          "base_uri": "https://localhost:8080/",
          "height": 341
        },
        "outputId": "4954def8-b9cd-4936-e9fc-60345e6202bb"
      },
      "source": [
        "ax = sns.distplot(cu_df['8/30/20'],kde=False)"
      ],
      "execution_count": null,
      "outputs": [
        {
          "output_type": "stream",
          "text": [
            "/usr/local/lib/python3.6/dist-packages/seaborn/distributions.py:2557: FutureWarning: `distplot` is a deprecated function and will be removed in a future version. Please adapt your code to use either `displot` (a figure-level function with similar flexibility) or `histplot` (an axes-level function for histograms).\n",
            "  warnings.warn(msg, FutureWarning)\n"
          ],
          "name": "stderr"
        },
        {
          "output_type": "display_data",
          "data": {
            "image/png": "[encoded data removed]",
            "text/plain": [
              "<Figure size 432x288 with 1 Axes>"
            ]
          },
          "metadata": {
            "tags": []
          }
        }
      ]
    },
    {
      "cell_type": "code",
      "metadata": {
        "id": "2VsxyW90_FiN",
        "colab": {
          "base_uri": "https://localhost:8080/",
          "height": 288
        },
        "outputId": "96e522eb-8f61-4aa2-a16d-b8e741ee9857"
      },
      "source": [
        "cu_df[['9/30/20']].describe()"
      ],
      "execution_count": null,
      "outputs": [
        {
          "output_type": "execute_result",
          "data": {
            "text/html": [
              "<div>\n",
              "<style scoped>\n",
              "    .dataframe tbody tr th:only-of-type {\n",
              "        vertical-align: middle;\n",
              "    }\n",
              "\n",
              "    .dataframe tbody tr th {\n",
              "        vertical-align: top;\n",
              "    }\n",
              "\n",
              "    .dataframe thead th {\n",
              "        text-align: right;\n",
              "    }\n",
              "</style>\n",
              "<table border=\"1\" class=\"dataframe\">\n",
              "  <thead>\n",
              "    <tr style=\"text-align: right;\">\n",
              "      <th></th>\n",
              "      <th>9/30/20</th>\n",
              "    </tr>\n",
              "  </thead>\n",
              "  <tbody>\n",
              "    <tr>\n",
              "      <th>count</th>\n",
              "      <td>3340.000000</td>\n",
              "    </tr>\n",
              "    <tr>\n",
              "      <th>mean</th>\n",
              "      <td>2161.093413</td>\n",
              "    </tr>\n",
              "    <tr>\n",
              "      <th>std</th>\n",
              "      <td>8903.989343</td>\n",
              "    </tr>\n",
              "    <tr>\n",
              "      <th>min</th>\n",
              "      <td>0.000000</td>\n",
              "    </tr>\n",
              "    <tr>\n",
              "      <th>25%</th>\n",
              "      <td>116.750000</td>\n",
              "    </tr>\n",
              "    <tr>\n",
              "      <th>50%</th>\n",
              "      <td>385.500000</td>\n",
              "    </tr>\n",
              "    <tr>\n",
              "      <th>75%</th>\n",
              "      <td>1219.250000</td>\n",
              "    </tr>\n",
              "    <tr>\n",
              "      <th>max</th>\n",
              "      <td>270299.000000</td>\n",
              "    </tr>\n",
              "  </tbody>\n",
              "</table>\n",
              "</div>"
            ],
            "text/plain": [
              "             9/30/20\n",
              "count    3340.000000\n",
              "mean     2161.093413\n",
              "std      8903.989343\n",
              "min         0.000000\n",
              "25%       116.750000\n",
              "50%       385.500000\n",
              "75%      1219.250000\n",
              "max    270299.000000"
            ]
          },
          "metadata": {
            "tags": []
          },
          "execution_count": 30
        }
      ]
    },
    {
      "cell_type": "code",
      "metadata": {
        "id": "Kc982IVp_FiO",
        "colab": {
          "base_uri": "https://localhost:8080/",
          "height": 341
        },
        "outputId": "151970ef-d00c-41b1-9dd7-4cf834af9241"
      },
      "source": [
        "ax = sns.distplot(cu_df['9/30/20'],kde=False)"
      ],
      "execution_count": null,
      "outputs": [
        {
          "output_type": "stream",
          "text": [
            "/usr/local/lib/python3.6/dist-packages/seaborn/distributions.py:2557: FutureWarning: `distplot` is a deprecated function and will be removed in a future version. Please adapt your code to use either `displot` (a figure-level function with similar flexibility) or `histplot` (an axes-level function for histograms).\n",
            "  warnings.warn(msg, FutureWarning)\n"
          ],
          "name": "stderr"
        },
        {
          "output_type": "display_data",
          "data": {
            "image/png": "[encoded data removed]",
            "text/plain": [
              "<Figure size 432x288 with 1 Axes>"
            ]
          },
          "metadata": {
            "tags": []
          }
        }
      ]
    },
    {
      "cell_type": "code",
      "metadata": {
        "id": "dJrQ2SfL_Hyj",
        "colab": {
          "base_uri": "https://localhost:8080/",
          "height": 288
        },
        "outputId": "9d082e59-7f97-4ff8-9a26-8adadb2ac5ce"
      },
      "source": [
        "cu_df[['10/30/20']].describe()"
      ],
      "execution_count": null,
      "outputs": [
        {
          "output_type": "execute_result",
          "data": {
            "text/html": [
              "<div>\n",
              "<style scoped>\n",
              "    .dataframe tbody tr th:only-of-type {\n",
              "        vertical-align: middle;\n",
              "    }\n",
              "\n",
              "    .dataframe tbody tr th {\n",
              "        vertical-align: top;\n",
              "    }\n",
              "\n",
              "    .dataframe thead th {\n",
              "        text-align: right;\n",
              "    }\n",
              "</style>\n",
              "<table border=\"1\" class=\"dataframe\">\n",
              "  <thead>\n",
              "    <tr style=\"text-align: right;\">\n",
              "      <th></th>\n",
              "      <th>10/30/20</th>\n",
              "    </tr>\n",
              "  </thead>\n",
              "  <tbody>\n",
              "    <tr>\n",
              "      <th>count</th>\n",
              "      <td>3340.000000</td>\n",
              "    </tr>\n",
              "    <tr>\n",
              "      <th>mean</th>\n",
              "      <td>2707.832635</td>\n",
              "    </tr>\n",
              "    <tr>\n",
              "      <th>std</th>\n",
              "      <td>10273.983710</td>\n",
              "    </tr>\n",
              "    <tr>\n",
              "      <th>min</th>\n",
              "      <td>0.000000</td>\n",
              "    </tr>\n",
              "    <tr>\n",
              "      <th>25%</th>\n",
              "      <td>199.750000</td>\n",
              "    </tr>\n",
              "    <tr>\n",
              "      <th>50%</th>\n",
              "      <td>578.500000</td>\n",
              "    </tr>\n",
              "    <tr>\n",
              "      <th>75%</th>\n",
              "      <td>1666.750000</td>\n",
              "    </tr>\n",
              "    <tr>\n",
              "      <th>max</th>\n",
              "      <td>306327.000000</td>\n",
              "    </tr>\n",
              "  </tbody>\n",
              "</table>\n",
              "</div>"
            ],
            "text/plain": [
              "            10/30/20\n",
              "count    3340.000000\n",
              "mean     2707.832635\n",
              "std     10273.983710\n",
              "min         0.000000\n",
              "25%       199.750000\n",
              "50%       578.500000\n",
              "75%      1666.750000\n",
              "max    306327.000000"
            ]
          },
          "metadata": {
            "tags": []
          },
          "execution_count": 32
        }
      ]
    },
    {
      "cell_type": "code",
      "metadata": {
        "id": "7UuEc4zK_Hyj",
        "colab": {
          "base_uri": "https://localhost:8080/",
          "height": 341
        },
        "outputId": "2c619ae6-43b2-4678-b5e3-5363d98b7d71"
      },
      "source": [
        "ax = sns.distplot(cu_df['10/30/20'],kde=False)"
      ],
      "execution_count": null,
      "outputs": [
        {
          "output_type": "stream",
          "text": [
            "/usr/local/lib/python3.6/dist-packages/seaborn/distributions.py:2557: FutureWarning: `distplot` is a deprecated function and will be removed in a future version. Please adapt your code to use either `displot` (a figure-level function with similar flexibility) or `histplot` (an axes-level function for histograms).\n",
            "  warnings.warn(msg, FutureWarning)\n"
          ],
          "name": "stderr"
        },
        {
          "output_type": "display_data",
          "data": {
            "image/png": "[encoded data removed]",
            "text/plain": [
              "<Figure size 432x288 with 1 Axes>"
            ]
          },
          "metadata": {
            "tags": []
          }
        }
      ]
    },
    {
      "cell_type": "code",
      "metadata": {
        "id": "EpDzwtiI_LkO",
        "colab": {
          "base_uri": "https://localhost:8080/",
          "height": 288
        },
        "outputId": "bb5c7a6e-5730-4865-d00b-749d1b6dffc7"
      },
      "source": [
        "cu_df[['11/30/20']].describe()"
      ],
      "execution_count": null,
      "outputs": [
        {
          "output_type": "execute_result",
          "data": {
            "text/html": [
              "<div>\n",
              "<style scoped>\n",
              "    .dataframe tbody tr th:only-of-type {\n",
              "        vertical-align: middle;\n",
              "    }\n",
              "\n",
              "    .dataframe tbody tr th {\n",
              "        vertical-align: top;\n",
              "    }\n",
              "\n",
              "    .dataframe thead th {\n",
              "        text-align: right;\n",
              "    }\n",
              "</style>\n",
              "<table border=\"1\" class=\"dataframe\">\n",
              "  <thead>\n",
              "    <tr style=\"text-align: right;\">\n",
              "      <th></th>\n",
              "      <th>11/30/20</th>\n",
              "    </tr>\n",
              "  </thead>\n",
              "  <tbody>\n",
              "    <tr>\n",
              "      <th>count</th>\n",
              "      <td>3340.000000</td>\n",
              "    </tr>\n",
              "    <tr>\n",
              "      <th>mean</th>\n",
              "      <td>4054.247006</td>\n",
              "    </tr>\n",
              "    <tr>\n",
              "      <th>std</th>\n",
              "      <td>14038.988476</td>\n",
              "    </tr>\n",
              "    <tr>\n",
              "      <th>min</th>\n",
              "      <td>0.000000</td>\n",
              "    </tr>\n",
              "    <tr>\n",
              "      <th>25%</th>\n",
              "      <td>386.000000</td>\n",
              "    </tr>\n",
              "    <tr>\n",
              "      <th>50%</th>\n",
              "      <td>995.000000</td>\n",
              "    </tr>\n",
              "    <tr>\n",
              "      <th>75%</th>\n",
              "      <td>2672.000000</td>\n",
              "    </tr>\n",
              "    <tr>\n",
              "      <th>max</th>\n",
              "      <td>400919.000000</td>\n",
              "    </tr>\n",
              "  </tbody>\n",
              "</table>\n",
              "</div>"
            ],
            "text/plain": [
              "            11/30/20\n",
              "count    3340.000000\n",
              "mean     4054.247006\n",
              "std     14038.988476\n",
              "min         0.000000\n",
              "25%       386.000000\n",
              "50%       995.000000\n",
              "75%      2672.000000\n",
              "max    400919.000000"
            ]
          },
          "metadata": {
            "tags": []
          },
          "execution_count": 34
        }
      ]
    },
    {
      "cell_type": "code",
      "metadata": {
        "id": "1gFBt6gB_LkP",
        "colab": {
          "base_uri": "https://localhost:8080/",
          "height": 341
        },
        "outputId": "19e100bf-aa3b-4956-eaa4-7e1829ec0870"
      },
      "source": [
        "ax = sns.distplot(cu_df['11/30/20'],kde=False)"
      ],
      "execution_count": null,
      "outputs": [
        {
          "output_type": "stream",
          "text": [
            "/usr/local/lib/python3.6/dist-packages/seaborn/distributions.py:2557: FutureWarning: `distplot` is a deprecated function and will be removed in a future version. Please adapt your code to use either `displot` (a figure-level function with similar flexibility) or `histplot` (an axes-level function for histograms).\n",
            "  warnings.warn(msg, FutureWarning)\n"
          ],
          "name": "stderr"
        },
        {
          "output_type": "display_data",
          "data": {
            "image/png": "[encoded data removed]",
            "text/plain": [
              "<Figure size 432x288 with 1 Axes>"
            ]
          },
          "metadata": {
            "tags": []
          }
        }
      ]
    },
    {
      "cell_type": "code",
      "metadata": {
        "id": "iuzz5ceS_QJW",
        "colab": {
          "base_uri": "https://localhost:8080/",
          "height": 288
        },
        "outputId": "7d20c2c4-5594-4f65-d6a5-6c2ea03f7a86"
      },
      "source": [
        "cu_df[['12/7/20']].describe()"
      ],
      "execution_count": null,
      "outputs": [
        {
          "output_type": "execute_result",
          "data": {
            "text/html": [
              "<div>\n",
              "<style scoped>\n",
              "    .dataframe tbody tr th:only-of-type {\n",
              "        vertical-align: middle;\n",
              "    }\n",
              "\n",
              "    .dataframe tbody tr th {\n",
              "        vertical-align: top;\n",
              "    }\n",
              "\n",
              "    .dataframe thead th {\n",
              "        text-align: right;\n",
              "    }\n",
              "</style>\n",
              "<table border=\"1\" class=\"dataframe\">\n",
              "  <thead>\n",
              "    <tr style=\"text-align: right;\">\n",
              "      <th></th>\n",
              "      <th>12/7/20</th>\n",
              "    </tr>\n",
              "  </thead>\n",
              "  <tbody>\n",
              "    <tr>\n",
              "      <th>count</th>\n",
              "      <td>3340.000000</td>\n",
              "    </tr>\n",
              "    <tr>\n",
              "      <th>mean</th>\n",
              "      <td>4475.838024</td>\n",
              "    </tr>\n",
              "    <tr>\n",
              "      <th>std</th>\n",
              "      <td>15477.533337</td>\n",
              "    </tr>\n",
              "    <tr>\n",
              "      <th>min</th>\n",
              "      <td>0.000000</td>\n",
              "    </tr>\n",
              "    <tr>\n",
              "      <th>25%</th>\n",
              "      <td>437.000000</td>\n",
              "    </tr>\n",
              "    <tr>\n",
              "      <th>50%</th>\n",
              "      <td>1112.500000</td>\n",
              "    </tr>\n",
              "    <tr>\n",
              "      <th>75%</th>\n",
              "      <td>2968.000000</td>\n",
              "    </tr>\n",
              "    <tr>\n",
              "      <th>max</th>\n",
              "      <td>457880.000000</td>\n",
              "    </tr>\n",
              "  </tbody>\n",
              "</table>\n",
              "</div>"
            ],
            "text/plain": [
              "             12/7/20\n",
              "count    3340.000000\n",
              "mean     4475.838024\n",
              "std     15477.533337\n",
              "min         0.000000\n",
              "25%       437.000000\n",
              "50%      1112.500000\n",
              "75%      2968.000000\n",
              "max    457880.000000"
            ]
          },
          "metadata": {
            "tags": []
          },
          "execution_count": 36
        }
      ]
    },
    {
      "cell_type": "code",
      "metadata": {
        "id": "fZHRoNA5_QJW",
        "colab": {
          "base_uri": "https://localhost:8080/",
          "height": 341
        },
        "outputId": "890ead86-bd57-4e45-ab49-ea7817e1e454"
      },
      "source": [
        "ax = sns.distplot(cu_df['12/7/20'],kde=False)"
      ],
      "execution_count": null,
      "outputs": [
        {
          "output_type": "stream",
          "text": [
            "/usr/local/lib/python3.6/dist-packages/seaborn/distributions.py:2557: FutureWarning: `distplot` is a deprecated function and will be removed in a future version. Please adapt your code to use either `displot` (a figure-level function with similar flexibility) or `histplot` (an axes-level function for histograms).\n",
            "  warnings.warn(msg, FutureWarning)\n"
          ],
          "name": "stderr"
        },
        {
          "output_type": "display_data",
          "data": {
            "image/png": "[encoded data removed]",
            "text/plain": [
              "<Figure size 432x288 with 1 Axes>"
            ]
          },
          "metadata": {
            "tags": []
          }
        }
      ]
    },
    {
      "cell_type": "markdown",
      "metadata": {
        "id": "YOta59COF1YY"
      },
      "source": [
        "# Global preliminary histograms by end of month reports"
      ]
    },
    {
      "cell_type": "code",
      "metadata": {
        "id": "fIw6QXeQF1YZ",
        "colab": {
          "base_uri": "https://localhost:8080/",
          "height": 288
        },
        "outputId": "e9295a6d-0ea0-4e25-ca5e-a0c2baf5af1c"
      },
      "source": [
        "#Exploring the data by end of month reporting, histograms\n",
        "#cg_df = Confimed Global\n",
        "cg_df[['1/30/20']].describe()"
      ],
      "execution_count": null,
      "outputs": [
        {
          "output_type": "execute_result",
          "data": {
            "text/html": [
              "<div>\n",
              "<style scoped>\n",
              "    .dataframe tbody tr th:only-of-type {\n",
              "        vertical-align: middle;\n",
              "    }\n",
              "\n",
              "    .dataframe tbody tr th {\n",
              "        vertical-align: top;\n",
              "    }\n",
              "\n",
              "    .dataframe thead th {\n",
              "        text-align: right;\n",
              "    }\n",
              "</style>\n",
              "<table border=\"1\" class=\"dataframe\">\n",
              "  <thead>\n",
              "    <tr style=\"text-align: right;\">\n",
              "      <th></th>\n",
              "      <th>1/30/20</th>\n",
              "    </tr>\n",
              "  </thead>\n",
              "  <tbody>\n",
              "    <tr>\n",
              "      <th>count</th>\n",
              "      <td>271.000000</td>\n",
              "    </tr>\n",
              "    <tr>\n",
              "      <th>mean</th>\n",
              "      <td>30.387454</td>\n",
              "    </tr>\n",
              "    <tr>\n",
              "      <th>std</th>\n",
              "      <td>301.099493</td>\n",
              "    </tr>\n",
              "    <tr>\n",
              "      <th>min</th>\n",
              "      <td>0.000000</td>\n",
              "    </tr>\n",
              "    <tr>\n",
              "      <th>25%</th>\n",
              "      <td>0.000000</td>\n",
              "    </tr>\n",
              "    <tr>\n",
              "      <th>50%</th>\n",
              "      <td>0.000000</td>\n",
              "    </tr>\n",
              "    <tr>\n",
              "      <th>75%</th>\n",
              "      <td>0.000000</td>\n",
              "    </tr>\n",
              "    <tr>\n",
              "      <th>max</th>\n",
              "      <td>4903.000000</td>\n",
              "    </tr>\n",
              "  </tbody>\n",
              "</table>\n",
              "</div>"
            ],
            "text/plain": [
              "           1/30/20\n",
              "count   271.000000\n",
              "mean     30.387454\n",
              "std     301.099493\n",
              "min       0.000000\n",
              "25%       0.000000\n",
              "50%       0.000000\n",
              "75%       0.000000\n",
              "max    4903.000000"
            ]
          },
          "metadata": {
            "tags": []
          },
          "execution_count": 38
        }
      ]
    },
    {
      "cell_type": "code",
      "metadata": {
        "id": "2F-q79THF1YZ",
        "colab": {
          "base_uri": "https://localhost:8080/",
          "height": 341
        },
        "outputId": "9980db16-5ed9-403f-b943-d1e4fd8e1236"
      },
      "source": [
        "ax = sns.distplot(cg_df['1/30/20'],kde=False)"
      ],
      "execution_count": null,
      "outputs": [
        {
          "output_type": "stream",
          "text": [
            "/usr/local/lib/python3.6/dist-packages/seaborn/distributions.py:2557: FutureWarning: `distplot` is a deprecated function and will be removed in a future version. Please adapt your code to use either `displot` (a figure-level function with similar flexibility) or `histplot` (an axes-level function for histograms).\n",
            "  warnings.warn(msg, FutureWarning)\n"
          ],
          "name": "stderr"
        },
        {
          "output_type": "display_data",
          "data": {
            "image/png": "[encoded data removed]",
            "text/plain": [
              "<Figure size 432x288 with 1 Axes>"
            ]
          },
          "metadata": {
            "tags": []
          }
        }
      ]
    },
    {
      "cell_type": "code",
      "metadata": {
        "id": "Vq_8tXu6F1Yb",
        "colab": {
          "base_uri": "https://localhost:8080/",
          "height": 288
        },
        "outputId": "87076584-69d2-444c-942f-7c9b9537ea10"
      },
      "source": [
        "cg_df[['2/29/20']].describe()"
      ],
      "execution_count": null,
      "outputs": [
        {
          "output_type": "execute_result",
          "data": {
            "text/html": [
              "<div>\n",
              "<style scoped>\n",
              "    .dataframe tbody tr th:only-of-type {\n",
              "        vertical-align: middle;\n",
              "    }\n",
              "\n",
              "    .dataframe tbody tr th {\n",
              "        vertical-align: top;\n",
              "    }\n",
              "\n",
              "    .dataframe thead th {\n",
              "        text-align: right;\n",
              "    }\n",
              "</style>\n",
              "<table border=\"1\" class=\"dataframe\">\n",
              "  <thead>\n",
              "    <tr style=\"text-align: right;\">\n",
              "      <th></th>\n",
              "      <th>2/29/20</th>\n",
              "    </tr>\n",
              "  </thead>\n",
              "  <tbody>\n",
              "    <tr>\n",
              "      <th>count</th>\n",
              "      <td>271.000000</td>\n",
              "    </tr>\n",
              "    <tr>\n",
              "      <th>mean</th>\n",
              "      <td>317.391144</td>\n",
              "    </tr>\n",
              "    <tr>\n",
              "      <th>std</th>\n",
              "      <td>4034.946706</td>\n",
              "    </tr>\n",
              "    <tr>\n",
              "      <th>min</th>\n",
              "      <td>0.000000</td>\n",
              "    </tr>\n",
              "    <tr>\n",
              "      <th>25%</th>\n",
              "      <td>0.000000</td>\n",
              "    </tr>\n",
              "    <tr>\n",
              "      <th>50%</th>\n",
              "      <td>0.000000</td>\n",
              "    </tr>\n",
              "    <tr>\n",
              "      <th>75%</th>\n",
              "      <td>3.500000</td>\n",
              "    </tr>\n",
              "    <tr>\n",
              "      <th>max</th>\n",
              "      <td>66337.000000</td>\n",
              "    </tr>\n",
              "  </tbody>\n",
              "</table>\n",
              "</div>"
            ],
            "text/plain": [
              "            2/29/20\n",
              "count    271.000000\n",
              "mean     317.391144\n",
              "std     4034.946706\n",
              "min        0.000000\n",
              "25%        0.000000\n",
              "50%        0.000000\n",
              "75%        3.500000\n",
              "max    66337.000000"
            ]
          },
          "metadata": {
            "tags": []
          },
          "execution_count": 40
        }
      ]
    },
    {
      "cell_type": "code",
      "metadata": {
        "id": "0gUxXad0F1Yb",
        "colab": {
          "base_uri": "https://localhost:8080/",
          "height": 341
        },
        "outputId": "4afc6cd4-00f4-499f-d7ce-832135eb6e0e"
      },
      "source": [
        "ax = sns.distplot(cg_df['2/29/20'],kde=False)"
      ],
      "execution_count": null,
      "outputs": [
        {
          "output_type": "stream",
          "text": [
            "/usr/local/lib/python3.6/dist-packages/seaborn/distributions.py:2557: FutureWarning: `distplot` is a deprecated function and will be removed in a future version. Please adapt your code to use either `displot` (a figure-level function with similar flexibility) or `histplot` (an axes-level function for histograms).\n",
            "  warnings.warn(msg, FutureWarning)\n"
          ],
          "name": "stderr"
        },
        {
          "output_type": "display_data",
          "data": {
            "image/png": "[encoded data removed]",
            "text/plain": [
              "<Figure size 432x288 with 1 Axes>"
            ]
          },
          "metadata": {
            "tags": []
          }
        }
      ]
    },
    {
      "cell_type": "code",
      "metadata": {
        "id": "83jW5BpEF1Yb",
        "colab": {
          "base_uri": "https://localhost:8080/",
          "height": 288
        },
        "outputId": "2c234f0a-1e21-4903-d831-0f0e609358cb"
      },
      "source": [
        "cg_df[['3/30/20']].describe()"
      ],
      "execution_count": null,
      "outputs": [
        {
          "output_type": "execute_result",
          "data": {
            "text/html": [
              "<div>\n",
              "<style scoped>\n",
              "    .dataframe tbody tr th:only-of-type {\n",
              "        vertical-align: middle;\n",
              "    }\n",
              "\n",
              "    .dataframe tbody tr th {\n",
              "        vertical-align: top;\n",
              "    }\n",
              "\n",
              "    .dataframe thead th {\n",
              "        text-align: right;\n",
              "    }\n",
              "</style>\n",
              "<table border=\"1\" class=\"dataframe\">\n",
              "  <thead>\n",
              "    <tr style=\"text-align: right;\">\n",
              "      <th></th>\n",
              "      <th>3/30/20</th>\n",
              "    </tr>\n",
              "  </thead>\n",
              "  <tbody>\n",
              "    <tr>\n",
              "      <th>count</th>\n",
              "      <td>271.000000</td>\n",
              "    </tr>\n",
              "    <tr>\n",
              "      <th>mean</th>\n",
              "      <td>2947.933579</td>\n",
              "    </tr>\n",
              "    <tr>\n",
              "      <th>std</th>\n",
              "      <td>14684.212113</td>\n",
              "    </tr>\n",
              "    <tr>\n",
              "      <th>min</th>\n",
              "      <td>0.000000</td>\n",
              "    </tr>\n",
              "    <tr>\n",
              "      <th>25%</th>\n",
              "      <td>11.500000</td>\n",
              "    </tr>\n",
              "    <tr>\n",
              "      <th>50%</th>\n",
              "      <td>135.000000</td>\n",
              "    </tr>\n",
              "    <tr>\n",
              "      <th>75%</th>\n",
              "      <td>658.500000</td>\n",
              "    </tr>\n",
              "    <tr>\n",
              "      <th>max</th>\n",
              "      <td>165861.000000</td>\n",
              "    </tr>\n",
              "  </tbody>\n",
              "</table>\n",
              "</div>"
            ],
            "text/plain": [
              "             3/30/20\n",
              "count     271.000000\n",
              "mean     2947.933579\n",
              "std     14684.212113\n",
              "min         0.000000\n",
              "25%        11.500000\n",
              "50%       135.000000\n",
              "75%       658.500000\n",
              "max    165861.000000"
            ]
          },
          "metadata": {
            "tags": []
          },
          "execution_count": 42
        }
      ]
    },
    {
      "cell_type": "code",
      "metadata": {
        "id": "5RqwpSrMF1Yc",
        "colab": {
          "base_uri": "https://localhost:8080/",
          "height": 341
        },
        "outputId": "69444d53-1c45-4258-aeaf-3898ec3cd1ef"
      },
      "source": [
        "ax = sns.distplot(cg_df['3/30/20'],kde=False)"
      ],
      "execution_count": null,
      "outputs": [
        {
          "output_type": "stream",
          "text": [
            "/usr/local/lib/python3.6/dist-packages/seaborn/distributions.py:2557: FutureWarning: `distplot` is a deprecated function and will be removed in a future version. Please adapt your code to use either `displot` (a figure-level function with similar flexibility) or `histplot` (an axes-level function for histograms).\n",
            "  warnings.warn(msg, FutureWarning)\n"
          ],
          "name": "stderr"
        },
        {
          "output_type": "display_data",
          "data": {
            "image/png": "[encoded data removed]",
            "text/plain": [
              "<Figure size 432x288 with 1 Axes>"
            ]
          },
          "metadata": {
            "tags": []
          }
        }
      ]
    },
    {
      "cell_type": "code",
      "metadata": {
        "id": "Z_CZuhs3F1Yc",
        "colab": {
          "base_uri": "https://localhost:8080/",
          "height": 288
        },
        "outputId": "fcb6afbd-c651-413d-f891-5ad397946c48"
      },
      "source": [
        "cg_df[['4/30/20']].describe()"
      ],
      "execution_count": null,
      "outputs": [
        {
          "output_type": "execute_result",
          "data": {
            "text/html": [
              "<div>\n",
              "<style scoped>\n",
              "    .dataframe tbody tr th:only-of-type {\n",
              "        vertical-align: middle;\n",
              "    }\n",
              "\n",
              "    .dataframe tbody tr th {\n",
              "        vertical-align: top;\n",
              "    }\n",
              "\n",
              "    .dataframe thead th {\n",
              "        text-align: right;\n",
              "    }\n",
              "</style>\n",
              "<table border=\"1\" class=\"dataframe\">\n",
              "  <thead>\n",
              "    <tr style=\"text-align: right;\">\n",
              "      <th></th>\n",
              "      <th>4/30/20</th>\n",
              "    </tr>\n",
              "  </thead>\n",
              "  <tbody>\n",
              "    <tr>\n",
              "      <th>count</th>\n",
              "      <td>2.710000e+02</td>\n",
              "    </tr>\n",
              "    <tr>\n",
              "      <th>mean</th>\n",
              "      <td>1.209990e+04</td>\n",
              "    </tr>\n",
              "    <tr>\n",
              "      <th>std</th>\n",
              "      <td>7.105314e+04</td>\n",
              "    </tr>\n",
              "    <tr>\n",
              "      <th>min</th>\n",
              "      <td>0.000000e+00</td>\n",
              "    </tr>\n",
              "    <tr>\n",
              "      <th>25%</th>\n",
              "      <td>7.400000e+01</td>\n",
              "    </tr>\n",
              "    <tr>\n",
              "      <th>50%</th>\n",
              "      <td>4.420000e+02</td>\n",
              "    </tr>\n",
              "    <tr>\n",
              "      <th>75%</th>\n",
              "      <td>2.080500e+03</td>\n",
              "    </tr>\n",
              "    <tr>\n",
              "      <th>max</th>\n",
              "      <td>1.080161e+06</td>\n",
              "    </tr>\n",
              "  </tbody>\n",
              "</table>\n",
              "</div>"
            ],
            "text/plain": [
              "            4/30/20\n",
              "count  2.710000e+02\n",
              "mean   1.209990e+04\n",
              "std    7.105314e+04\n",
              "min    0.000000e+00\n",
              "25%    7.400000e+01\n",
              "50%    4.420000e+02\n",
              "75%    2.080500e+03\n",
              "max    1.080161e+06"
            ]
          },
          "metadata": {
            "tags": []
          },
          "execution_count": 44
        }
      ]
    },
    {
      "cell_type": "code",
      "metadata": {
        "id": "CicdhnCEF1Yc",
        "colab": {
          "base_uri": "https://localhost:8080/",
          "height": 341
        },
        "outputId": "13c23a5d-2e2b-4c20-ee64-38b99d498c2c"
      },
      "source": [
        "ax = sns.distplot(cg_df['4/30/20'],kde=False)"
      ],
      "execution_count": null,
      "outputs": [
        {
          "output_type": "stream",
          "text": [
            "/usr/local/lib/python3.6/dist-packages/seaborn/distributions.py:2557: FutureWarning: `distplot` is a deprecated function and will be removed in a future version. Please adapt your code to use either `displot` (a figure-level function with similar flexibility) or `histplot` (an axes-level function for histograms).\n",
            "  warnings.warn(msg, FutureWarning)\n"
          ],
          "name": "stderr"
        },
        {
          "output_type": "display_data",
          "data": {
            "image/png": "[encoded data removed]",
            "text/plain": [
              "<Figure size 432x288 with 1 Axes>"
            ]
          },
          "metadata": {
            "tags": []
          }
        }
      ]
    },
    {
      "cell_type": "code",
      "metadata": {
        "id": "clUVgdpbF1Yd",
        "colab": {
          "base_uri": "https://localhost:8080/",
          "height": 288
        },
        "outputId": "21316972-3335-4edf-dedf-ebc66fa5cd2f"
      },
      "source": [
        "cg_df[['5/30/20']].describe()"
      ],
      "execution_count": null,
      "outputs": [
        {
          "output_type": "execute_result",
          "data": {
            "text/html": [
              "<div>\n",
              "<style scoped>\n",
              "    .dataframe tbody tr th:only-of-type {\n",
              "        vertical-align: middle;\n",
              "    }\n",
              "\n",
              "    .dataframe tbody tr th {\n",
              "        vertical-align: top;\n",
              "    }\n",
              "\n",
              "    .dataframe thead th {\n",
              "        text-align: right;\n",
              "    }\n",
              "</style>\n",
              "<table border=\"1\" class=\"dataframe\">\n",
              "  <thead>\n",
              "    <tr style=\"text-align: right;\">\n",
              "      <th></th>\n",
              "      <th>5/30/20</th>\n",
              "    </tr>\n",
              "  </thead>\n",
              "  <tbody>\n",
              "    <tr>\n",
              "      <th>count</th>\n",
              "      <td>2.710000e+02</td>\n",
              "    </tr>\n",
              "    <tr>\n",
              "      <th>mean</th>\n",
              "      <td>2.243910e+04</td>\n",
              "    </tr>\n",
              "    <tr>\n",
              "      <th>std</th>\n",
              "      <td>1.194692e+05</td>\n",
              "    </tr>\n",
              "    <tr>\n",
              "      <th>min</th>\n",
              "      <td>0.000000e+00</td>\n",
              "    </tr>\n",
              "    <tr>\n",
              "      <th>25%</th>\n",
              "      <td>1.405000e+02</td>\n",
              "    </tr>\n",
              "    <tr>\n",
              "      <th>50%</th>\n",
              "      <td>8.210000e+02</td>\n",
              "    </tr>\n",
              "    <tr>\n",
              "      <th>75%</th>\n",
              "      <td>5.170000e+03</td>\n",
              "    </tr>\n",
              "    <tr>\n",
              "      <th>max</th>\n",
              "      <td>1.778241e+06</td>\n",
              "    </tr>\n",
              "  </tbody>\n",
              "</table>\n",
              "</div>"
            ],
            "text/plain": [
              "            5/30/20\n",
              "count  2.710000e+02\n",
              "mean   2.243910e+04\n",
              "std    1.194692e+05\n",
              "min    0.000000e+00\n",
              "25%    1.405000e+02\n",
              "50%    8.210000e+02\n",
              "75%    5.170000e+03\n",
              "max    1.778241e+06"
            ]
          },
          "metadata": {
            "tags": []
          },
          "execution_count": 46
        }
      ]
    },
    {
      "cell_type": "code",
      "metadata": {
        "id": "DmKyKtlZF1Yd",
        "colab": {
          "base_uri": "https://localhost:8080/",
          "height": 341
        },
        "outputId": "1b2eab6a-ca5c-4a4b-87dd-670579ccc3f4"
      },
      "source": [
        "ax = sns.distplot(cg_df['5/30/20'],kde=False)"
      ],
      "execution_count": null,
      "outputs": [
        {
          "output_type": "stream",
          "text": [
            "/usr/local/lib/python3.6/dist-packages/seaborn/distributions.py:2557: FutureWarning: `distplot` is a deprecated function and will be removed in a future version. Please adapt your code to use either `displot` (a figure-level function with similar flexibility) or `histplot` (an axes-level function for histograms).\n",
            "  warnings.warn(msg, FutureWarning)\n"
          ],
          "name": "stderr"
        },
        {
          "output_type": "display_data",
          "data": {
            "image/png": "[encoded data removed]",
            "text/plain": [
              "<Figure size 432x288 with 1 Axes>"
            ]
          },
          "metadata": {
            "tags": []
          }
        }
      ]
    },
    {
      "cell_type": "code",
      "metadata": {
        "id": "AZ-XQ3g_F1Yd",
        "colab": {
          "base_uri": "https://localhost:8080/",
          "height": 288
        },
        "outputId": "58223ecd-e011-4707-bb35-9fed65829b1d"
      },
      "source": [
        "cg_df[['6/30/20']].describe()"
      ],
      "execution_count": null,
      "outputs": [
        {
          "output_type": "execute_result",
          "data": {
            "text/html": [
              "<div>\n",
              "<style scoped>\n",
              "    .dataframe tbody tr th:only-of-type {\n",
              "        vertical-align: middle;\n",
              "    }\n",
              "\n",
              "    .dataframe tbody tr th {\n",
              "        vertical-align: top;\n",
              "    }\n",
              "\n",
              "    .dataframe thead th {\n",
              "        text-align: right;\n",
              "    }\n",
              "</style>\n",
              "<table border=\"1\" class=\"dataframe\">\n",
              "  <thead>\n",
              "    <tr style=\"text-align: right;\">\n",
              "      <th></th>\n",
              "      <th>6/30/20</th>\n",
              "    </tr>\n",
              "  </thead>\n",
              "  <tbody>\n",
              "    <tr>\n",
              "      <th>count</th>\n",
              "      <td>2.710000e+02</td>\n",
              "    </tr>\n",
              "    <tr>\n",
              "      <th>mean</th>\n",
              "      <td>3.855228e+04</td>\n",
              "    </tr>\n",
              "    <tr>\n",
              "      <th>std</th>\n",
              "      <td>1.928951e+05</td>\n",
              "    </tr>\n",
              "    <tr>\n",
              "      <th>min</th>\n",
              "      <td>0.000000e+00</td>\n",
              "    </tr>\n",
              "    <tr>\n",
              "      <th>25%</th>\n",
              "      <td>1.860000e+02</td>\n",
              "    </tr>\n",
              "    <tr>\n",
              "      <th>50%</th>\n",
              "      <td>1.118000e+03</td>\n",
              "    </tr>\n",
              "    <tr>\n",
              "      <th>75%</th>\n",
              "      <td>9.378000e+03</td>\n",
              "    </tr>\n",
              "    <tr>\n",
              "      <th>max</th>\n",
              "      <td>2.631894e+06</td>\n",
              "    </tr>\n",
              "  </tbody>\n",
              "</table>\n",
              "</div>"
            ],
            "text/plain": [
              "            6/30/20\n",
              "count  2.710000e+02\n",
              "mean   3.855228e+04\n",
              "std    1.928951e+05\n",
              "min    0.000000e+00\n",
              "25%    1.860000e+02\n",
              "50%    1.118000e+03\n",
              "75%    9.378000e+03\n",
              "max    2.631894e+06"
            ]
          },
          "metadata": {
            "tags": []
          },
          "execution_count": 48
        }
      ]
    },
    {
      "cell_type": "code",
      "metadata": {
        "id": "2EYtfaeUF1Yd",
        "colab": {
          "base_uri": "https://localhost:8080/",
          "height": 341
        },
        "outputId": "ded41ed3-efbe-4367-ec0f-3b1e1a0b5245"
      },
      "source": [
        "ax = sns.distplot(cg_df['6/30/20'],kde=False)"
      ],
      "execution_count": null,
      "outputs": [
        {
          "output_type": "stream",
          "text": [
            "/usr/local/lib/python3.6/dist-packages/seaborn/distributions.py:2557: FutureWarning: `distplot` is a deprecated function and will be removed in a future version. Please adapt your code to use either `displot` (a figure-level function with similar flexibility) or `histplot` (an axes-level function for histograms).\n",
            "  warnings.warn(msg, FutureWarning)\n"
          ],
          "name": "stderr"
        },
        {
          "output_type": "display_data",
          "data": {
            "image/png": "[encoded data removed]",
            "text/plain": [
              "<Figure size 432x288 with 1 Axes>"
            ]
          },
          "metadata": {
            "tags": []
          }
        }
      ]
    },
    {
      "cell_type": "code",
      "metadata": {
        "id": "G6PkoxdfF1Ye",
        "colab": {
          "base_uri": "https://localhost:8080/",
          "height": 288
        },
        "outputId": "6e9a724c-921c-4624-ff33-053b9d151163"
      },
      "source": [
        "cg_df[['7/30/20']].describe()"
      ],
      "execution_count": null,
      "outputs": [
        {
          "output_type": "execute_result",
          "data": {
            "text/html": [
              "<div>\n",
              "<style scoped>\n",
              "    .dataframe tbody tr th:only-of-type {\n",
              "        vertical-align: middle;\n",
              "    }\n",
              "\n",
              "    .dataframe tbody tr th {\n",
              "        vertical-align: top;\n",
              "    }\n",
              "\n",
              "    .dataframe thead th {\n",
              "        text-align: right;\n",
              "    }\n",
              "</style>\n",
              "<table border=\"1\" class=\"dataframe\">\n",
              "  <thead>\n",
              "    <tr style=\"text-align: right;\">\n",
              "      <th></th>\n",
              "      <th>7/30/20</th>\n",
              "    </tr>\n",
              "  </thead>\n",
              "  <tbody>\n",
              "    <tr>\n",
              "      <th>count</th>\n",
              "      <td>2.710000e+02</td>\n",
              "    </tr>\n",
              "    <tr>\n",
              "      <th>mean</th>\n",
              "      <td>6.384851e+04</td>\n",
              "    </tr>\n",
              "    <tr>\n",
              "      <th>std</th>\n",
              "      <td>3.381194e+05</td>\n",
              "    </tr>\n",
              "    <tr>\n",
              "      <th>min</th>\n",
              "      <td>0.000000e+00</td>\n",
              "    </tr>\n",
              "    <tr>\n",
              "      <th>25%</th>\n",
              "      <td>2.495000e+02</td>\n",
              "    </tr>\n",
              "    <tr>\n",
              "      <th>50%</th>\n",
              "      <td>1.805000e+03</td>\n",
              "    </tr>\n",
              "    <tr>\n",
              "      <th>75%</th>\n",
              "      <td>1.727250e+04</td>\n",
              "    </tr>\n",
              "    <tr>\n",
              "      <th>max</th>\n",
              "      <td>4.487660e+06</td>\n",
              "    </tr>\n",
              "  </tbody>\n",
              "</table>\n",
              "</div>"
            ],
            "text/plain": [
              "            7/30/20\n",
              "count  2.710000e+02\n",
              "mean   6.384851e+04\n",
              "std    3.381194e+05\n",
              "min    0.000000e+00\n",
              "25%    2.495000e+02\n",
              "50%    1.805000e+03\n",
              "75%    1.727250e+04\n",
              "max    4.487660e+06"
            ]
          },
          "metadata": {
            "tags": []
          },
          "execution_count": 50
        }
      ]
    },
    {
      "cell_type": "code",
      "metadata": {
        "id": "9mIfGzbcF1Ye",
        "colab": {
          "base_uri": "https://localhost:8080/",
          "height": 341
        },
        "outputId": "9d4a07fe-cdbf-4cee-e320-d00b487024a1"
      },
      "source": [
        "ax = sns.distplot(cg_df['7/30/20'],kde=False)"
      ],
      "execution_count": null,
      "outputs": [
        {
          "output_type": "stream",
          "text": [
            "/usr/local/lib/python3.6/dist-packages/seaborn/distributions.py:2557: FutureWarning: `distplot` is a deprecated function and will be removed in a future version. Please adapt your code to use either `displot` (a figure-level function with similar flexibility) or `histplot` (an axes-level function for histograms).\n",
            "  warnings.warn(msg, FutureWarning)\n"
          ],
          "name": "stderr"
        },
        {
          "output_type": "display_data",
          "data": {
            "image/png": "[encoded data removed]",
            "text/plain": [
              "<Figure size 432x288 with 1 Axes>"
            ]
          },
          "metadata": {
            "tags": []
          }
        }
      ]
    },
    {
      "cell_type": "code",
      "metadata": {
        "id": "7FttW4RdF1Ye",
        "colab": {
          "base_uri": "https://localhost:8080/",
          "height": 288
        },
        "outputId": "e5173b8c-52a6-49ed-9421-104467d2e62f"
      },
      "source": [
        "cg_df[['8/30/20']].describe()"
      ],
      "execution_count": null,
      "outputs": [
        {
          "output_type": "execute_result",
          "data": {
            "text/html": [
              "<div>\n",
              "<style scoped>\n",
              "    .dataframe tbody tr th:only-of-type {\n",
              "        vertical-align: middle;\n",
              "    }\n",
              "\n",
              "    .dataframe tbody tr th {\n",
              "        vertical-align: top;\n",
              "    }\n",
              "\n",
              "    .dataframe thead th {\n",
              "        text-align: right;\n",
              "    }\n",
              "</style>\n",
              "<table border=\"1\" class=\"dataframe\">\n",
              "  <thead>\n",
              "    <tr style=\"text-align: right;\">\n",
              "      <th></th>\n",
              "      <th>8/30/20</th>\n",
              "    </tr>\n",
              "  </thead>\n",
              "  <tbody>\n",
              "    <tr>\n",
              "      <th>count</th>\n",
              "      <td>2.710000e+02</td>\n",
              "    </tr>\n",
              "    <tr>\n",
              "      <th>mean</th>\n",
              "      <td>9.313309e+04</td>\n",
              "    </tr>\n",
              "    <tr>\n",
              "      <th>std</th>\n",
              "      <td>4.933708e+05</td>\n",
              "    </tr>\n",
              "    <tr>\n",
              "      <th>min</th>\n",
              "      <td>0.000000e+00</td>\n",
              "    </tr>\n",
              "    <tr>\n",
              "      <th>25%</th>\n",
              "      <td>3.735000e+02</td>\n",
              "    </tr>\n",
              "    <tr>\n",
              "      <th>50%</th>\n",
              "      <td>2.624000e+03</td>\n",
              "    </tr>\n",
              "    <tr>\n",
              "      <th>75%</th>\n",
              "      <td>2.796300e+04</td>\n",
              "    </tr>\n",
              "    <tr>\n",
              "      <th>max</th>\n",
              "      <td>5.984336e+06</td>\n",
              "    </tr>\n",
              "  </tbody>\n",
              "</table>\n",
              "</div>"
            ],
            "text/plain": [
              "            8/30/20\n",
              "count  2.710000e+02\n",
              "mean   9.313309e+04\n",
              "std    4.933708e+05\n",
              "min    0.000000e+00\n",
              "25%    3.735000e+02\n",
              "50%    2.624000e+03\n",
              "75%    2.796300e+04\n",
              "max    5.984336e+06"
            ]
          },
          "metadata": {
            "tags": []
          },
          "execution_count": 52
        }
      ]
    },
    {
      "cell_type": "code",
      "metadata": {
        "id": "zhiga-AzF1Yf",
        "colab": {
          "base_uri": "https://localhost:8080/",
          "height": 341
        },
        "outputId": "4fd04771-6176-4064-f7c7-c9fcfa39d9b7"
      },
      "source": [
        "ax = sns.distplot(cg_df['8/30/20'],kde=False)"
      ],
      "execution_count": null,
      "outputs": [
        {
          "output_type": "stream",
          "text": [
            "/usr/local/lib/python3.6/dist-packages/seaborn/distributions.py:2557: FutureWarning: `distplot` is a deprecated function and will be removed in a future version. Please adapt your code to use either `displot` (a figure-level function with similar flexibility) or `histplot` (an axes-level function for histograms).\n",
            "  warnings.warn(msg, FutureWarning)\n"
          ],
          "name": "stderr"
        },
        {
          "output_type": "display_data",
          "data": {
            "image/png": "[encoded data removed]",
            "text/plain": [
              "<Figure size 432x288 with 1 Axes>"
            ]
          },
          "metadata": {
            "tags": []
          }
        }
      ]
    },
    {
      "cell_type": "code",
      "metadata": {
        "id": "adPuLqkHF1Yf",
        "colab": {
          "base_uri": "https://localhost:8080/",
          "height": 288
        },
        "outputId": "2b6022ba-e732-498a-be03-bdbf7b0a0cac"
      },
      "source": [
        "cg_df[['9/30/20']].describe()"
      ],
      "execution_count": null,
      "outputs": [
        {
          "output_type": "execute_result",
          "data": {
            "text/html": [
              "<div>\n",
              "<style scoped>\n",
              "    .dataframe tbody tr th:only-of-type {\n",
              "        vertical-align: middle;\n",
              "    }\n",
              "\n",
              "    .dataframe tbody tr th {\n",
              "        vertical-align: top;\n",
              "    }\n",
              "\n",
              "    .dataframe thead th {\n",
              "        text-align: right;\n",
              "    }\n",
              "</style>\n",
              "<table border=\"1\" class=\"dataframe\">\n",
              "  <thead>\n",
              "    <tr style=\"text-align: right;\">\n",
              "      <th></th>\n",
              "      <th>9/30/20</th>\n",
              "    </tr>\n",
              "  </thead>\n",
              "  <tbody>\n",
              "    <tr>\n",
              "      <th>count</th>\n",
              "      <td>2.710000e+02</td>\n",
              "    </tr>\n",
              "    <tr>\n",
              "      <th>mean</th>\n",
              "      <td>1.254583e+05</td>\n",
              "    </tr>\n",
              "    <tr>\n",
              "      <th>std</th>\n",
              "      <td>6.614698e+05</td>\n",
              "    </tr>\n",
              "    <tr>\n",
              "      <th>min</th>\n",
              "      <td>0.000000e+00</td>\n",
              "    </tr>\n",
              "    <tr>\n",
              "      <th>25%</th>\n",
              "      <td>4.090000e+02</td>\n",
              "    </tr>\n",
              "    <tr>\n",
              "      <th>50%</th>\n",
              "      <td>4.200000e+03</td>\n",
              "    </tr>\n",
              "    <tr>\n",
              "      <th>75%</th>\n",
              "      <td>3.976650e+04</td>\n",
              "    </tr>\n",
              "    <tr>\n",
              "      <th>max</th>\n",
              "      <td>7.222881e+06</td>\n",
              "    </tr>\n",
              "  </tbody>\n",
              "</table>\n",
              "</div>"
            ],
            "text/plain": [
              "            9/30/20\n",
              "count  2.710000e+02\n",
              "mean   1.254583e+05\n",
              "std    6.614698e+05\n",
              "min    0.000000e+00\n",
              "25%    4.090000e+02\n",
              "50%    4.200000e+03\n",
              "75%    3.976650e+04\n",
              "max    7.222881e+06"
            ]
          },
          "metadata": {
            "tags": []
          },
          "execution_count": 54
        }
      ]
    },
    {
      "cell_type": "code",
      "metadata": {
        "id": "R83lVRxLF1Yf",
        "colab": {
          "base_uri": "https://localhost:8080/",
          "height": 341
        },
        "outputId": "cb5e0bd7-4459-493e-f7a1-1b3a64063791"
      },
      "source": [
        "ax = sns.distplot(cg_df['9/30/20'],kde=False)"
      ],
      "execution_count": null,
      "outputs": [
        {
          "output_type": "stream",
          "text": [
            "/usr/local/lib/python3.6/dist-packages/seaborn/distributions.py:2557: FutureWarning: `distplot` is a deprecated function and will be removed in a future version. Please adapt your code to use either `displot` (a figure-level function with similar flexibility) or `histplot` (an axes-level function for histograms).\n",
            "  warnings.warn(msg, FutureWarning)\n"
          ],
          "name": "stderr"
        },
        {
          "output_type": "display_data",
          "data": {
            "image/png": "[encoded data removed]",
            "text/plain": [
              "<Figure size 432x288 with 1 Axes>"
            ]
          },
          "metadata": {
            "tags": []
          }
        }
      ]
    },
    {
      "cell_type": "code",
      "metadata": {
        "id": "StywSr3lF1Yf",
        "colab": {
          "base_uri": "https://localhost:8080/",
          "height": 288
        },
        "outputId": "d5c1e9b7-3fa8-4204-f3c5-84b73e79c05d"
      },
      "source": [
        "cg_df[['10/30/20']].describe()"
      ],
      "execution_count": null,
      "outputs": [
        {
          "output_type": "execute_result",
          "data": {
            "text/html": [
              "<div>\n",
              "<style scoped>\n",
              "    .dataframe tbody tr th:only-of-type {\n",
              "        vertical-align: middle;\n",
              "    }\n",
              "\n",
              "    .dataframe tbody tr th {\n",
              "        vertical-align: top;\n",
              "    }\n",
              "\n",
              "    .dataframe thead th {\n",
              "        text-align: right;\n",
              "    }\n",
              "</style>\n",
              "<table border=\"1\" class=\"dataframe\">\n",
              "  <thead>\n",
              "    <tr style=\"text-align: right;\">\n",
              "      <th></th>\n",
              "      <th>10/30/20</th>\n",
              "    </tr>\n",
              "  </thead>\n",
              "  <tbody>\n",
              "    <tr>\n",
              "      <th>count</th>\n",
              "      <td>2.710000e+02</td>\n",
              "    </tr>\n",
              "    <tr>\n",
              "      <th>mean</th>\n",
              "      <td>1.684192e+05</td>\n",
              "    </tr>\n",
              "    <tr>\n",
              "      <th>std</th>\n",
              "      <td>8.299223e+05</td>\n",
              "    </tr>\n",
              "    <tr>\n",
              "      <th>min</th>\n",
              "      <td>0.000000e+00</td>\n",
              "    </tr>\n",
              "    <tr>\n",
              "      <th>25%</th>\n",
              "      <td>5.110000e+02</td>\n",
              "    </tr>\n",
              "    <tr>\n",
              "      <th>50%</th>\n",
              "      <td>5.514000e+03</td>\n",
              "    </tr>\n",
              "    <tr>\n",
              "      <th>75%</th>\n",
              "      <td>5.821150e+04</td>\n",
              "    </tr>\n",
              "    <tr>\n",
              "      <th>max</th>\n",
              "      <td>9.052200e+06</td>\n",
              "    </tr>\n",
              "  </tbody>\n",
              "</table>\n",
              "</div>"
            ],
            "text/plain": [
              "           10/30/20\n",
              "count  2.710000e+02\n",
              "mean   1.684192e+05\n",
              "std    8.299223e+05\n",
              "min    0.000000e+00\n",
              "25%    5.110000e+02\n",
              "50%    5.514000e+03\n",
              "75%    5.821150e+04\n",
              "max    9.052200e+06"
            ]
          },
          "metadata": {
            "tags": []
          },
          "execution_count": 56
        }
      ]
    },
    {
      "cell_type": "code",
      "metadata": {
        "id": "W18E9zuzF1Yg",
        "colab": {
          "base_uri": "https://localhost:8080/",
          "height": 344
        },
        "outputId": "c00010e1-3145-4e44-8a65-95785c1b15ee"
      },
      "source": [
        "ax = sns.distplot(cg_df['10/30/20'],kde=False)"
      ],
      "execution_count": null,
      "outputs": [
        {
          "output_type": "stream",
          "text": [
            "/usr/local/lib/python3.6/dist-packages/seaborn/distributions.py:2557: FutureWarning: `distplot` is a deprecated function and will be removed in a future version. Please adapt your code to use either `displot` (a figure-level function with similar flexibility) or `histplot` (an axes-level function for histograms).\n",
            "  warnings.warn(msg, FutureWarning)\n"
          ],
          "name": "stderr"
        },
        {
          "output_type": "display_data",
          "data": {
            "image/png": "[encoded data removed]",
            "text/plain": [
              "<Figure size 432x288 with 1 Axes>"
            ]
          },
          "metadata": {
            "tags": []
          }
        }
      ]
    },
    {
      "cell_type": "code",
      "metadata": {
        "id": "ahszH07-F1Yg",
        "colab": {
          "base_uri": "https://localhost:8080/",
          "height": 288
        },
        "outputId": "2b185e3c-401e-417f-9486-2609a05d00a3"
      },
      "source": [
        "cg_df[['11/30/20']].describe()"
      ],
      "execution_count": null,
      "outputs": [
        {
          "output_type": "execute_result",
          "data": {
            "text/html": [
              "<div>\n",
              "<style scoped>\n",
              "    .dataframe tbody tr th:only-of-type {\n",
              "        vertical-align: middle;\n",
              "    }\n",
              "\n",
              "    .dataframe tbody tr th {\n",
              "        vertical-align: top;\n",
              "    }\n",
              "\n",
              "    .dataframe thead th {\n",
              "        text-align: right;\n",
              "    }\n",
              "</style>\n",
              "<table border=\"1\" class=\"dataframe\">\n",
              "  <thead>\n",
              "    <tr style=\"text-align: right;\">\n",
              "      <th></th>\n",
              "      <th>11/30/20</th>\n",
              "    </tr>\n",
              "  </thead>\n",
              "  <tbody>\n",
              "    <tr>\n",
              "      <th>count</th>\n",
              "      <td>2.710000e+02</td>\n",
              "    </tr>\n",
              "    <tr>\n",
              "      <th>mean</th>\n",
              "      <td>2.337551e+05</td>\n",
              "    </tr>\n",
              "    <tr>\n",
              "      <th>std</th>\n",
              "      <td>1.110245e+06</td>\n",
              "    </tr>\n",
              "    <tr>\n",
              "      <th>min</th>\n",
              "      <td>0.000000e+00</td>\n",
              "    </tr>\n",
              "    <tr>\n",
              "      <th>25%</th>\n",
              "      <td>6.100000e+02</td>\n",
              "    </tr>\n",
              "    <tr>\n",
              "      <th>50%</th>\n",
              "      <td>6.745000e+03</td>\n",
              "    </tr>\n",
              "    <tr>\n",
              "      <th>75%</th>\n",
              "      <td>9.374100e+04</td>\n",
              "    </tr>\n",
              "    <tr>\n",
              "      <th>max</th>\n",
              "      <td>1.360787e+07</td>\n",
              "    </tr>\n",
              "  </tbody>\n",
              "</table>\n",
              "</div>"
            ],
            "text/plain": [
              "           11/30/20\n",
              "count  2.710000e+02\n",
              "mean   2.337551e+05\n",
              "std    1.110245e+06\n",
              "min    0.000000e+00\n",
              "25%    6.100000e+02\n",
              "50%    6.745000e+03\n",
              "75%    9.374100e+04\n",
              "max    1.360787e+07"
            ]
          },
          "metadata": {
            "tags": []
          },
          "execution_count": 58
        }
      ]
    },
    {
      "cell_type": "code",
      "metadata": {
        "id": "3RZYxEEkF1Yg",
        "colab": {
          "base_uri": "https://localhost:8080/",
          "height": 341
        },
        "outputId": "0a28957f-b912-48bb-af81-c87341cd49f6"
      },
      "source": [
        "ax = sns.distplot(cg_df['11/30/20'],kde=False)"
      ],
      "execution_count": null,
      "outputs": [
        {
          "output_type": "stream",
          "text": [
            "/usr/local/lib/python3.6/dist-packages/seaborn/distributions.py:2557: FutureWarning: `distplot` is a deprecated function and will be removed in a future version. Please adapt your code to use either `displot` (a figure-level function with similar flexibility) or `histplot` (an axes-level function for histograms).\n",
            "  warnings.warn(msg, FutureWarning)\n"
          ],
          "name": "stderr"
        },
        {
          "output_type": "display_data",
          "data": {
            "image/png": "[encoded data removed]",
            "text/plain": [
              "<Figure size 432x288 with 1 Axes>"
            ]
          },
          "metadata": {
            "tags": []
          }
        }
      ]
    },
    {
      "cell_type": "code",
      "metadata": {
        "id": "W0jSAQGNF1Yg",
        "colab": {
          "base_uri": "https://localhost:8080/",
          "height": 288
        },
        "outputId": "6b3e1cce-c0ce-463d-a137-069997cebf3b"
      },
      "source": [
        "cg_df[['12/7/20']].describe()"
      ],
      "execution_count": null,
      "outputs": [
        {
          "output_type": "execute_result",
          "data": {
            "text/html": [
              "<div>\n",
              "<style scoped>\n",
              "    .dataframe tbody tr th:only-of-type {\n",
              "        vertical-align: middle;\n",
              "    }\n",
              "\n",
              "    .dataframe tbody tr th {\n",
              "        vertical-align: top;\n",
              "    }\n",
              "\n",
              "    .dataframe thead th {\n",
              "        text-align: right;\n",
              "    }\n",
              "</style>\n",
              "<table border=\"1\" class=\"dataframe\">\n",
              "  <thead>\n",
              "    <tr style=\"text-align: right;\">\n",
              "      <th></th>\n",
              "      <th>12/7/20</th>\n",
              "    </tr>\n",
              "  </thead>\n",
              "  <tbody>\n",
              "    <tr>\n",
              "      <th>count</th>\n",
              "      <td>2.710000e+02</td>\n",
              "    </tr>\n",
              "    <tr>\n",
              "      <th>mean</th>\n",
              "      <td>2.497195e+05</td>\n",
              "    </tr>\n",
              "    <tr>\n",
              "      <th>std</th>\n",
              "      <td>1.192838e+06</td>\n",
              "    </tr>\n",
              "    <tr>\n",
              "      <th>min</th>\n",
              "      <td>0.000000e+00</td>\n",
              "    </tr>\n",
              "    <tr>\n",
              "      <th>25%</th>\n",
              "      <td>6.450000e+02</td>\n",
              "    </tr>\n",
              "    <tr>\n",
              "      <th>50%</th>\n",
              "      <td>7.579000e+03</td>\n",
              "    </tr>\n",
              "    <tr>\n",
              "      <th>75%</th>\n",
              "      <td>1.023800e+05</td>\n",
              "    </tr>\n",
              "    <tr>\n",
              "      <th>max</th>\n",
              "      <td>1.503020e+07</td>\n",
              "    </tr>\n",
              "  </tbody>\n",
              "</table>\n",
              "</div>"
            ],
            "text/plain": [
              "            12/7/20\n",
              "count  2.710000e+02\n",
              "mean   2.497195e+05\n",
              "std    1.192838e+06\n",
              "min    0.000000e+00\n",
              "25%    6.450000e+02\n",
              "50%    7.579000e+03\n",
              "75%    1.023800e+05\n",
              "max    1.503020e+07"
            ]
          },
          "metadata": {
            "tags": []
          },
          "execution_count": 60
        }
      ]
    },
    {
      "cell_type": "code",
      "metadata": {
        "id": "Jl-9-3FgF1Yh",
        "colab": {
          "base_uri": "https://localhost:8080/",
          "height": 341
        },
        "outputId": "10044534-ff49-43e3-b0e8-803c8f42e665"
      },
      "source": [
        "ax = sns.distplot(cg_df['12/7/20'],kde=False)"
      ],
      "execution_count": null,
      "outputs": [
        {
          "output_type": "stream",
          "text": [
            "/usr/local/lib/python3.6/dist-packages/seaborn/distributions.py:2557: FutureWarning: `distplot` is a deprecated function and will be removed in a future version. Please adapt your code to use either `displot` (a figure-level function with similar flexibility) or `histplot` (an axes-level function for histograms).\n",
            "  warnings.warn(msg, FutureWarning)\n"
          ],
          "name": "stderr"
        },
        {
          "output_type": "display_data",
          "data": {
            "image/png": "[encoded data removed]",
            "text/plain": [
              "<Figure size 432x288 with 1 Axes>"
            ]
          },
          "metadata": {
            "tags": []
          }
        }
      ]
    },
    {
      "cell_type": "markdown",
      "metadata": {
        "id": "NuKgxBWGNus5"
      },
      "source": [
        "# Reshaping the Covid-19 dataframes\n"
      ]
    },
    {
      "cell_type": "markdown",
      "metadata": {
        "id": "RHzLY1aOb4lC"
      },
      "source": [
        "The COVID-19 data for both the United States and the Global confirmation days contain irrelevant data columns which are the first 10 and 4 columns, respectively. The US irrelevant data also contains subcategories of state and county, and Global contains subcategories of country and providence. Although this would allow for an interesting exploration of tracking confirmations regionally by date, that is not the focus of this project. Therefore, the COVID-19 data frame simply needs to be reduced to a series, indexed by date with total numbers per day by US, Global, and Total.\n",
        "By eliminating all non-essential data, we reduce the size of the data frame, allowing for a quicker runtime."
      ]
    },
    {
      "cell_type": "code",
      "metadata": {
        "id": "9l3XSNQ3N854",
        "colab": {
          "base_uri": "https://localhost:8080/"
        },
        "outputId": "337a0af8-e94c-4da1-890b-b00706cd2baa"
      },
      "source": [
        "# Starting with the US dataframe\n",
        "# Dropping non relevant columns, we only want columns with date headers\n",
        "# cu_df_mod = Covid US Modified\n",
        "cu_df_mod = cu_df.drop(cu_df.columns[0:11],axis=1)\n",
        "cu_df_mod.info(5)"
      ],
      "execution_count": null,
      "outputs": [
        {
          "output_type": "stream",
          "text": [
            "<class 'pandas.core.frame.DataFrame'>\n",
            "RangeIndex: 3340 entries, 0 to 3339\n",
            "Data columns (total 321 columns):\n",
            " #   Column    Dtype\n",
            "---  ------    -----\n",
            " 0   1/22/20   int64\n",
            " 1   1/23/20   int64\n",
            " 2   1/24/20   int64\n",
            " 3   1/25/20   int64\n",
            " 4   1/26/20   int64\n",
            " 5   1/27/20   int64\n",
            " 6   1/28/20   int64\n",
            " 7   1/29/20   int64\n",
            " 8   1/30/20   int64\n",
            " 9   1/31/20   int64\n",
            " 10  2/1/20    int64\n",
            " 11  2/2/20    int64\n",
            " 12  2/3/20    int64\n",
            " 13  2/4/20    int64\n",
            " 14  2/5/20    int64\n",
            " 15  2/6/20    int64\n",
            " 16  2/7/20    int64\n",
            " 17  2/8/20    int64\n",
            " 18  2/9/20    int64\n",
            " 19  2/10/20   int64\n",
            " 20  2/11/20   int64\n",
            " 21  2/12/20   int64\n",
            " 22  2/13/20   int64\n",
            " 23  2/14/20   int64\n",
            " 24  2/15/20   int64\n",
            " 25  2/16/20   int64\n",
            " 26  2/17/20   int64\n",
            " 27  2/18/20   int64\n",
            " 28  2/19/20   int64\n",
            " 29  2/20/20   int64\n",
            " 30  2/21/20   int64\n",
            " 31  2/22/20   int64\n",
            " 32  2/23/20   int64\n",
            " 33  2/24/20   int64\n",
            " 34  2/25/20   int64\n",
            " 35  2/26/20   int64\n",
            " 36  2/27/20   int64\n",
            " 37  2/28/20   int64\n",
            " 38  2/29/20   int64\n",
            " 39  3/1/20    int64\n",
            " 40  3/2/20    int64\n",
            " 41  3/3/20    int64\n",
            " 42  3/4/20    int64\n",
            " 43  3/5/20    int64\n",
            " 44  3/6/20    int64\n",
            " 45  3/7/20    int64\n",
            " 46  3/8/20    int64\n",
            " 47  3/9/20    int64\n",
            " 48  3/10/20   int64\n",
            " 49  3/11/20   int64\n",
            " 50  3/12/20   int64\n",
            " 51  3/13/20   int64\n",
            " 52  3/14/20   int64\n",
            " 53  3/15/20   int64\n",
            " 54  3/16/20   int64\n",
            " 55  3/17/20   int64\n",
            " 56  3/18/20   int64\n",
            " 57  3/19/20   int64\n",
            " 58  3/20/20   int64\n",
            " 59  3/21/20   int64\n",
            " 60  3/22/20   int64\n",
            " 61  3/23/20   int64\n",
            " 62  3/24/20   int64\n",
            " 63  3/25/20   int64\n",
            " 64  3/26/20   int64\n",
            " 65  3/27/20   int64\n",
            " 66  3/28/20   int64\n",
            " 67  3/29/20   int64\n",
            " 68  3/30/20   int64\n",
            " 69  3/31/20   int64\n",
            " 70  4/1/20    int64\n",
            " 71  4/2/20    int64\n",
            " 72  4/3/20    int64\n",
            " 73  4/4/20    int64\n",
            " 74  4/5/20    int64\n",
            " 75  4/6/20    int64\n",
            " 76  4/7/20    int64\n",
            " 77  4/8/20    int64\n",
            " 78  4/9/20    int64\n",
            " 79  4/10/20   int64\n",
            " 80  4/11/20   int64\n",
            " 81  4/12/20   int64\n",
            " 82  4/13/20   int64\n",
            " 83  4/14/20   int64\n",
            " 84  4/15/20   int64\n",
            " 85  4/16/20   int64\n",
            " 86  4/17/20   int64\n",
            " 87  4/18/20   int64\n",
            " 88  4/19/20   int64\n",
            " 89  4/20/20   int64\n",
            " 90  4/21/20   int64\n",
            " 91  4/22/20   int64\n",
            " 92  4/23/20   int64\n",
            " 93  4/24/20   int64\n",
            " 94  4/25/20   int64\n",
            " 95  4/26/20   int64\n",
            " 96  4/27/20   int64\n",
            " 97  4/28/20   int64\n",
            " 98  4/29/20   int64\n",
            " 99  4/30/20   int64\n",
            " 100 5/1/20    int64\n",
            " 101 5/2/20    int64\n",
            " 102 5/3/20    int64\n",
            " 103 5/4/20    int64\n",
            " 104 5/5/20    int64\n",
            " 105 5/6/20    int64\n",
            " 106 5/7/20    int64\n",
            " 107 5/8/20    int64\n",
            " 108 5/9/20    int64\n",
            " 109 5/10/20   int64\n",
            " 110 5/11/20   int64\n",
            " 111 5/12/20   int64\n",
            " 112 5/13/20   int64\n",
            " 113 5/14/20   int64\n",
            " 114 5/15/20   int64\n",
            " 115 5/16/20   int64\n",
            " 116 5/17/20   int64\n",
            " 117 5/18/20   int64\n",
            " 118 5/19/20   int64\n",
            " 119 5/20/20   int64\n",
            " 120 5/21/20   int64\n",
            " 121 5/22/20   int64\n",
            " 122 5/23/20   int64\n",
            " 123 5/24/20   int64\n",
            " 124 5/25/20   int64\n",
            " 125 5/26/20   int64\n",
            " 126 5/27/20   int64\n",
            " 127 5/28/20   int64\n",
            " 128 5/29/20   int64\n",
            " 129 5/30/20   int64\n",
            " 130 5/31/20   int64\n",
            " 131 6/1/20    int64\n",
            " 132 6/2/20    int64\n",
            " 133 6/3/20    int64\n",
            " 134 6/4/20    int64\n",
            " 135 6/5/20    int64\n",
            " 136 6/6/20    int64\n",
            " 137 6/7/20    int64\n",
            " 138 6/8/20    int64\n",
            " 139 6/9/20    int64\n",
            " 140 6/10/20   int64\n",
            " 141 6/11/20   int64\n",
            " 142 6/12/20   int64\n",
            " 143 6/13/20   int64\n",
            " 144 6/14/20   int64\n",
            " 145 6/15/20   int64\n",
            " 146 6/16/20   int64\n",
            " 147 6/17/20   int64\n",
            " 148 6/18/20   int64\n",
            " 149 6/19/20   int64\n",
            " 150 6/20/20   int64\n",
            " 151 6/21/20   int64\n",
            " 152 6/22/20   int64\n",
            " 153 6/23/20   int64\n",
            " 154 6/24/20   int64\n",
            " 155 6/25/20   int64\n",
            " 156 6/26/20   int64\n",
            " 157 6/27/20   int64\n",
            " 158 6/28/20   int64\n",
            " 159 6/29/20   int64\n",
            " 160 6/30/20   int64\n",
            " 161 7/1/20    int64\n",
            " 162 7/2/20    int64\n",
            " 163 7/3/20    int64\n",
            " 164 7/4/20    int64\n",
            " 165 7/5/20    int64\n",
            " 166 7/6/20    int64\n",
            " 167 7/7/20    int64\n",
            " 168 7/8/20    int64\n",
            " 169 7/9/20    int64\n",
            " 170 7/10/20   int64\n",
            " 171 7/11/20   int64\n",
            " 172 7/12/20   int64\n",
            " 173 7/13/20   int64\n",
            " 174 7/14/20   int64\n",
            " 175 7/15/20   int64\n",
            " 176 7/16/20   int64\n",
            " 177 7/17/20   int64\n",
            " 178 7/18/20   int64\n",
            " 179 7/19/20   int64\n",
            " 180 7/20/20   int64\n",
            " 181 7/21/20   int64\n",
            " 182 7/22/20   int64\n",
            " 183 7/23/20   int64\n",
            " 184 7/24/20   int64\n",
            " 185 7/25/20   int64\n",
            " 186 7/26/20   int64\n",
            " 187 7/27/20   int64\n",
            " 188 7/28/20   int64\n",
            " 189 7/29/20   int64\n",
            " 190 7/30/20   int64\n",
            " 191 7/31/20   int64\n",
            " 192 8/1/20    int64\n",
            " 193 8/2/20    int64\n",
            " 194 8/3/20    int64\n",
            " 195 8/4/20    int64\n",
            " 196 8/5/20    int64\n",
            " 197 8/6/20    int64\n",
            " 198 8/7/20    int64\n",
            " 199 8/8/20    int64\n",
            " 200 8/9/20    int64\n",
            " 201 8/10/20   int64\n",
            " 202 8/11/20   int64\n",
            " 203 8/12/20   int64\n",
            " 204 8/13/20   int64\n",
            " 205 8/14/20   int64\n",
            " 206 8/15/20   int64\n",
            " 207 8/16/20   int64\n",
            " 208 8/17/20   int64\n",
            " 209 8/18/20   int64\n",
            " 210 8/19/20   int64\n",
            " 211 8/20/20   int64\n",
            " 212 8/21/20   int64\n",
            " 213 8/22/20   int64\n",
            " 214 8/23/20   int64\n",
            " 215 8/24/20   int64\n",
            " 216 8/25/20   int64\n",
            " 217 8/26/20   int64\n",
            " 218 8/27/20   int64\n",
            " 219 8/28/20   int64\n",
            " 220 8/29/20   int64\n",
            " 221 8/30/20   int64\n",
            " 222 8/31/20   int64\n",
            " 223 9/1/20    int64\n",
            " 224 9/2/20    int64\n",
            " 225 9/3/20    int64\n",
            " 226 9/4/20    int64\n",
            " 227 9/5/20    int64\n",
            " 228 9/6/20    int64\n",
            " 229 9/7/20    int64\n",
            " 230 9/8/20    int64\n",
            " 231 9/9/20    int64\n",
            " 232 9/10/20   int64\n",
            " 233 9/11/20   int64\n",
            " 234 9/12/20   int64\n",
            " 235 9/13/20   int64\n",
            " 236 9/14/20   int64\n",
            " 237 9/15/20   int64\n",
            " 238 9/16/20   int64\n",
            " 239 9/17/20   int64\n",
            " 240 9/18/20   int64\n",
            " 241 9/19/20   int64\n",
            " 242 9/20/20   int64\n",
            " 243 9/21/20   int64\n",
            " 244 9/22/20   int64\n",
            " 245 9/23/20   int64\n",
            " 246 9/24/20   int64\n",
            " 247 9/25/20   int64\n",
            " 248 9/26/20   int64\n",
            " 249 9/27/20   int64\n",
            " 250 9/28/20   int64\n",
            " 251 9/29/20   int64\n",
            " 252 9/30/20   int64\n",
            " 253 10/1/20   int64\n",
            " 254 10/2/20   int64\n",
            " 255 10/3/20   int64\n",
            " 256 10/4/20   int64\n",
            " 257 10/5/20   int64\n",
            " 258 10/6/20   int64\n",
            " 259 10/7/20   int64\n",
            " 260 10/8/20   int64\n",
            " 261 10/9/20   int64\n",
            " 262 10/10/20  int64\n",
            " 263 10/11/20  int64\n",
            " 264 10/12/20  int64\n",
            " 265 10/13/20  int64\n",
            " 266 10/14/20  int64\n",
            " 267 10/15/20  int64\n",
            " 268 10/16/20  int64\n",
            " 269 10/17/20  int64\n",
            " 270 10/18/20  int64\n",
            " 271 10/19/20  int64\n",
            " 272 10/20/20  int64\n",
            " 273 10/21/20  int64\n",
            " 274 10/22/20  int64\n",
            " 275 10/23/20  int64\n",
            " 276 10/24/20  int64\n",
            " 277 10/25/20  int64\n",
            " 278 10/26/20  int64\n",
            " 279 10/27/20  int64\n",
            " 280 10/28/20  int64\n",
            " 281 10/29/20  int64\n",
            " 282 10/30/20  int64\n",
            " 283 10/31/20  int64\n",
            " 284 11/1/20   int64\n",
            " 285 11/2/20   int64\n",
            " 286 11/3/20   int64\n",
            " 287 11/4/20   int64\n",
            " 288 11/5/20   int64\n",
            " 289 11/6/20   int64\n",
            " 290 11/7/20   int64\n",
            " 291 11/8/20   int64\n",
            " 292 11/9/20   int64\n",
            " 293 11/10/20  int64\n",
            " 294 11/11/20  int64\n",
            " 295 11/12/20  int64\n",
            " 296 11/13/20  int64\n",
            " 297 11/14/20  int64\n",
            " 298 11/15/20  int64\n",
            " 299 11/16/20  int64\n",
            " 300 11/17/20  int64\n",
            " 301 11/18/20  int64\n",
            " 302 11/19/20  int64\n",
            " 303 11/20/20  int64\n",
            " 304 11/21/20  int64\n",
            " 305 11/22/20  int64\n",
            " 306 11/23/20  int64\n",
            " 307 11/24/20  int64\n",
            " 308 11/25/20  int64\n",
            " 309 11/26/20  int64\n",
            " 310 11/27/20  int64\n",
            " 311 11/28/20  int64\n",
            " 312 11/29/20  int64\n",
            " 313 11/30/20  int64\n",
            " 314 12/1/20   int64\n",
            " 315 12/2/20   int64\n",
            " 316 12/3/20   int64\n",
            " 317 12/4/20   int64\n",
            " 318 12/5/20   int64\n",
            " 319 12/6/20   int64\n",
            " 320 12/7/20   int64\n",
            "dtypes: int64(321)\n",
            "memory usage: 8.2 MB\n"
          ],
          "name": "stdout"
        }
      ]
    },
    {
      "cell_type": "markdown",
      "metadata": {
        "id": "Gv-EqV7kb46L"
      },
      "source": [
        "When I checked for nulls earlier, I had 16 occurrences, after dropping the irrelevant columns, I check again and find that all null values have been eliminated."
      ]
    },
    {
      "cell_type": "code",
      "metadata": {
        "id": "TQycYuAWOFyW",
        "colab": {
          "base_uri": "https://localhost:8080/"
        },
        "outputId": "2c4fee93-b016-4ce6-aea6-091db7a9c093"
      },
      "source": [
        "# Checking for nulls\n",
        "cu_df_mod.isnull().sum().sum()"
      ],
      "execution_count": null,
      "outputs": [
        {
          "output_type": "execute_result",
          "data": {
            "text/plain": [
              "0"
            ]
          },
          "metadata": {
            "tags": []
          },
          "execution_count": 63
        }
      ]
    },
    {
      "cell_type": "code",
      "metadata": {
        "id": "VodW0nRAdldU",
        "colab": {
          "base_uri": "https://localhost:8080/",
          "height": 265
        },
        "outputId": "723fbe98-b257-4598-db6e-51ec83bacbef"
      },
      "source": [
        "# outlining data frame to check layout\n",
        "print(cu_df_mod.shape)\n",
        "cu_df_mod.head()"
      ],
      "execution_count": null,
      "outputs": [
        {
          "output_type": "stream",
          "text": [
            "(3340, 321)\n"
          ],
          "name": "stdout"
        },
        {
          "output_type": "execute_result",
          "data": {
            "text/html": [
              "<div>\n",
              "<style scoped>\n",
              "    .dataframe tbody tr th:only-of-type {\n",
              "        vertical-align: middle;\n",
              "    }\n",
              "\n",
              "    .dataframe tbody tr th {\n",
              "        vertical-align: top;\n",
              "    }\n",
              "\n",
              "    .dataframe thead th {\n",
              "        text-align: right;\n",
              "    }\n",
              "</style>\n",
              "<table border=\"1\" class=\"dataframe\">\n",
              "  <thead>\n",
              "    <tr style=\"text-align: right;\">\n",
              "      <th></th>\n",
              "      <th>1/22/20</th>\n",
              "      <th>1/23/20</th>\n",
              "      <th>1/24/20</th>\n",
              "      <th>1/25/20</th>\n",
              "      <th>1/26/20</th>\n",
              "      <th>1/27/20</th>\n",
              "      <th>1/28/20</th>\n",
              "      <th>1/29/20</th>\n",
              "      <th>1/30/20</th>\n",
              "      <th>1/31/20</th>\n",
              "      <th>2/1/20</th>\n",
              "      <th>2/2/20</th>\n",
              "      <th>2/3/20</th>\n",
              "      <th>2/4/20</th>\n",
              "      <th>2/5/20</th>\n",
              "      <th>2/6/20</th>\n",
              "      <th>2/7/20</th>\n",
              "      <th>2/8/20</th>\n",
              "      <th>2/9/20</th>\n",
              "      <th>2/10/20</th>\n",
              "      <th>2/11/20</th>\n",
              "      <th>2/12/20</th>\n",
              "      <th>2/13/20</th>\n",
              "      <th>2/14/20</th>\n",
              "      <th>2/15/20</th>\n",
              "      <th>2/16/20</th>\n",
              "      <th>2/17/20</th>\n",
              "      <th>2/18/20</th>\n",
              "      <th>2/19/20</th>\n",
              "      <th>2/20/20</th>\n",
              "      <th>2/21/20</th>\n",
              "      <th>2/22/20</th>\n",
              "      <th>2/23/20</th>\n",
              "      <th>2/24/20</th>\n",
              "      <th>2/25/20</th>\n",
              "      <th>2/26/20</th>\n",
              "      <th>2/27/20</th>\n",
              "      <th>2/28/20</th>\n",
              "      <th>2/29/20</th>\n",
              "      <th>3/1/20</th>\n",
              "      <th>...</th>\n",
              "      <th>10/29/20</th>\n",
              "      <th>10/30/20</th>\n",
              "      <th>10/31/20</th>\n",
              "      <th>11/1/20</th>\n",
              "      <th>11/2/20</th>\n",
              "      <th>11/3/20</th>\n",
              "      <th>11/4/20</th>\n",
              "      <th>11/5/20</th>\n",
              "      <th>11/6/20</th>\n",
              "      <th>11/7/20</th>\n",
              "      <th>11/8/20</th>\n",
              "      <th>11/9/20</th>\n",
              "      <th>11/10/20</th>\n",
              "      <th>11/11/20</th>\n",
              "      <th>11/12/20</th>\n",
              "      <th>11/13/20</th>\n",
              "      <th>11/14/20</th>\n",
              "      <th>11/15/20</th>\n",
              "      <th>11/16/20</th>\n",
              "      <th>11/17/20</th>\n",
              "      <th>11/18/20</th>\n",
              "      <th>11/19/20</th>\n",
              "      <th>11/20/20</th>\n",
              "      <th>11/21/20</th>\n",
              "      <th>11/22/20</th>\n",
              "      <th>11/23/20</th>\n",
              "      <th>11/24/20</th>\n",
              "      <th>11/25/20</th>\n",
              "      <th>11/26/20</th>\n",
              "      <th>11/27/20</th>\n",
              "      <th>11/28/20</th>\n",
              "      <th>11/29/20</th>\n",
              "      <th>11/30/20</th>\n",
              "      <th>12/1/20</th>\n",
              "      <th>12/2/20</th>\n",
              "      <th>12/3/20</th>\n",
              "      <th>12/4/20</th>\n",
              "      <th>12/5/20</th>\n",
              "      <th>12/6/20</th>\n",
              "      <th>12/7/20</th>\n",
              "    </tr>\n",
              "  </thead>\n",
              "  <tbody>\n",
              "    <tr>\n",
              "      <th>0</th>\n",
              "      <td>0</td>\n",
              "      <td>0</td>\n",
              "      <td>0</td>\n",
              "      <td>0</td>\n",
              "      <td>0</td>\n",
              "      <td>0</td>\n",
              "      <td>0</td>\n",
              "      <td>0</td>\n",
              "      <td>0</td>\n",
              "      <td>0</td>\n",
              "      <td>0</td>\n",
              "      <td>0</td>\n",
              "      <td>0</td>\n",
              "      <td>0</td>\n",
              "      <td>0</td>\n",
              "      <td>0</td>\n",
              "      <td>0</td>\n",
              "      <td>0</td>\n",
              "      <td>0</td>\n",
              "      <td>0</td>\n",
              "      <td>0</td>\n",
              "      <td>0</td>\n",
              "      <td>0</td>\n",
              "      <td>0</td>\n",
              "      <td>0</td>\n",
              "      <td>0</td>\n",
              "      <td>0</td>\n",
              "      <td>0</td>\n",
              "      <td>0</td>\n",
              "      <td>0</td>\n",
              "      <td>0</td>\n",
              "      <td>0</td>\n",
              "      <td>0</td>\n",
              "      <td>0</td>\n",
              "      <td>0</td>\n",
              "      <td>0</td>\n",
              "      <td>0</td>\n",
              "      <td>0</td>\n",
              "      <td>0</td>\n",
              "      <td>0</td>\n",
              "      <td>...</td>\n",
              "      <td>2134</td>\n",
              "      <td>2154</td>\n",
              "      <td>2168</td>\n",
              "      <td>2182</td>\n",
              "      <td>2195</td>\n",
              "      <td>2210</td>\n",
              "      <td>2229</td>\n",
              "      <td>2244</td>\n",
              "      <td>2257</td>\n",
              "      <td>2286</td>\n",
              "      <td>2307</td>\n",
              "      <td>2328</td>\n",
              "      <td>2328</td>\n",
              "      <td>2351</td>\n",
              "      <td>2385</td>\n",
              "      <td>2417</td>\n",
              "      <td>2435</td>\n",
              "      <td>2456</td>\n",
              "      <td>2481</td>\n",
              "      <td>2506</td>\n",
              "      <td>2529</td>\n",
              "      <td>2554</td>\n",
              "      <td>2580</td>\n",
              "      <td>2597</td>\n",
              "      <td>2617</td>\n",
              "      <td>2634</td>\n",
              "      <td>2661</td>\n",
              "      <td>2686</td>\n",
              "      <td>2704</td>\n",
              "      <td>2716</td>\n",
              "      <td>2735</td>\n",
              "      <td>2751</td>\n",
              "      <td>2780</td>\n",
              "      <td>2818</td>\n",
              "      <td>2873</td>\n",
              "      <td>2893</td>\n",
              "      <td>2945</td>\n",
              "      <td>2979</td>\n",
              "      <td>3005</td>\n",
              "      <td>3043</td>\n",
              "    </tr>\n",
              "    <tr>\n",
              "      <th>1</th>\n",
              "      <td>0</td>\n",
              "      <td>0</td>\n",
              "      <td>0</td>\n",
              "      <td>0</td>\n",
              "      <td>0</td>\n",
              "      <td>0</td>\n",
              "      <td>0</td>\n",
              "      <td>0</td>\n",
              "      <td>0</td>\n",
              "      <td>0</td>\n",
              "      <td>0</td>\n",
              "      <td>0</td>\n",
              "      <td>0</td>\n",
              "      <td>0</td>\n",
              "      <td>0</td>\n",
              "      <td>0</td>\n",
              "      <td>0</td>\n",
              "      <td>0</td>\n",
              "      <td>0</td>\n",
              "      <td>0</td>\n",
              "      <td>0</td>\n",
              "      <td>0</td>\n",
              "      <td>0</td>\n",
              "      <td>0</td>\n",
              "      <td>0</td>\n",
              "      <td>0</td>\n",
              "      <td>0</td>\n",
              "      <td>0</td>\n",
              "      <td>0</td>\n",
              "      <td>0</td>\n",
              "      <td>0</td>\n",
              "      <td>0</td>\n",
              "      <td>0</td>\n",
              "      <td>0</td>\n",
              "      <td>0</td>\n",
              "      <td>0</td>\n",
              "      <td>0</td>\n",
              "      <td>0</td>\n",
              "      <td>0</td>\n",
              "      <td>0</td>\n",
              "      <td>...</td>\n",
              "      <td>6879</td>\n",
              "      <td>6931</td>\n",
              "      <td>6955</td>\n",
              "      <td>6974</td>\n",
              "      <td>6991</td>\n",
              "      <td>7054</td>\n",
              "      <td>7093</td>\n",
              "      <td>7133</td>\n",
              "      <td>7184</td>\n",
              "      <td>7226</td>\n",
              "      <td>7263</td>\n",
              "      <td>7345</td>\n",
              "      <td>7348</td>\n",
              "      <td>7409</td>\n",
              "      <td>7454</td>\n",
              "      <td>7523</td>\n",
              "      <td>7596</td>\n",
              "      <td>7646</td>\n",
              "      <td>7696</td>\n",
              "      <td>7772</td>\n",
              "      <td>7849</td>\n",
              "      <td>7933</td>\n",
              "      <td>8038</td>\n",
              "      <td>8131</td>\n",
              "      <td>8199</td>\n",
              "      <td>8269</td>\n",
              "      <td>8376</td>\n",
              "      <td>8473</td>\n",
              "      <td>8576</td>\n",
              "      <td>8603</td>\n",
              "      <td>8733</td>\n",
              "      <td>8820</td>\n",
              "      <td>8890</td>\n",
              "      <td>9051</td>\n",
              "      <td>9163</td>\n",
              "      <td>9341</td>\n",
              "      <td>9501</td>\n",
              "      <td>9626</td>\n",
              "      <td>9728</td>\n",
              "      <td>9821</td>\n",
              "    </tr>\n",
              "    <tr>\n",
              "      <th>2</th>\n",
              "      <td>0</td>\n",
              "      <td>0</td>\n",
              "      <td>0</td>\n",
              "      <td>0</td>\n",
              "      <td>0</td>\n",
              "      <td>0</td>\n",
              "      <td>0</td>\n",
              "      <td>0</td>\n",
              "      <td>0</td>\n",
              "      <td>0</td>\n",
              "      <td>0</td>\n",
              "      <td>0</td>\n",
              "      <td>0</td>\n",
              "      <td>0</td>\n",
              "      <td>0</td>\n",
              "      <td>0</td>\n",
              "      <td>0</td>\n",
              "      <td>0</td>\n",
              "      <td>0</td>\n",
              "      <td>0</td>\n",
              "      <td>0</td>\n",
              "      <td>0</td>\n",
              "      <td>0</td>\n",
              "      <td>0</td>\n",
              "      <td>0</td>\n",
              "      <td>0</td>\n",
              "      <td>0</td>\n",
              "      <td>0</td>\n",
              "      <td>0</td>\n",
              "      <td>0</td>\n",
              "      <td>0</td>\n",
              "      <td>0</td>\n",
              "      <td>0</td>\n",
              "      <td>0</td>\n",
              "      <td>0</td>\n",
              "      <td>0</td>\n",
              "      <td>0</td>\n",
              "      <td>0</td>\n",
              "      <td>0</td>\n",
              "      <td>0</td>\n",
              "      <td>...</td>\n",
              "      <td>1053</td>\n",
              "      <td>1058</td>\n",
              "      <td>1059</td>\n",
              "      <td>1062</td>\n",
              "      <td>1073</td>\n",
              "      <td>1077</td>\n",
              "      <td>1079</td>\n",
              "      <td>1089</td>\n",
              "      <td>1092</td>\n",
              "      <td>1095</td>\n",
              "      <td>1098</td>\n",
              "      <td>1107</td>\n",
              "      <td>1107</td>\n",
              "      <td>1112</td>\n",
              "      <td>1113</td>\n",
              "      <td>1117</td>\n",
              "      <td>1123</td>\n",
              "      <td>1128</td>\n",
              "      <td>1130</td>\n",
              "      <td>1134</td>\n",
              "      <td>1137</td>\n",
              "      <td>1145</td>\n",
              "      <td>1151</td>\n",
              "      <td>1157</td>\n",
              "      <td>1160</td>\n",
              "      <td>1161</td>\n",
              "      <td>1167</td>\n",
              "      <td>1170</td>\n",
              "      <td>1170</td>\n",
              "      <td>1171</td>\n",
              "      <td>1173</td>\n",
              "      <td>1175</td>\n",
              "      <td>1178</td>\n",
              "      <td>1189</td>\n",
              "      <td>1206</td>\n",
              "      <td>1214</td>\n",
              "      <td>1217</td>\n",
              "      <td>1219</td>\n",
              "      <td>1223</td>\n",
              "      <td>1224</td>\n",
              "    </tr>\n",
              "    <tr>\n",
              "      <th>3</th>\n",
              "      <td>0</td>\n",
              "      <td>0</td>\n",
              "      <td>0</td>\n",
              "      <td>0</td>\n",
              "      <td>0</td>\n",
              "      <td>0</td>\n",
              "      <td>0</td>\n",
              "      <td>0</td>\n",
              "      <td>0</td>\n",
              "      <td>0</td>\n",
              "      <td>0</td>\n",
              "      <td>0</td>\n",
              "      <td>0</td>\n",
              "      <td>0</td>\n",
              "      <td>0</td>\n",
              "      <td>0</td>\n",
              "      <td>0</td>\n",
              "      <td>0</td>\n",
              "      <td>0</td>\n",
              "      <td>0</td>\n",
              "      <td>0</td>\n",
              "      <td>0</td>\n",
              "      <td>0</td>\n",
              "      <td>0</td>\n",
              "      <td>0</td>\n",
              "      <td>0</td>\n",
              "      <td>0</td>\n",
              "      <td>0</td>\n",
              "      <td>0</td>\n",
              "      <td>0</td>\n",
              "      <td>0</td>\n",
              "      <td>0</td>\n",
              "      <td>0</td>\n",
              "      <td>0</td>\n",
              "      <td>0</td>\n",
              "      <td>0</td>\n",
              "      <td>0</td>\n",
              "      <td>0</td>\n",
              "      <td>0</td>\n",
              "      <td>0</td>\n",
              "      <td>...</td>\n",
              "      <td>867</td>\n",
              "      <td>873</td>\n",
              "      <td>877</td>\n",
              "      <td>883</td>\n",
              "      <td>890</td>\n",
              "      <td>900</td>\n",
              "      <td>907</td>\n",
              "      <td>920</td>\n",
              "      <td>926</td>\n",
              "      <td>934</td>\n",
              "      <td>942</td>\n",
              "      <td>948</td>\n",
              "      <td>948</td>\n",
              "      <td>961</td>\n",
              "      <td>966</td>\n",
              "      <td>973</td>\n",
              "      <td>978</td>\n",
              "      <td>986</td>\n",
              "      <td>993</td>\n",
              "      <td>1004</td>\n",
              "      <td>1008</td>\n",
              "      <td>1011</td>\n",
              "      <td>1024</td>\n",
              "      <td>1036</td>\n",
              "      <td>1136</td>\n",
              "      <td>1142</td>\n",
              "      <td>1157</td>\n",
              "      <td>1162</td>\n",
              "      <td>1170</td>\n",
              "      <td>1173</td>\n",
              "      <td>1179</td>\n",
              "      <td>1188</td>\n",
              "      <td>1196</td>\n",
              "      <td>1204</td>\n",
              "      <td>1239</td>\n",
              "      <td>1252</td>\n",
              "      <td>1270</td>\n",
              "      <td>1283</td>\n",
              "      <td>1293</td>\n",
              "      <td>1299</td>\n",
              "    </tr>\n",
              "    <tr>\n",
              "      <th>4</th>\n",
              "      <td>0</td>\n",
              "      <td>0</td>\n",
              "      <td>0</td>\n",
              "      <td>0</td>\n",
              "      <td>0</td>\n",
              "      <td>0</td>\n",
              "      <td>0</td>\n",
              "      <td>0</td>\n",
              "      <td>0</td>\n",
              "      <td>0</td>\n",
              "      <td>0</td>\n",
              "      <td>0</td>\n",
              "      <td>0</td>\n",
              "      <td>0</td>\n",
              "      <td>0</td>\n",
              "      <td>0</td>\n",
              "      <td>0</td>\n",
              "      <td>0</td>\n",
              "      <td>0</td>\n",
              "      <td>0</td>\n",
              "      <td>0</td>\n",
              "      <td>0</td>\n",
              "      <td>0</td>\n",
              "      <td>0</td>\n",
              "      <td>0</td>\n",
              "      <td>0</td>\n",
              "      <td>0</td>\n",
              "      <td>0</td>\n",
              "      <td>0</td>\n",
              "      <td>0</td>\n",
              "      <td>0</td>\n",
              "      <td>0</td>\n",
              "      <td>0</td>\n",
              "      <td>0</td>\n",
              "      <td>0</td>\n",
              "      <td>0</td>\n",
              "      <td>0</td>\n",
              "      <td>0</td>\n",
              "      <td>0</td>\n",
              "      <td>0</td>\n",
              "      <td>...</td>\n",
              "      <td>2054</td>\n",
              "      <td>2089</td>\n",
              "      <td>2109</td>\n",
              "      <td>2128</td>\n",
              "      <td>2178</td>\n",
              "      <td>2204</td>\n",
              "      <td>2233</td>\n",
              "      <td>2258</td>\n",
              "      <td>2290</td>\n",
              "      <td>2302</td>\n",
              "      <td>2338</td>\n",
              "      <td>2378</td>\n",
              "      <td>2378</td>\n",
              "      <td>2400</td>\n",
              "      <td>2429</td>\n",
              "      <td>2488</td>\n",
              "      <td>2518</td>\n",
              "      <td>2549</td>\n",
              "      <td>2574</td>\n",
              "      <td>2594</td>\n",
              "      <td>2648</td>\n",
              "      <td>2683</td>\n",
              "      <td>2704</td>\n",
              "      <td>2735</td>\n",
              "      <td>2754</td>\n",
              "      <td>2763</td>\n",
              "      <td>2822</td>\n",
              "      <td>2855</td>\n",
              "      <td>2879</td>\n",
              "      <td>2888</td>\n",
              "      <td>2922</td>\n",
              "      <td>2946</td>\n",
              "      <td>2997</td>\n",
              "      <td>3061</td>\n",
              "      <td>3100</td>\n",
              "      <td>3158</td>\n",
              "      <td>3231</td>\n",
              "      <td>3281</td>\n",
              "      <td>3299</td>\n",
              "      <td>3324</td>\n",
              "    </tr>\n",
              "  </tbody>\n",
              "</table>\n",
              "<p>5 rows × 321 columns</p>\n",
              "</div>"
            ],
            "text/plain": [
              "   1/22/20  1/23/20  1/24/20  1/25/20  ...  12/4/20  12/5/20  12/6/20  12/7/20\n",
              "0        0        0        0        0  ...     2945     2979     3005     3043\n",
              "1        0        0        0        0  ...     9501     9626     9728     9821\n",
              "2        0        0        0        0  ...     1217     1219     1223     1224\n",
              "3        0        0        0        0  ...     1270     1283     1293     1299\n",
              "4        0        0        0        0  ...     3231     3281     3299     3324\n",
              "\n",
              "[5 rows x 321 columns]"
            ]
          },
          "metadata": {
            "tags": []
          },
          "execution_count": 64
        }
      ]
    },
    {
      "cell_type": "markdown",
      "metadata": {
        "id": "NUdbv1nAcIDR"
      },
      "source": [
        "Looking at the shape above, we can see that we have 321 'day' columns, and 3340 individual confirmation data points.\n",
        "\n",
        "Now that we have the data pared down to just what we want to look at, we need to sum each column to the daily totals.\n",
        "\n",
        "To do this we need to sum and check the shape to verify we are down to one column of values, with the dates becoming the index."
      ]
    },
    {
      "cell_type": "code",
      "metadata": {
        "id": "NtjucC9FeWNb",
        "colab": {
          "base_uri": "https://localhost:8080/"
        },
        "outputId": "1fb39131-2e21-4663-ae0f-00e695103f7f"
      },
      "source": [
        "cu_mod_df = cu_df_mod.sum()\n",
        "cu_mod_df.shape\n"
      ],
      "execution_count": null,
      "outputs": [
        {
          "output_type": "execute_result",
          "data": {
            "text/plain": [
              "(321,)"
            ]
          },
          "metadata": {
            "tags": []
          },
          "execution_count": 65
        }
      ]
    },
    {
      "cell_type": "code",
      "metadata": {
        "id": "GWYHV5GsksPc",
        "colab": {
          "base_uri": "https://localhost:8080/"
        },
        "outputId": "1567ccd7-f92a-4bd4-c5d3-fb37f2a43319"
      },
      "source": [
        "cu_mod_df.head()"
      ],
      "execution_count": null,
      "outputs": [
        {
          "output_type": "execute_result",
          "data": {
            "text/plain": [
              "1/22/20    1\n",
              "1/23/20    1\n",
              "1/24/20    2\n",
              "1/25/20    2\n",
              "1/26/20    5\n",
              "dtype: int64"
            ]
          },
          "metadata": {
            "tags": []
          },
          "execution_count": 66
        }
      ]
    },
    {
      "cell_type": "code",
      "metadata": {
        "id": "-WmEtLNmkyqT",
        "colab": {
          "base_uri": "https://localhost:8080/"
        },
        "outputId": "b058559e-e08f-4efd-f23d-6c6180b42da7"
      },
      "source": [
        "# We now need to repeat these modifications to the Global dataframe\n",
        "# cg_df_mod = Covid Global Modified\n",
        "# Dropping non relevant columns, we only want columns with date headers\n",
        "cg_df_mod = cg_df.drop(cg_df.columns[0:4],axis=1)\n",
        "cg_df_mod.info(5)"
      ],
      "execution_count": null,
      "outputs": [
        {
          "output_type": "stream",
          "text": [
            "<class 'pandas.core.frame.DataFrame'>\n",
            "RangeIndex: 271 entries, 0 to 270\n",
            "Data columns (total 344 columns):\n",
            " #   Column    Dtype\n",
            "---  ------    -----\n",
            " 0   1/22/20   int64\n",
            " 1   1/23/20   int64\n",
            " 2   1/24/20   int64\n",
            " 3   1/25/20   int64\n",
            " 4   1/26/20   int64\n",
            " 5   1/27/20   int64\n",
            " 6   1/28/20   int64\n",
            " 7   1/29/20   int64\n",
            " 8   1/30/20   int64\n",
            " 9   1/31/20   int64\n",
            " 10  2/1/20    int64\n",
            " 11  2/2/20    int64\n",
            " 12  2/3/20    int64\n",
            " 13  2/4/20    int64\n",
            " 14  2/5/20    int64\n",
            " 15  2/6/20    int64\n",
            " 16  2/7/20    int64\n",
            " 17  2/8/20    int64\n",
            " 18  2/9/20    int64\n",
            " 19  2/10/20   int64\n",
            " 20  2/11/20   int64\n",
            " 21  2/12/20   int64\n",
            " 22  2/13/20   int64\n",
            " 23  2/14/20   int64\n",
            " 24  2/15/20   int64\n",
            " 25  2/16/20   int64\n",
            " 26  2/17/20   int64\n",
            " 27  2/18/20   int64\n",
            " 28  2/19/20   int64\n",
            " 29  2/20/20   int64\n",
            " 30  2/21/20   int64\n",
            " 31  2/22/20   int64\n",
            " 32  2/23/20   int64\n",
            " 33  2/24/20   int64\n",
            " 34  2/25/20   int64\n",
            " 35  2/26/20   int64\n",
            " 36  2/27/20   int64\n",
            " 37  2/28/20   int64\n",
            " 38  2/29/20   int64\n",
            " 39  3/1/20    int64\n",
            " 40  3/2/20    int64\n",
            " 41  3/3/20    int64\n",
            " 42  3/4/20    int64\n",
            " 43  3/5/20    int64\n",
            " 44  3/6/20    int64\n",
            " 45  3/7/20    int64\n",
            " 46  3/8/20    int64\n",
            " 47  3/9/20    int64\n",
            " 48  3/10/20   int64\n",
            " 49  3/11/20   int64\n",
            " 50  3/12/20   int64\n",
            " 51  3/13/20   int64\n",
            " 52  3/14/20   int64\n",
            " 53  3/15/20   int64\n",
            " 54  3/16/20   int64\n",
            " 55  3/17/20   int64\n",
            " 56  3/18/20   int64\n",
            " 57  3/19/20   int64\n",
            " 58  3/20/20   int64\n",
            " 59  3/21/20   int64\n",
            " 60  3/22/20   int64\n",
            " 61  3/23/20   int64\n",
            " 62  3/24/20   int64\n",
            " 63  3/25/20   int64\n",
            " 64  3/26/20   int64\n",
            " 65  3/27/20   int64\n",
            " 66  3/28/20   int64\n",
            " 67  3/29/20   int64\n",
            " 68  3/30/20   int64\n",
            " 69  3/31/20   int64\n",
            " 70  4/1/20    int64\n",
            " 71  4/2/20    int64\n",
            " 72  4/3/20    int64\n",
            " 73  4/4/20    int64\n",
            " 74  4/5/20    int64\n",
            " 75  4/6/20    int64\n",
            " 76  4/7/20    int64\n",
            " 77  4/8/20    int64\n",
            " 78  4/9/20    int64\n",
            " 79  4/10/20   int64\n",
            " 80  4/11/20   int64\n",
            " 81  4/12/20   int64\n",
            " 82  4/13/20   int64\n",
            " 83  4/14/20   int64\n",
            " 84  4/15/20   int64\n",
            " 85  4/16/20   int64\n",
            " 86  4/17/20   int64\n",
            " 87  4/18/20   int64\n",
            " 88  4/19/20   int64\n",
            " 89  4/20/20   int64\n",
            " 90  4/21/20   int64\n",
            " 91  4/22/20   int64\n",
            " 92  4/23/20   int64\n",
            " 93  4/24/20   int64\n",
            " 94  4/25/20   int64\n",
            " 95  4/26/20   int64\n",
            " 96  4/27/20   int64\n",
            " 97  4/28/20   int64\n",
            " 98  4/29/20   int64\n",
            " 99  4/30/20   int64\n",
            " 100 5/1/20    int64\n",
            " 101 5/2/20    int64\n",
            " 102 5/3/20    int64\n",
            " 103 5/4/20    int64\n",
            " 104 5/5/20    int64\n",
            " 105 5/6/20    int64\n",
            " 106 5/7/20    int64\n",
            " 107 5/8/20    int64\n",
            " 108 5/9/20    int64\n",
            " 109 5/10/20   int64\n",
            " 110 5/11/20   int64\n",
            " 111 5/12/20   int64\n",
            " 112 5/13/20   int64\n",
            " 113 5/14/20   int64\n",
            " 114 5/15/20   int64\n",
            " 115 5/16/20   int64\n",
            " 116 5/17/20   int64\n",
            " 117 5/18/20   int64\n",
            " 118 5/19/20   int64\n",
            " 119 5/20/20   int64\n",
            " 120 5/21/20   int64\n",
            " 121 5/22/20   int64\n",
            " 122 5/23/20   int64\n",
            " 123 5/24/20   int64\n",
            " 124 5/25/20   int64\n",
            " 125 5/26/20   int64\n",
            " 126 5/27/20   int64\n",
            " 127 5/28/20   int64\n",
            " 128 5/29/20   int64\n",
            " 129 5/30/20   int64\n",
            " 130 5/31/20   int64\n",
            " 131 6/1/20    int64\n",
            " 132 6/2/20    int64\n",
            " 133 6/3/20    int64\n",
            " 134 6/4/20    int64\n",
            " 135 6/5/20    int64\n",
            " 136 6/6/20    int64\n",
            " 137 6/7/20    int64\n",
            " 138 6/8/20    int64\n",
            " 139 6/9/20    int64\n",
            " 140 6/10/20   int64\n",
            " 141 6/11/20   int64\n",
            " 142 6/12/20   int64\n",
            " 143 6/13/20   int64\n",
            " 144 6/14/20   int64\n",
            " 145 6/15/20   int64\n",
            " 146 6/16/20   int64\n",
            " 147 6/17/20   int64\n",
            " 148 6/18/20   int64\n",
            " 149 6/19/20   int64\n",
            " 150 6/20/20   int64\n",
            " 151 6/21/20   int64\n",
            " 152 6/22/20   int64\n",
            " 153 6/23/20   int64\n",
            " 154 6/24/20   int64\n",
            " 155 6/25/20   int64\n",
            " 156 6/26/20   int64\n",
            " 157 6/27/20   int64\n",
            " 158 6/28/20   int64\n",
            " 159 6/29/20   int64\n",
            " 160 6/30/20   int64\n",
            " 161 7/1/20    int64\n",
            " 162 7/2/20    int64\n",
            " 163 7/3/20    int64\n",
            " 164 7/4/20    int64\n",
            " 165 7/5/20    int64\n",
            " 166 7/6/20    int64\n",
            " 167 7/7/20    int64\n",
            " 168 7/8/20    int64\n",
            " 169 7/9/20    int64\n",
            " 170 7/10/20   int64\n",
            " 171 7/11/20   int64\n",
            " 172 7/12/20   int64\n",
            " 173 7/13/20   int64\n",
            " 174 7/14/20   int64\n",
            " 175 7/15/20   int64\n",
            " 176 7/16/20   int64\n",
            " 177 7/17/20   int64\n",
            " 178 7/18/20   int64\n",
            " 179 7/19/20   int64\n",
            " 180 7/20/20   int64\n",
            " 181 7/21/20   int64\n",
            " 182 7/22/20   int64\n",
            " 183 7/23/20   int64\n",
            " 184 7/24/20   int64\n",
            " 185 7/25/20   int64\n",
            " 186 7/26/20   int64\n",
            " 187 7/27/20   int64\n",
            " 188 7/28/20   int64\n",
            " 189 7/29/20   int64\n",
            " 190 7/30/20   int64\n",
            " 191 7/31/20   int64\n",
            " 192 8/1/20    int64\n",
            " 193 8/2/20    int64\n",
            " 194 8/3/20    int64\n",
            " 195 8/4/20    int64\n",
            " 196 8/5/20    int64\n",
            " 197 8/6/20    int64\n",
            " 198 8/7/20    int64\n",
            " 199 8/8/20    int64\n",
            " 200 8/9/20    int64\n",
            " 201 8/10/20   int64\n",
            " 202 8/11/20   int64\n",
            " 203 8/12/20   int64\n",
            " 204 8/13/20   int64\n",
            " 205 8/14/20   int64\n",
            " 206 8/15/20   int64\n",
            " 207 8/16/20   int64\n",
            " 208 8/17/20   int64\n",
            " 209 8/18/20   int64\n",
            " 210 8/19/20   int64\n",
            " 211 8/20/20   int64\n",
            " 212 8/21/20   int64\n",
            " 213 8/22/20   int64\n",
            " 214 8/23/20   int64\n",
            " 215 8/24/20   int64\n",
            " 216 8/25/20   int64\n",
            " 217 8/26/20   int64\n",
            " 218 8/27/20   int64\n",
            " 219 8/28/20   int64\n",
            " 220 8/29/20   int64\n",
            " 221 8/30/20   int64\n",
            " 222 8/31/20   int64\n",
            " 223 9/1/20    int64\n",
            " 224 9/2/20    int64\n",
            " 225 9/3/20    int64\n",
            " 226 9/4/20    int64\n",
            " 227 9/5/20    int64\n",
            " 228 9/6/20    int64\n",
            " 229 9/7/20    int64\n",
            " 230 9/8/20    int64\n",
            " 231 9/9/20    int64\n",
            " 232 9/10/20   int64\n",
            " 233 9/11/20   int64\n",
            " 234 9/12/20   int64\n",
            " 235 9/13/20   int64\n",
            " 236 9/14/20   int64\n",
            " 237 9/15/20   int64\n",
            " 238 9/16/20   int64\n",
            " 239 9/17/20   int64\n",
            " 240 9/18/20   int64\n",
            " 241 9/19/20   int64\n",
            " 242 9/20/20   int64\n",
            " 243 9/21/20   int64\n",
            " 244 9/22/20   int64\n",
            " 245 9/23/20   int64\n",
            " 246 9/24/20   int64\n",
            " 247 9/25/20   int64\n",
            " 248 9/26/20   int64\n",
            " 249 9/27/20   int64\n",
            " 250 9/28/20   int64\n",
            " 251 9/29/20   int64\n",
            " 252 9/30/20   int64\n",
            " 253 10/1/20   int64\n",
            " 254 10/2/20   int64\n",
            " 255 10/3/20   int64\n",
            " 256 10/4/20   int64\n",
            " 257 10/5/20   int64\n",
            " 258 10/6/20   int64\n",
            " 259 10/7/20   int64\n",
            " 260 10/8/20   int64\n",
            " 261 10/9/20   int64\n",
            " 262 10/10/20  int64\n",
            " 263 10/11/20  int64\n",
            " 264 10/12/20  int64\n",
            " 265 10/13/20  int64\n",
            " 266 10/14/20  int64\n",
            " 267 10/15/20  int64\n",
            " 268 10/16/20  int64\n",
            " 269 10/17/20  int64\n",
            " 270 10/18/20  int64\n",
            " 271 10/19/20  int64\n",
            " 272 10/20/20  int64\n",
            " 273 10/21/20  int64\n",
            " 274 10/22/20  int64\n",
            " 275 10/23/20  int64\n",
            " 276 10/24/20  int64\n",
            " 277 10/25/20  int64\n",
            " 278 10/26/20  int64\n",
            " 279 10/27/20  int64\n",
            " 280 10/28/20  int64\n",
            " 281 10/29/20  int64\n",
            " 282 10/30/20  int64\n",
            " 283 10/31/20  int64\n",
            " 284 11/1/20   int64\n",
            " 285 11/2/20   int64\n",
            " 286 11/3/20   int64\n",
            " 287 11/4/20   int64\n",
            " 288 11/5/20   int64\n",
            " 289 11/6/20   int64\n",
            " 290 11/7/20   int64\n",
            " 291 11/8/20   int64\n",
            " 292 11/9/20   int64\n",
            " 293 11/10/20  int64\n",
            " 294 11/11/20  int64\n",
            " 295 11/12/20  int64\n",
            " 296 11/13/20  int64\n",
            " 297 11/14/20  int64\n",
            " 298 11/15/20  int64\n",
            " 299 11/16/20  int64\n",
            " 300 11/17/20  int64\n",
            " 301 11/18/20  int64\n",
            " 302 11/19/20  int64\n",
            " 303 11/20/20  int64\n",
            " 304 11/21/20  int64\n",
            " 305 11/22/20  int64\n",
            " 306 11/23/20  int64\n",
            " 307 11/24/20  int64\n",
            " 308 11/25/20  int64\n",
            " 309 11/26/20  int64\n",
            " 310 11/27/20  int64\n",
            " 311 11/28/20  int64\n",
            " 312 11/29/20  int64\n",
            " 313 11/30/20  int64\n",
            " 314 12/1/20   int64\n",
            " 315 12/2/20   int64\n",
            " 316 12/3/20   int64\n",
            " 317 12/4/20   int64\n",
            " 318 12/5/20   int64\n",
            " 319 12/6/20   int64\n",
            " 320 12/7/20   int64\n",
            " 321 12/8/20   int64\n",
            " 322 12/9/20   int64\n",
            " 323 12/10/20  int64\n",
            " 324 12/11/20  int64\n",
            " 325 12/12/20  int64\n",
            " 326 12/13/20  int64\n",
            " 327 12/14/20  int64\n",
            " 328 12/15/20  int64\n",
            " 329 12/16/20  int64\n",
            " 330 12/17/20  int64\n",
            " 331 12/18/20  int64\n",
            " 332 12/19/20  int64\n",
            " 333 12/20/20  int64\n",
            " 334 12/21/20  int64\n",
            " 335 12/22/20  int64\n",
            " 336 12/23/20  int64\n",
            " 337 12/24/20  int64\n",
            " 338 12/25/20  int64\n",
            " 339 12/26/20  int64\n",
            " 340 12/27/20  int64\n",
            " 341 12/28/20  int64\n",
            " 342 12/29/20  int64\n",
            " 343 12/30/20  int64\n",
            "dtypes: int64(344)\n",
            "memory usage: 728.4 KB\n"
          ],
          "name": "stdout"
        }
      ]
    },
    {
      "cell_type": "code",
      "metadata": {
        "id": "r3XQpO3Ss5m2",
        "colab": {
          "base_uri": "https://localhost:8080/"
        },
        "outputId": "cbeefc53-e534-47cd-cbf2-c7300b9a05f7"
      },
      "source": [
        "# Checking for nulls\n",
        "# Checking for nulls\n",
        "cg_df_mod.isnull().sum().sum()"
      ],
      "execution_count": null,
      "outputs": [
        {
          "output_type": "execute_result",
          "data": {
            "text/plain": [
              "0"
            ]
          },
          "metadata": {
            "tags": []
          },
          "execution_count": 68
        }
      ]
    },
    {
      "cell_type": "code",
      "metadata": {
        "id": "qtvBzguatENF",
        "colab": {
          "base_uri": "https://localhost:8080/",
          "height": 265
        },
        "outputId": "d7cbb5f7-4494-4367-b75b-5d7429adcb77"
      },
      "source": [
        "# outlining data frame to check layout\n",
        "print(cg_df_mod.shape)\n",
        "cg_df_mod.head()"
      ],
      "execution_count": null,
      "outputs": [
        {
          "output_type": "stream",
          "text": [
            "(271, 344)\n"
          ],
          "name": "stdout"
        },
        {
          "output_type": "execute_result",
          "data": {
            "text/html": [
              "<div>\n",
              "<style scoped>\n",
              "    .dataframe tbody tr th:only-of-type {\n",
              "        vertical-align: middle;\n",
              "    }\n",
              "\n",
              "    .dataframe tbody tr th {\n",
              "        vertical-align: top;\n",
              "    }\n",
              "\n",
              "    .dataframe thead th {\n",
              "        text-align: right;\n",
              "    }\n",
              "</style>\n",
              "<table border=\"1\" class=\"dataframe\">\n",
              "  <thead>\n",
              "    <tr style=\"text-align: right;\">\n",
              "      <th></th>\n",
              "      <th>1/22/20</th>\n",
              "      <th>1/23/20</th>\n",
              "      <th>1/24/20</th>\n",
              "      <th>1/25/20</th>\n",
              "      <th>1/26/20</th>\n",
              "      <th>1/27/20</th>\n",
              "      <th>1/28/20</th>\n",
              "      <th>1/29/20</th>\n",
              "      <th>1/30/20</th>\n",
              "      <th>1/31/20</th>\n",
              "      <th>2/1/20</th>\n",
              "      <th>2/2/20</th>\n",
              "      <th>2/3/20</th>\n",
              "      <th>2/4/20</th>\n",
              "      <th>2/5/20</th>\n",
              "      <th>2/6/20</th>\n",
              "      <th>2/7/20</th>\n",
              "      <th>2/8/20</th>\n",
              "      <th>2/9/20</th>\n",
              "      <th>2/10/20</th>\n",
              "      <th>2/11/20</th>\n",
              "      <th>2/12/20</th>\n",
              "      <th>2/13/20</th>\n",
              "      <th>2/14/20</th>\n",
              "      <th>2/15/20</th>\n",
              "      <th>2/16/20</th>\n",
              "      <th>2/17/20</th>\n",
              "      <th>2/18/20</th>\n",
              "      <th>2/19/20</th>\n",
              "      <th>2/20/20</th>\n",
              "      <th>2/21/20</th>\n",
              "      <th>2/22/20</th>\n",
              "      <th>2/23/20</th>\n",
              "      <th>2/24/20</th>\n",
              "      <th>2/25/20</th>\n",
              "      <th>2/26/20</th>\n",
              "      <th>2/27/20</th>\n",
              "      <th>2/28/20</th>\n",
              "      <th>2/29/20</th>\n",
              "      <th>3/1/20</th>\n",
              "      <th>...</th>\n",
              "      <th>11/21/20</th>\n",
              "      <th>11/22/20</th>\n",
              "      <th>11/23/20</th>\n",
              "      <th>11/24/20</th>\n",
              "      <th>11/25/20</th>\n",
              "      <th>11/26/20</th>\n",
              "      <th>11/27/20</th>\n",
              "      <th>11/28/20</th>\n",
              "      <th>11/29/20</th>\n",
              "      <th>11/30/20</th>\n",
              "      <th>12/1/20</th>\n",
              "      <th>12/2/20</th>\n",
              "      <th>12/3/20</th>\n",
              "      <th>12/4/20</th>\n",
              "      <th>12/5/20</th>\n",
              "      <th>12/6/20</th>\n",
              "      <th>12/7/20</th>\n",
              "      <th>12/8/20</th>\n",
              "      <th>12/9/20</th>\n",
              "      <th>12/10/20</th>\n",
              "      <th>12/11/20</th>\n",
              "      <th>12/12/20</th>\n",
              "      <th>12/13/20</th>\n",
              "      <th>12/14/20</th>\n",
              "      <th>12/15/20</th>\n",
              "      <th>12/16/20</th>\n",
              "      <th>12/17/20</th>\n",
              "      <th>12/18/20</th>\n",
              "      <th>12/19/20</th>\n",
              "      <th>12/20/20</th>\n",
              "      <th>12/21/20</th>\n",
              "      <th>12/22/20</th>\n",
              "      <th>12/23/20</th>\n",
              "      <th>12/24/20</th>\n",
              "      <th>12/25/20</th>\n",
              "      <th>12/26/20</th>\n",
              "      <th>12/27/20</th>\n",
              "      <th>12/28/20</th>\n",
              "      <th>12/29/20</th>\n",
              "      <th>12/30/20</th>\n",
              "    </tr>\n",
              "  </thead>\n",
              "  <tbody>\n",
              "    <tr>\n",
              "      <th>0</th>\n",
              "      <td>0</td>\n",
              "      <td>0</td>\n",
              "      <td>0</td>\n",
              "      <td>0</td>\n",
              "      <td>0</td>\n",
              "      <td>0</td>\n",
              "      <td>0</td>\n",
              "      <td>0</td>\n",
              "      <td>0</td>\n",
              "      <td>0</td>\n",
              "      <td>0</td>\n",
              "      <td>0</td>\n",
              "      <td>0</td>\n",
              "      <td>0</td>\n",
              "      <td>0</td>\n",
              "      <td>0</td>\n",
              "      <td>0</td>\n",
              "      <td>0</td>\n",
              "      <td>0</td>\n",
              "      <td>0</td>\n",
              "      <td>0</td>\n",
              "      <td>0</td>\n",
              "      <td>0</td>\n",
              "      <td>0</td>\n",
              "      <td>0</td>\n",
              "      <td>0</td>\n",
              "      <td>0</td>\n",
              "      <td>0</td>\n",
              "      <td>0</td>\n",
              "      <td>0</td>\n",
              "      <td>0</td>\n",
              "      <td>0</td>\n",
              "      <td>0</td>\n",
              "      <td>1</td>\n",
              "      <td>1</td>\n",
              "      <td>1</td>\n",
              "      <td>1</td>\n",
              "      <td>1</td>\n",
              "      <td>1</td>\n",
              "      <td>1</td>\n",
              "      <td>...</td>\n",
              "      <td>44503</td>\n",
              "      <td>44706</td>\n",
              "      <td>44988</td>\n",
              "      <td>45174</td>\n",
              "      <td>45384</td>\n",
              "      <td>45600</td>\n",
              "      <td>45723</td>\n",
              "      <td>45844</td>\n",
              "      <td>46116</td>\n",
              "      <td>46274</td>\n",
              "      <td>46516</td>\n",
              "      <td>46718</td>\n",
              "      <td>46837</td>\n",
              "      <td>46837</td>\n",
              "      <td>47072</td>\n",
              "      <td>47306</td>\n",
              "      <td>47516</td>\n",
              "      <td>47716</td>\n",
              "      <td>47851</td>\n",
              "      <td>48053</td>\n",
              "      <td>48116</td>\n",
              "      <td>48229</td>\n",
              "      <td>48527</td>\n",
              "      <td>48718</td>\n",
              "      <td>48952</td>\n",
              "      <td>49161</td>\n",
              "      <td>49378</td>\n",
              "      <td>49621</td>\n",
              "      <td>49681</td>\n",
              "      <td>49817</td>\n",
              "      <td>50013</td>\n",
              "      <td>50190</td>\n",
              "      <td>50433</td>\n",
              "      <td>50655</td>\n",
              "      <td>50810</td>\n",
              "      <td>50886</td>\n",
              "      <td>51039</td>\n",
              "      <td>51280</td>\n",
              "      <td>51350</td>\n",
              "      <td>51405</td>\n",
              "    </tr>\n",
              "    <tr>\n",
              "      <th>1</th>\n",
              "      <td>0</td>\n",
              "      <td>0</td>\n",
              "      <td>0</td>\n",
              "      <td>0</td>\n",
              "      <td>0</td>\n",
              "      <td>0</td>\n",
              "      <td>0</td>\n",
              "      <td>0</td>\n",
              "      <td>0</td>\n",
              "      <td>0</td>\n",
              "      <td>0</td>\n",
              "      <td>0</td>\n",
              "      <td>0</td>\n",
              "      <td>0</td>\n",
              "      <td>0</td>\n",
              "      <td>0</td>\n",
              "      <td>0</td>\n",
              "      <td>0</td>\n",
              "      <td>0</td>\n",
              "      <td>0</td>\n",
              "      <td>0</td>\n",
              "      <td>0</td>\n",
              "      <td>0</td>\n",
              "      <td>0</td>\n",
              "      <td>0</td>\n",
              "      <td>0</td>\n",
              "      <td>0</td>\n",
              "      <td>0</td>\n",
              "      <td>0</td>\n",
              "      <td>0</td>\n",
              "      <td>0</td>\n",
              "      <td>0</td>\n",
              "      <td>0</td>\n",
              "      <td>0</td>\n",
              "      <td>0</td>\n",
              "      <td>0</td>\n",
              "      <td>0</td>\n",
              "      <td>0</td>\n",
              "      <td>0</td>\n",
              "      <td>0</td>\n",
              "      <td>...</td>\n",
              "      <td>32196</td>\n",
              "      <td>32761</td>\n",
              "      <td>33556</td>\n",
              "      <td>34300</td>\n",
              "      <td>34944</td>\n",
              "      <td>35600</td>\n",
              "      <td>36245</td>\n",
              "      <td>36790</td>\n",
              "      <td>37625</td>\n",
              "      <td>38182</td>\n",
              "      <td>39014</td>\n",
              "      <td>39719</td>\n",
              "      <td>40501</td>\n",
              "      <td>41302</td>\n",
              "      <td>42148</td>\n",
              "      <td>42988</td>\n",
              "      <td>43683</td>\n",
              "      <td>44436</td>\n",
              "      <td>45188</td>\n",
              "      <td>46061</td>\n",
              "      <td>46863</td>\n",
              "      <td>47742</td>\n",
              "      <td>48530</td>\n",
              "      <td>49191</td>\n",
              "      <td>50000</td>\n",
              "      <td>50637</td>\n",
              "      <td>51424</td>\n",
              "      <td>52004</td>\n",
              "      <td>52542</td>\n",
              "      <td>53003</td>\n",
              "      <td>53425</td>\n",
              "      <td>53814</td>\n",
              "      <td>54317</td>\n",
              "      <td>54827</td>\n",
              "      <td>55380</td>\n",
              "      <td>55755</td>\n",
              "      <td>56254</td>\n",
              "      <td>56572</td>\n",
              "      <td>57146</td>\n",
              "      <td>57727</td>\n",
              "    </tr>\n",
              "    <tr>\n",
              "      <th>2</th>\n",
              "      <td>0</td>\n",
              "      <td>0</td>\n",
              "      <td>0</td>\n",
              "      <td>0</td>\n",
              "      <td>0</td>\n",
              "      <td>0</td>\n",
              "      <td>0</td>\n",
              "      <td>0</td>\n",
              "      <td>0</td>\n",
              "      <td>0</td>\n",
              "      <td>0</td>\n",
              "      <td>0</td>\n",
              "      <td>0</td>\n",
              "      <td>0</td>\n",
              "      <td>0</td>\n",
              "      <td>0</td>\n",
              "      <td>0</td>\n",
              "      <td>0</td>\n",
              "      <td>0</td>\n",
              "      <td>0</td>\n",
              "      <td>0</td>\n",
              "      <td>0</td>\n",
              "      <td>0</td>\n",
              "      <td>0</td>\n",
              "      <td>0</td>\n",
              "      <td>0</td>\n",
              "      <td>0</td>\n",
              "      <td>0</td>\n",
              "      <td>0</td>\n",
              "      <td>0</td>\n",
              "      <td>0</td>\n",
              "      <td>0</td>\n",
              "      <td>0</td>\n",
              "      <td>0</td>\n",
              "      <td>1</td>\n",
              "      <td>1</td>\n",
              "      <td>1</td>\n",
              "      <td>1</td>\n",
              "      <td>1</td>\n",
              "      <td>1</td>\n",
              "      <td>...</td>\n",
              "      <td>73774</td>\n",
              "      <td>74862</td>\n",
              "      <td>75867</td>\n",
              "      <td>77000</td>\n",
              "      <td>78025</td>\n",
              "      <td>79110</td>\n",
              "      <td>80168</td>\n",
              "      <td>81212</td>\n",
              "      <td>82221</td>\n",
              "      <td>83199</td>\n",
              "      <td>84152</td>\n",
              "      <td>85084</td>\n",
              "      <td>85927</td>\n",
              "      <td>86730</td>\n",
              "      <td>87502</td>\n",
              "      <td>88252</td>\n",
              "      <td>88825</td>\n",
              "      <td>89416</td>\n",
              "      <td>90014</td>\n",
              "      <td>90579</td>\n",
              "      <td>91121</td>\n",
              "      <td>91638</td>\n",
              "      <td>92102</td>\n",
              "      <td>92597</td>\n",
              "      <td>93065</td>\n",
              "      <td>93507</td>\n",
              "      <td>93933</td>\n",
              "      <td>94371</td>\n",
              "      <td>94781</td>\n",
              "      <td>95203</td>\n",
              "      <td>95659</td>\n",
              "      <td>96069</td>\n",
              "      <td>96549</td>\n",
              "      <td>97007</td>\n",
              "      <td>97441</td>\n",
              "      <td>97857</td>\n",
              "      <td>98249</td>\n",
              "      <td>98631</td>\n",
              "      <td>98988</td>\n",
              "      <td>99311</td>\n",
              "    </tr>\n",
              "    <tr>\n",
              "      <th>3</th>\n",
              "      <td>0</td>\n",
              "      <td>0</td>\n",
              "      <td>0</td>\n",
              "      <td>0</td>\n",
              "      <td>0</td>\n",
              "      <td>0</td>\n",
              "      <td>0</td>\n",
              "      <td>0</td>\n",
              "      <td>0</td>\n",
              "      <td>0</td>\n",
              "      <td>0</td>\n",
              "      <td>0</td>\n",
              "      <td>0</td>\n",
              "      <td>0</td>\n",
              "      <td>0</td>\n",
              "      <td>0</td>\n",
              "      <td>0</td>\n",
              "      <td>0</td>\n",
              "      <td>0</td>\n",
              "      <td>0</td>\n",
              "      <td>0</td>\n",
              "      <td>0</td>\n",
              "      <td>0</td>\n",
              "      <td>0</td>\n",
              "      <td>0</td>\n",
              "      <td>0</td>\n",
              "      <td>0</td>\n",
              "      <td>0</td>\n",
              "      <td>0</td>\n",
              "      <td>0</td>\n",
              "      <td>0</td>\n",
              "      <td>0</td>\n",
              "      <td>0</td>\n",
              "      <td>0</td>\n",
              "      <td>0</td>\n",
              "      <td>0</td>\n",
              "      <td>0</td>\n",
              "      <td>0</td>\n",
              "      <td>0</td>\n",
              "      <td>0</td>\n",
              "      <td>...</td>\n",
              "      <td>6207</td>\n",
              "      <td>6256</td>\n",
              "      <td>6304</td>\n",
              "      <td>6351</td>\n",
              "      <td>6428</td>\n",
              "      <td>6534</td>\n",
              "      <td>6610</td>\n",
              "      <td>6610</td>\n",
              "      <td>6712</td>\n",
              "      <td>6745</td>\n",
              "      <td>6790</td>\n",
              "      <td>6842</td>\n",
              "      <td>6904</td>\n",
              "      <td>6955</td>\n",
              "      <td>7005</td>\n",
              "      <td>7050</td>\n",
              "      <td>7084</td>\n",
              "      <td>7127</td>\n",
              "      <td>7162</td>\n",
              "      <td>7190</td>\n",
              "      <td>7236</td>\n",
              "      <td>7288</td>\n",
              "      <td>7338</td>\n",
              "      <td>7382</td>\n",
              "      <td>7382</td>\n",
              "      <td>7446</td>\n",
              "      <td>7466</td>\n",
              "      <td>7519</td>\n",
              "      <td>7560</td>\n",
              "      <td>7577</td>\n",
              "      <td>7602</td>\n",
              "      <td>7633</td>\n",
              "      <td>7669</td>\n",
              "      <td>7699</td>\n",
              "      <td>7756</td>\n",
              "      <td>7806</td>\n",
              "      <td>7821</td>\n",
              "      <td>7875</td>\n",
              "      <td>7919</td>\n",
              "      <td>7983</td>\n",
              "    </tr>\n",
              "    <tr>\n",
              "      <th>4</th>\n",
              "      <td>0</td>\n",
              "      <td>0</td>\n",
              "      <td>0</td>\n",
              "      <td>0</td>\n",
              "      <td>0</td>\n",
              "      <td>0</td>\n",
              "      <td>0</td>\n",
              "      <td>0</td>\n",
              "      <td>0</td>\n",
              "      <td>0</td>\n",
              "      <td>0</td>\n",
              "      <td>0</td>\n",
              "      <td>0</td>\n",
              "      <td>0</td>\n",
              "      <td>0</td>\n",
              "      <td>0</td>\n",
              "      <td>0</td>\n",
              "      <td>0</td>\n",
              "      <td>0</td>\n",
              "      <td>0</td>\n",
              "      <td>0</td>\n",
              "      <td>0</td>\n",
              "      <td>0</td>\n",
              "      <td>0</td>\n",
              "      <td>0</td>\n",
              "      <td>0</td>\n",
              "      <td>0</td>\n",
              "      <td>0</td>\n",
              "      <td>0</td>\n",
              "      <td>0</td>\n",
              "      <td>0</td>\n",
              "      <td>0</td>\n",
              "      <td>0</td>\n",
              "      <td>0</td>\n",
              "      <td>0</td>\n",
              "      <td>0</td>\n",
              "      <td>0</td>\n",
              "      <td>0</td>\n",
              "      <td>0</td>\n",
              "      <td>0</td>\n",
              "      <td>...</td>\n",
              "      <td>14413</td>\n",
              "      <td>14493</td>\n",
              "      <td>14634</td>\n",
              "      <td>14742</td>\n",
              "      <td>14821</td>\n",
              "      <td>14920</td>\n",
              "      <td>15008</td>\n",
              "      <td>15087</td>\n",
              "      <td>15103</td>\n",
              "      <td>15139</td>\n",
              "      <td>15251</td>\n",
              "      <td>15319</td>\n",
              "      <td>15361</td>\n",
              "      <td>15493</td>\n",
              "      <td>15536</td>\n",
              "      <td>15591</td>\n",
              "      <td>15648</td>\n",
              "      <td>15729</td>\n",
              "      <td>15804</td>\n",
              "      <td>15925</td>\n",
              "      <td>16061</td>\n",
              "      <td>16161</td>\n",
              "      <td>16188</td>\n",
              "      <td>16277</td>\n",
              "      <td>16362</td>\n",
              "      <td>16407</td>\n",
              "      <td>16484</td>\n",
              "      <td>16562</td>\n",
              "      <td>16626</td>\n",
              "      <td>16644</td>\n",
              "      <td>16686</td>\n",
              "      <td>16802</td>\n",
              "      <td>16931</td>\n",
              "      <td>17029</td>\n",
              "      <td>17099</td>\n",
              "      <td>17149</td>\n",
              "      <td>17240</td>\n",
              "      <td>17296</td>\n",
              "      <td>17371</td>\n",
              "      <td>17433</td>\n",
              "    </tr>\n",
              "  </tbody>\n",
              "</table>\n",
              "<p>5 rows × 344 columns</p>\n",
              "</div>"
            ],
            "text/plain": [
              "   1/22/20  1/23/20  1/24/20  1/25/20  ...  12/27/20  12/28/20  12/29/20  12/30/20\n",
              "0        0        0        0        0  ...     51039     51280     51350     51405\n",
              "1        0        0        0        0  ...     56254     56572     57146     57727\n",
              "2        0        0        0        0  ...     98249     98631     98988     99311\n",
              "3        0        0        0        0  ...      7821      7875      7919      7983\n",
              "4        0        0        0        0  ...     17240     17296     17371     17433\n",
              "\n",
              "[5 rows x 344 columns]"
            ]
          },
          "metadata": {
            "tags": []
          },
          "execution_count": 69
        }
      ]
    },
    {
      "cell_type": "code",
      "metadata": {
        "id": "fmH-OmdYtaOO",
        "colab": {
          "base_uri": "https://localhost:8080/"
        },
        "outputId": "5421f4aa-45a8-40a4-c84c-8bccb4e06866"
      },
      "source": [
        "cg_mod_df = cg_df_mod.sum()\n",
        "cg_mod_df.shape"
      ],
      "execution_count": null,
      "outputs": [
        {
          "output_type": "execute_result",
          "data": {
            "text/plain": [
              "(344,)"
            ]
          },
          "metadata": {
            "tags": []
          },
          "execution_count": 70
        }
      ]
    },
    {
      "cell_type": "code",
      "metadata": {
        "id": "ihIHm8xXtpv1",
        "colab": {
          "base_uri": "https://localhost:8080/"
        },
        "outputId": "345b99f2-8dfd-4fe3-97da-51751e666372"
      },
      "source": [
        "cg_mod_df.head()"
      ],
      "execution_count": null,
      "outputs": [
        {
          "output_type": "execute_result",
          "data": {
            "text/plain": [
              "1/22/20     555\n",
              "1/23/20     654\n",
              "1/24/20     941\n",
              "1/25/20    1434\n",
              "1/26/20    2118\n",
              "dtype: int64"
            ]
          },
          "metadata": {
            "tags": []
          },
          "execution_count": 71
        }
      ]
    },
    {
      "cell_type": "markdown",
      "metadata": {
        "id": "W5XmrVZivLtn"
      },
      "source": [
        "# Merging Covid-19 Dataframes"
      ]
    },
    {
      "cell_type": "markdown",
      "metadata": {
        "id": "xzOESXW3vohH"
      },
      "source": [
        "We start by merging the two series, perform some cleaning and editing for visual edification. We then sum to provide a 'Total' daily confirmation rate, which we will then use to calculate % of Total confirmation for each of the Global and US columns."
      ]
    },
    {
      "cell_type": "code",
      "metadata": {
        "colab": {
          "base_uri": "https://localhost:8080/"
        },
        "id": "6G5AKcGSv2ft",
        "outputId": "21985a76-ef49-4a96-9248-1ef536831ab6"
      },
      "source": [
        "# Concatenating US and Global dataframes into one\n",
        "# both_df = US and Global data merged into new dataframe\n",
        "\n",
        "both_df = pd.concat([cg_mod_df, cu_mod_df], axis=1)\n",
        "both_df.info()"
      ],
      "execution_count": null,
      "outputs": [
        {
          "output_type": "stream",
          "text": [
            "<class 'pandas.core.frame.DataFrame'>\n",
            "Index: 344 entries, 1/22/20 to 12/30/20\n",
            "Data columns (total 2 columns):\n",
            " #   Column  Non-Null Count  Dtype  \n",
            "---  ------  --------------  -----  \n",
            " 0   0       344 non-null    int64  \n",
            " 1   1       321 non-null    float64\n",
            "dtypes: float64(1), int64(1)\n",
            "memory usage: 8.1+ KB\n"
          ],
          "name": "stdout"
        }
      ]
    },
    {
      "cell_type": "code",
      "metadata": {
        "colab": {
          "base_uri": "https://localhost:8080/",
          "height": 198
        },
        "id": "fgzuJj1Wx8N2",
        "outputId": "c6fd084d-534c-4044-ad64-e52ab06c1166"
      },
      "source": [
        "#Checking for validity\n",
        "\n",
        "both_df.head()"
      ],
      "execution_count": null,
      "outputs": [
        {
          "output_type": "execute_result",
          "data": {
            "text/html": [
              "<div>\n",
              "<style scoped>\n",
              "    .dataframe tbody tr th:only-of-type {\n",
              "        vertical-align: middle;\n",
              "    }\n",
              "\n",
              "    .dataframe tbody tr th {\n",
              "        vertical-align: top;\n",
              "    }\n",
              "\n",
              "    .dataframe thead th {\n",
              "        text-align: right;\n",
              "    }\n",
              "</style>\n",
              "<table border=\"1\" class=\"dataframe\">\n",
              "  <thead>\n",
              "    <tr style=\"text-align: right;\">\n",
              "      <th></th>\n",
              "      <th>0</th>\n",
              "      <th>1</th>\n",
              "    </tr>\n",
              "  </thead>\n",
              "  <tbody>\n",
              "    <tr>\n",
              "      <th>1/22/20</th>\n",
              "      <td>555</td>\n",
              "      <td>1.0</td>\n",
              "    </tr>\n",
              "    <tr>\n",
              "      <th>1/23/20</th>\n",
              "      <td>654</td>\n",
              "      <td>1.0</td>\n",
              "    </tr>\n",
              "    <tr>\n",
              "      <th>1/24/20</th>\n",
              "      <td>941</td>\n",
              "      <td>2.0</td>\n",
              "    </tr>\n",
              "    <tr>\n",
              "      <th>1/25/20</th>\n",
              "      <td>1434</td>\n",
              "      <td>2.0</td>\n",
              "    </tr>\n",
              "    <tr>\n",
              "      <th>1/26/20</th>\n",
              "      <td>2118</td>\n",
              "      <td>5.0</td>\n",
              "    </tr>\n",
              "  </tbody>\n",
              "</table>\n",
              "</div>"
            ],
            "text/plain": [
              "            0    1\n",
              "1/22/20   555  1.0\n",
              "1/23/20   654  1.0\n",
              "1/24/20   941  2.0\n",
              "1/25/20  1434  2.0\n",
              "1/26/20  2118  5.0"
            ]
          },
          "metadata": {
            "tags": []
          },
          "execution_count": 73
        }
      ]
    },
    {
      "cell_type": "code",
      "metadata": {
        "colab": {
          "base_uri": "https://localhost:8080/",
          "height": 407
        },
        "id": "1WxJY7bVyIV9",
        "outputId": "f24a22b8-772a-4994-f9da-5fdd159c3d22"
      },
      "source": [
        "# Renaming the columns for identification\n",
        "#covid_df = completed merge by renaming columns\n",
        "\n",
        "covid_df = both_df.set_axis(['Global', 'US'], axis=1)\n",
        "covid_df\n"
      ],
      "execution_count": null,
      "outputs": [
        {
          "output_type": "execute_result",
          "data": {
            "text/html": [
              "<div>\n",
              "<style scoped>\n",
              "    .dataframe tbody tr th:only-of-type {\n",
              "        vertical-align: middle;\n",
              "    }\n",
              "\n",
              "    .dataframe tbody tr th {\n",
              "        vertical-align: top;\n",
              "    }\n",
              "\n",
              "    .dataframe thead th {\n",
              "        text-align: right;\n",
              "    }\n",
              "</style>\n",
              "<table border=\"1\" class=\"dataframe\">\n",
              "  <thead>\n",
              "    <tr style=\"text-align: right;\">\n",
              "      <th></th>\n",
              "      <th>Global</th>\n",
              "      <th>US</th>\n",
              "    </tr>\n",
              "  </thead>\n",
              "  <tbody>\n",
              "    <tr>\n",
              "      <th>1/22/20</th>\n",
              "      <td>555</td>\n",
              "      <td>1.0</td>\n",
              "    </tr>\n",
              "    <tr>\n",
              "      <th>1/23/20</th>\n",
              "      <td>654</td>\n",
              "      <td>1.0</td>\n",
              "    </tr>\n",
              "    <tr>\n",
              "      <th>1/24/20</th>\n",
              "      <td>941</td>\n",
              "      <td>2.0</td>\n",
              "    </tr>\n",
              "    <tr>\n",
              "      <th>1/25/20</th>\n",
              "      <td>1434</td>\n",
              "      <td>2.0</td>\n",
              "    </tr>\n",
              "    <tr>\n",
              "      <th>1/26/20</th>\n",
              "      <td>2118</td>\n",
              "      <td>5.0</td>\n",
              "    </tr>\n",
              "    <tr>\n",
              "      <th>...</th>\n",
              "      <td>...</td>\n",
              "      <td>...</td>\n",
              "    </tr>\n",
              "    <tr>\n",
              "      <th>12/26/20</th>\n",
              "      <td>80364202</td>\n",
              "      <td>NaN</td>\n",
              "    </tr>\n",
              "    <tr>\n",
              "      <th>12/27/20</th>\n",
              "      <td>80797122</td>\n",
              "      <td>NaN</td>\n",
              "    </tr>\n",
              "    <tr>\n",
              "      <th>12/28/20</th>\n",
              "      <td>81285853</td>\n",
              "      <td>NaN</td>\n",
              "    </tr>\n",
              "    <tr>\n",
              "      <th>12/29/20</th>\n",
              "      <td>81951541</td>\n",
              "      <td>NaN</td>\n",
              "    </tr>\n",
              "    <tr>\n",
              "      <th>12/30/20</th>\n",
              "      <td>82707976</td>\n",
              "      <td>NaN</td>\n",
              "    </tr>\n",
              "  </tbody>\n",
              "</table>\n",
              "<p>344 rows × 2 columns</p>\n",
              "</div>"
            ],
            "text/plain": [
              "            Global   US\n",
              "1/22/20        555  1.0\n",
              "1/23/20        654  1.0\n",
              "1/24/20        941  2.0\n",
              "1/25/20       1434  2.0\n",
              "1/26/20       2118  5.0\n",
              "...            ...  ...\n",
              "12/26/20  80364202  NaN\n",
              "12/27/20  80797122  NaN\n",
              "12/28/20  81285853  NaN\n",
              "12/29/20  81951541  NaN\n",
              "12/30/20  82707976  NaN\n",
              "\n",
              "[344 rows x 2 columns]"
            ]
          },
          "metadata": {
            "tags": []
          },
          "execution_count": 74
        }
      ]
    },
    {
      "cell_type": "markdown",
      "metadata": {
        "id": "GlD2C42b3c61"
      },
      "source": [
        "Note that the individual date sets for Global and US have slightly different reporting dates, so we are observing nulls appearing in our data again"
      ]
    },
    {
      "cell_type": "code",
      "metadata": {
        "colab": {
          "base_uri": "https://localhost:8080/"
        },
        "id": "sFLveMM2zYqP",
        "outputId": "68b539ff-0b65-4463-99f5-6270a33d1500"
      },
      "source": [
        "# checking for nulls\n",
        "\n",
        "covid_df.isnull().sum().sum()"
      ],
      "execution_count": null,
      "outputs": [
        {
          "output_type": "execute_result",
          "data": {
            "text/plain": [
              "23"
            ]
          },
          "metadata": {
            "tags": []
          },
          "execution_count": 75
        }
      ]
    },
    {
      "cell_type": "code",
      "metadata": {
        "colab": {
          "base_uri": "https://localhost:8080/"
        },
        "id": "T2e-kdZI4PG2",
        "outputId": "e0d2db22-eed8-4873-ed04-b9576ac085c5"
      },
      "source": [
        "# Dropping nulls, validating, and checking merged data for consistency\n",
        "# dn_df = Dropping Nulls\n",
        "\n",
        "dn_df = covid_df.dropna()\n",
        "print(dn_df.isnull().sum().sum())\n",
        "dn_df.info()"
      ],
      "execution_count": null,
      "outputs": [
        {
          "output_type": "stream",
          "text": [
            "0\n",
            "<class 'pandas.core.frame.DataFrame'>\n",
            "Index: 321 entries, 1/22/20 to 12/7/20\n",
            "Data columns (total 2 columns):\n",
            " #   Column  Non-Null Count  Dtype  \n",
            "---  ------  --------------  -----  \n",
            " 0   Global  321 non-null    int64  \n",
            " 1   US      321 non-null    float64\n",
            "dtypes: float64(1), int64(1)\n",
            "memory usage: 7.5+ KB\n"
          ],
          "name": "stdout"
        }
      ]
    },
    {
      "cell_type": "code",
      "metadata": {
        "colab": {
          "base_uri": "https://localhost:8080/",
          "height": 407
        },
        "id": "75ufbEcfFS9o",
        "outputId": "55da658c-ddec-4a9d-8912-0fbd9b0e6a5d"
      },
      "source": [
        "dn_df"
      ],
      "execution_count": null,
      "outputs": [
        {
          "output_type": "execute_result",
          "data": {
            "text/html": [
              "<div>\n",
              "<style scoped>\n",
              "    .dataframe tbody tr th:only-of-type {\n",
              "        vertical-align: middle;\n",
              "    }\n",
              "\n",
              "    .dataframe tbody tr th {\n",
              "        vertical-align: top;\n",
              "    }\n",
              "\n",
              "    .dataframe thead th {\n",
              "        text-align: right;\n",
              "    }\n",
              "</style>\n",
              "<table border=\"1\" class=\"dataframe\">\n",
              "  <thead>\n",
              "    <tr style=\"text-align: right;\">\n",
              "      <th></th>\n",
              "      <th>Global</th>\n",
              "      <th>US</th>\n",
              "    </tr>\n",
              "  </thead>\n",
              "  <tbody>\n",
              "    <tr>\n",
              "      <th>1/22/20</th>\n",
              "      <td>555</td>\n",
              "      <td>1.0</td>\n",
              "    </tr>\n",
              "    <tr>\n",
              "      <th>1/23/20</th>\n",
              "      <td>654</td>\n",
              "      <td>1.0</td>\n",
              "    </tr>\n",
              "    <tr>\n",
              "      <th>1/24/20</th>\n",
              "      <td>941</td>\n",
              "      <td>2.0</td>\n",
              "    </tr>\n",
              "    <tr>\n",
              "      <th>1/25/20</th>\n",
              "      <td>1434</td>\n",
              "      <td>2.0</td>\n",
              "    </tr>\n",
              "    <tr>\n",
              "      <th>1/26/20</th>\n",
              "      <td>2118</td>\n",
              "      <td>5.0</td>\n",
              "    </tr>\n",
              "    <tr>\n",
              "      <th>...</th>\n",
              "      <td>...</td>\n",
              "      <td>...</td>\n",
              "    </tr>\n",
              "    <tr>\n",
              "      <th>12/3/20</th>\n",
              "      <td>65295914</td>\n",
              "      <td>14139577.0</td>\n",
              "    </tr>\n",
              "    <tr>\n",
              "      <th>12/4/20</th>\n",
              "      <td>65976648</td>\n",
              "      <td>14367377.0</td>\n",
              "    </tr>\n",
              "    <tr>\n",
              "      <th>12/5/20</th>\n",
              "      <td>66619544</td>\n",
              "      <td>14581243.0</td>\n",
              "    </tr>\n",
              "    <tr>\n",
              "      <th>12/6/20</th>\n",
              "      <td>67158896</td>\n",
              "      <td>14756883.0</td>\n",
              "    </tr>\n",
              "    <tr>\n",
              "      <th>12/7/20</th>\n",
              "      <td>67673996</td>\n",
              "      <td>14949299.0</td>\n",
              "    </tr>\n",
              "  </tbody>\n",
              "</table>\n",
              "<p>321 rows × 2 columns</p>\n",
              "</div>"
            ],
            "text/plain": [
              "           Global          US\n",
              "1/22/20       555         1.0\n",
              "1/23/20       654         1.0\n",
              "1/24/20       941         2.0\n",
              "1/25/20      1434         2.0\n",
              "1/26/20      2118         5.0\n",
              "...           ...         ...\n",
              "12/3/20  65295914  14139577.0\n",
              "12/4/20  65976648  14367377.0\n",
              "12/5/20  66619544  14581243.0\n",
              "12/6/20  67158896  14756883.0\n",
              "12/7/20  67673996  14949299.0\n",
              "\n",
              "[321 rows x 2 columns]"
            ]
          },
          "metadata": {
            "tags": []
          },
          "execution_count": 77
        }
      ]
    },
    {
      "cell_type": "markdown",
      "metadata": {
        "id": "dEGMkQrt-UO4"
      },
      "source": [
        "Here we observe that the Global dtype is int64, and the US Dtype is float64, when they should both be int64. We will update the Dtype for the US.\n"
      ]
    },
    {
      "cell_type": "code",
      "metadata": {
        "colab": {
          "base_uri": "https://localhost:8080/"
        },
        "id": "VYRNoEKUCERh",
        "outputId": "1278d1d7-e514-46fa-f6b7-93eab4823330"
      },
      "source": [
        "# Convert the Dtype to int64 to get rid of the floading points in the US data\n",
        "\n",
        "dn_df = dn_df.astype(int)\n",
        "dn_df.info()"
      ],
      "execution_count": null,
      "outputs": [
        {
          "output_type": "stream",
          "text": [
            "<class 'pandas.core.frame.DataFrame'>\n",
            "Index: 321 entries, 1/22/20 to 12/7/20\n",
            "Data columns (total 2 columns):\n",
            " #   Column  Non-Null Count  Dtype\n",
            "---  ------  --------------  -----\n",
            " 0   Global  321 non-null    int64\n",
            " 1   US      321 non-null    int64\n",
            "dtypes: int64(2)\n",
            "memory usage: 7.5+ KB\n"
          ],
          "name": "stdout"
        }
      ]
    },
    {
      "cell_type": "markdown",
      "metadata": {
        "id": "7TxiN-82EhwR"
      },
      "source": [
        "Now we need to add a totals column and will contain the total value of Global plus the total value of US for each day"
      ]
    },
    {
      "cell_type": "code",
      "metadata": {
        "id": "utKrnXmcDGfI",
        "colab": {
          "base_uri": "https://localhost:8080/",
          "height": 138
        },
        "outputId": "db96f494-d607-44a8-963a-26032b0a67be"
      },
      "source": [
        "# tcr = Total Covid Results\n",
        "\n",
        "tcr_df = dn_df.assign(Total = dn_df.Global + dn_df.US)\n",
        "tcr_df.head(3)"
      ],
      "execution_count": null,
      "outputs": [
        {
          "output_type": "execute_result",
          "data": {
            "text/html": [
              "<div>\n",
              "<style scoped>\n",
              "    .dataframe tbody tr th:only-of-type {\n",
              "        vertical-align: middle;\n",
              "    }\n",
              "\n",
              "    .dataframe tbody tr th {\n",
              "        vertical-align: top;\n",
              "    }\n",
              "\n",
              "    .dataframe thead th {\n",
              "        text-align: right;\n",
              "    }\n",
              "</style>\n",
              "<table border=\"1\" class=\"dataframe\">\n",
              "  <thead>\n",
              "    <tr style=\"text-align: right;\">\n",
              "      <th></th>\n",
              "      <th>Global</th>\n",
              "      <th>US</th>\n",
              "      <th>Total</th>\n",
              "    </tr>\n",
              "  </thead>\n",
              "  <tbody>\n",
              "    <tr>\n",
              "      <th>1/22/20</th>\n",
              "      <td>555</td>\n",
              "      <td>1</td>\n",
              "      <td>556</td>\n",
              "    </tr>\n",
              "    <tr>\n",
              "      <th>1/23/20</th>\n",
              "      <td>654</td>\n",
              "      <td>1</td>\n",
              "      <td>655</td>\n",
              "    </tr>\n",
              "    <tr>\n",
              "      <th>1/24/20</th>\n",
              "      <td>941</td>\n",
              "      <td>2</td>\n",
              "      <td>943</td>\n",
              "    </tr>\n",
              "  </tbody>\n",
              "</table>\n",
              "</div>"
            ],
            "text/plain": [
              "         Global  US  Total\n",
              "1/22/20     555   1    556\n",
              "1/23/20     654   1    655\n",
              "1/24/20     941   2    943"
            ]
          },
          "metadata": {
            "tags": []
          },
          "execution_count": 79
        }
      ]
    },
    {
      "cell_type": "markdown",
      "metadata": {
        "id": "FsOZ5RB2xb-t"
      },
      "source": [
        "Then we find our percent of total for Global, and then for the US"
      ]
    },
    {
      "cell_type": "code",
      "metadata": {
        "colab": {
          "base_uri": "https://localhost:8080/",
          "height": 198
        },
        "id": "m2hHFfgjxaK1",
        "outputId": "bb79af08-f00e-4ee3-8c6b-ddced944fd87"
      },
      "source": [
        "# ccr_df = Complete Covid Records\n",
        "\n",
        "acr_df = tcr_df.assign(GPR = tcr_df.Global / tcr_df.Total*100)\n",
        "ccr_df = acr_df.assign(USPR = acr_df.US / acr_df.Total*100)\n",
        "ccr_df.head()"
      ],
      "execution_count": null,
      "outputs": [
        {
          "output_type": "execute_result",
          "data": {
            "text/html": [
              "<div>\n",
              "<style scoped>\n",
              "    .dataframe tbody tr th:only-of-type {\n",
              "        vertical-align: middle;\n",
              "    }\n",
              "\n",
              "    .dataframe tbody tr th {\n",
              "        vertical-align: top;\n",
              "    }\n",
              "\n",
              "    .dataframe thead th {\n",
              "        text-align: right;\n",
              "    }\n",
              "</style>\n",
              "<table border=\"1\" class=\"dataframe\">\n",
              "  <thead>\n",
              "    <tr style=\"text-align: right;\">\n",
              "      <th></th>\n",
              "      <th>Global</th>\n",
              "      <th>US</th>\n",
              "      <th>Total</th>\n",
              "      <th>GPR</th>\n",
              "      <th>USPR</th>\n",
              "    </tr>\n",
              "  </thead>\n",
              "  <tbody>\n",
              "    <tr>\n",
              "      <th>1/22/20</th>\n",
              "      <td>555</td>\n",
              "      <td>1</td>\n",
              "      <td>556</td>\n",
              "      <td>99.820144</td>\n",
              "      <td>0.179856</td>\n",
              "    </tr>\n",
              "    <tr>\n",
              "      <th>1/23/20</th>\n",
              "      <td>654</td>\n",
              "      <td>1</td>\n",
              "      <td>655</td>\n",
              "      <td>99.847328</td>\n",
              "      <td>0.152672</td>\n",
              "    </tr>\n",
              "    <tr>\n",
              "      <th>1/24/20</th>\n",
              "      <td>941</td>\n",
              "      <td>2</td>\n",
              "      <td>943</td>\n",
              "      <td>99.787911</td>\n",
              "      <td>0.212089</td>\n",
              "    </tr>\n",
              "    <tr>\n",
              "      <th>1/25/20</th>\n",
              "      <td>1434</td>\n",
              "      <td>2</td>\n",
              "      <td>1436</td>\n",
              "      <td>99.860724</td>\n",
              "      <td>0.139276</td>\n",
              "    </tr>\n",
              "    <tr>\n",
              "      <th>1/26/20</th>\n",
              "      <td>2118</td>\n",
              "      <td>5</td>\n",
              "      <td>2123</td>\n",
              "      <td>99.764484</td>\n",
              "      <td>0.235516</td>\n",
              "    </tr>\n",
              "  </tbody>\n",
              "</table>\n",
              "</div>"
            ],
            "text/plain": [
              "         Global  US  Total        GPR      USPR\n",
              "1/22/20     555   1    556  99.820144  0.179856\n",
              "1/23/20     654   1    655  99.847328  0.152672\n",
              "1/24/20     941   2    943  99.787911  0.212089\n",
              "1/25/20    1434   2   1436  99.860724  0.139276\n",
              "1/26/20    2118   5   2123  99.764484  0.235516"
            ]
          },
          "metadata": {
            "tags": []
          },
          "execution_count": 80
        }
      ]
    },
    {
      "cell_type": "markdown",
      "metadata": {
        "id": "y3IWZt31wiW5"
      },
      "source": [
        "# Now we find our percent of total"
      ]
    },
    {
      "cell_type": "markdown",
      "metadata": {
        "id": "HFe833FYs-yJ"
      },
      "source": [
        "We need to move the date field out of the index position"
      ]
    },
    {
      "cell_type": "code",
      "metadata": {
        "colab": {
          "base_uri": "https://localhost:8080/"
        },
        "id": "cMQmd2Rb2SVP",
        "outputId": "f2386463-de9a-411c-cee9-911d0ed8cc68"
      },
      "source": [
        "# Reset the index of dataframe\n",
        "# mad_df = Modified All Data\n",
        "\n",
        "mad_df = ccr_df.reset_index()\n",
        "\n",
        "print(mad_df)"
      ],
      "execution_count": null,
      "outputs": [
        {
          "output_type": "stream",
          "text": [
            "       index    Global        US     Total        GPR       USPR\n",
            "0    1/22/20       555         1       556  99.820144   0.179856\n",
            "1    1/23/20       654         1       655  99.847328   0.152672\n",
            "2    1/24/20       941         2       943  99.787911   0.212089\n",
            "3    1/25/20      1434         2      1436  99.860724   0.139276\n",
            "4    1/26/20      2118         5      2123  99.764484   0.235516\n",
            "..       ...       ...       ...       ...        ...        ...\n",
            "316  12/3/20  65295914  14139577  79435491  82.199925  17.800075\n",
            "317  12/4/20  65976648  14367377  80344025  82.117678  17.882322\n",
            "318  12/5/20  66619544  14581243  81200787  82.042978  17.957022\n",
            "319  12/6/20  67158896  14756883  81915779  81.985299  18.014701\n",
            "320  12/7/20  67673996  14949299  82623295  81.906678  18.093322\n",
            "\n",
            "[321 rows x 6 columns]\n"
          ],
          "name": "stdout"
        }
      ]
    },
    {
      "cell_type": "code",
      "metadata": {
        "colab": {
          "base_uri": "https://localhost:8080/"
        },
        "id": "8uD-XhIn2vw-",
        "outputId": "726def20-5212-44c6-bb1c-6589ab9f1cbd"
      },
      "source": [
        "# Renaming 'index' to 'Date'\n",
        "\n",
        "mad_df = mad_df.rename(columns = {'index':'Date'})\n",
        "\n",
        "print(mad_df)"
      ],
      "execution_count": null,
      "outputs": [
        {
          "output_type": "stream",
          "text": [
            "        Date    Global        US     Total        GPR       USPR\n",
            "0    1/22/20       555         1       556  99.820144   0.179856\n",
            "1    1/23/20       654         1       655  99.847328   0.152672\n",
            "2    1/24/20       941         2       943  99.787911   0.212089\n",
            "3    1/25/20      1434         2      1436  99.860724   0.139276\n",
            "4    1/26/20      2118         5      2123  99.764484   0.235516\n",
            "..       ...       ...       ...       ...        ...        ...\n",
            "316  12/3/20  65295914  14139577  79435491  82.199925  17.800075\n",
            "317  12/4/20  65976648  14367377  80344025  82.117678  17.882322\n",
            "318  12/5/20  66619544  14581243  81200787  82.042978  17.957022\n",
            "319  12/6/20  67158896  14756883  81915779  81.985299  18.014701\n",
            "320  12/7/20  67673996  14949299  82623295  81.906678  18.093322\n",
            "\n",
            "[321 rows x 6 columns]\n"
          ],
          "name": "stdout"
        }
      ]
    },
    {
      "cell_type": "markdown",
      "metadata": {
        "id": "69XkVrjnN9rh"
      },
      "source": [
        "Changing the date column to 'datetime' so it can be summed by month"
      ]
    },
    {
      "cell_type": "code",
      "metadata": {
        "colab": {
          "base_uri": "https://localhost:8080/",
          "height": 198
        },
        "id": "sL2GifgQJEOg",
        "outputId": "10b04784-13c2-40ec-cb35-cc8454722682"
      },
      "source": [
        "# Changing attribute of date column\n",
        "\n",
        "mad_df[\"Date\"] = pd.to_datetime(mad_df['Date'])\n",
        "mad_df.head()"
      ],
      "execution_count": null,
      "outputs": [
        {
          "output_type": "execute_result",
          "data": {
            "text/html": [
              "<div>\n",
              "<style scoped>\n",
              "    .dataframe tbody tr th:only-of-type {\n",
              "        vertical-align: middle;\n",
              "    }\n",
              "\n",
              "    .dataframe tbody tr th {\n",
              "        vertical-align: top;\n",
              "    }\n",
              "\n",
              "    .dataframe thead th {\n",
              "        text-align: right;\n",
              "    }\n",
              "</style>\n",
              "<table border=\"1\" class=\"dataframe\">\n",
              "  <thead>\n",
              "    <tr style=\"text-align: right;\">\n",
              "      <th></th>\n",
              "      <th>Date</th>\n",
              "      <th>Global</th>\n",
              "      <th>US</th>\n",
              "      <th>Total</th>\n",
              "      <th>GPR</th>\n",
              "      <th>USPR</th>\n",
              "    </tr>\n",
              "  </thead>\n",
              "  <tbody>\n",
              "    <tr>\n",
              "      <th>0</th>\n",
              "      <td>2020-01-22</td>\n",
              "      <td>555</td>\n",
              "      <td>1</td>\n",
              "      <td>556</td>\n",
              "      <td>99.820144</td>\n",
              "      <td>0.179856</td>\n",
              "    </tr>\n",
              "    <tr>\n",
              "      <th>1</th>\n",
              "      <td>2020-01-23</td>\n",
              "      <td>654</td>\n",
              "      <td>1</td>\n",
              "      <td>655</td>\n",
              "      <td>99.847328</td>\n",
              "      <td>0.152672</td>\n",
              "    </tr>\n",
              "    <tr>\n",
              "      <th>2</th>\n",
              "      <td>2020-01-24</td>\n",
              "      <td>941</td>\n",
              "      <td>2</td>\n",
              "      <td>943</td>\n",
              "      <td>99.787911</td>\n",
              "      <td>0.212089</td>\n",
              "    </tr>\n",
              "    <tr>\n",
              "      <th>3</th>\n",
              "      <td>2020-01-25</td>\n",
              "      <td>1434</td>\n",
              "      <td>2</td>\n",
              "      <td>1436</td>\n",
              "      <td>99.860724</td>\n",
              "      <td>0.139276</td>\n",
              "    </tr>\n",
              "    <tr>\n",
              "      <th>4</th>\n",
              "      <td>2020-01-26</td>\n",
              "      <td>2118</td>\n",
              "      <td>5</td>\n",
              "      <td>2123</td>\n",
              "      <td>99.764484</td>\n",
              "      <td>0.235516</td>\n",
              "    </tr>\n",
              "  </tbody>\n",
              "</table>\n",
              "</div>"
            ],
            "text/plain": [
              "        Date  Global  US  Total        GPR      USPR\n",
              "0 2020-01-22     555   1    556  99.820144  0.179856\n",
              "1 2020-01-23     654   1    655  99.847328  0.152672\n",
              "2 2020-01-24     941   2    943  99.787911  0.212089\n",
              "3 2020-01-25    1434   2   1436  99.860724  0.139276\n",
              "4 2020-01-26    2118   5   2123  99.764484  0.235516"
            ]
          },
          "metadata": {
            "tags": []
          },
          "execution_count": 83
        }
      ]
    },
    {
      "cell_type": "markdown",
      "metadata": {
        "id": "NJbkaFPGklAK"
      },
      "source": [
        "# Visualizations of the prepared Covid-19 data"
      ]
    },
    {
      "cell_type": "markdown",
      "metadata": {
        "id": "_7zw3OrGJ2SR"
      },
      "source": [
        "We then visualize the data...At this point we are only interested in the comparison of USPR and GPR and their relationship as compared against Total.\n",
        "\n",
        "Looking at the plots below, we observe that as a percent of total, the first scatterplot representing the USPR (United States Percentage Rate) begins without a high correlation between the Total number of cases and those reported in the US as reflected in the USPR. Observing the increase over time, in a positive correlation shows the increase in observations in relation to the total. This indicates the US containment initiative to be ineffective.\n",
        "\n",
        "Moving on to the GPR (Global Percentage Rate), we observe an initially high correlation between the Total number of reported cases and those reported Globally as reflected in the GPR. Noting the reduction over time, in a negative correlation shows the decrease in observations in relation to the total. This indicates the Global containment initiative to be effective.\n",
        "\n",
        "By comparing the 'mirrored image' plots shown in these two scatterplots, a validation of the hypothesis can be observed. Despite initially high numbers in the beginning, the Global containment initiative was much more effective than the US containment initiative."
      ]
    },
    {
      "cell_type": "code",
      "metadata": {
        "colab": {
          "base_uri": "https://localhost:8080/",
          "height": 303
        },
        "id": "tSacCL9snRfh",
        "outputId": "14bd4d07-9804-4949-ca98-8d8440f45ff1"
      },
      "source": [
        "sns.scatterplot(x='Total', y ='USPR', data=mad_df)"
      ],
      "execution_count": null,
      "outputs": [
        {
          "output_type": "execute_result",
          "data": {
            "text/plain": [
              "<matplotlib.axes._subplots.AxesSubplot at 0x7f5cf5e632e8>"
            ]
          },
          "metadata": {
            "tags": []
          },
          "execution_count": 84
        },
        {
          "output_type": "display_data",
          "data": {
            "image/png": "[encoded data removed]",
            "text/plain": [
              "<Figure size 432x288 with 1 Axes>"
            ]
          },
          "metadata": {
            "tags": []
          }
        }
      ]
    },
    {
      "cell_type": "code",
      "metadata": {
        "colab": {
          "base_uri": "https://localhost:8080/",
          "height": 303
        },
        "id": "BGzkHA5undyi",
        "outputId": "71c2b3af-7c40-4dfa-c92d-31f45d7f0114"
      },
      "source": [
        "sns.scatterplot(x='Total', y ='GPR', data=mad_df)"
      ],
      "execution_count": null,
      "outputs": [
        {
          "output_type": "execute_result",
          "data": {
            "text/plain": [
              "<matplotlib.axes._subplots.AxesSubplot at 0x7f5cf6aca390>"
            ]
          },
          "metadata": {
            "tags": []
          },
          "execution_count": 85
        },
        {
          "output_type": "display_data",
          "data": {
            "image/png": "[encoded data removed]",
            "text/plain": [
              "<Figure size 432x288 with 1 Axes>"
            ]
          },
          "metadata": {
            "tags": []
          }
        }
      ]
    },
    {
      "cell_type": "markdown",
      "metadata": {
        "id": "KxGTmCMnnR-h"
      },
      "source": [
        "Looking at this from another angle...."
      ]
    },
    {
      "cell_type": "code",
      "metadata": {
        "colab": {
          "base_uri": "https://localhost:8080/",
          "height": 315
        },
        "id": "TmypHd7lNFUC",
        "outputId": "0e290338-dbdb-4fa2-9c16-85e8b00ca421"
      },
      "source": [
        "sns.scatterplot(x='GPR', y ='Total', data=mad_df)"
      ],
      "execution_count": null,
      "outputs": [
        {
          "output_type": "execute_result",
          "data": {
            "text/plain": [
              "<matplotlib.axes._subplots.AxesSubplot at 0x7f5cf68dd940>"
            ]
          },
          "metadata": {
            "tags": []
          },
          "execution_count": 86
        },
        {
          "output_type": "display_data",
          "data": {
            "image/png": "[encoded data removed]",
            "text/plain": [
              "<Figure size 432x288 with 1 Axes>"
            ]
          },
          "metadata": {
            "tags": []
          }
        }
      ]
    },
    {
      "cell_type": "code",
      "metadata": {
        "colab": {
          "base_uri": "https://localhost:8080/",
          "height": 315
        },
        "id": "Yug8VDcAKUgh",
        "outputId": "703d0912-d4e0-4e98-cfff-3184898ba5ba"
      },
      "source": [
        "sns.scatterplot(x='USPR', y ='Total', data=mad_df)"
      ],
      "execution_count": null,
      "outputs": [
        {
          "output_type": "execute_result",
          "data": {
            "text/plain": [
              "<matplotlib.axes._subplots.AxesSubplot at 0x7f5cf694dc50>"
            ]
          },
          "metadata": {
            "tags": []
          },
          "execution_count": 87
        },
        {
          "output_type": "display_data",
          "data": {
            "image/png": "[encoded data removed]",
            "text/plain": [
              "<Figure size 432x288 with 1 Axes>"
            ]
          },
          "metadata": {
            "tags": []
          }
        }
      ]
    },
    {
      "cell_type": "markdown",
      "metadata": {
        "id": "vO_fRPaUlSNp"
      },
      "source": [
        "In this scatterplot comparing GPR and USPR, there is a strong linear correlation, as indicated by the almost straight 45 degree angle."
      ]
    },
    {
      "cell_type": "code",
      "metadata": {
        "colab": {
          "base_uri": "https://localhost:8080/",
          "height": 303
        },
        "id": "TkHLDEtJQB0T",
        "outputId": "d6c769e5-957b-4eb6-d181-3643ac42c014"
      },
      "source": [
        "sns.scatterplot(x='GPR', y ='USPR', data=mad_df)"
      ],
      "execution_count": null,
      "outputs": [
        {
          "output_type": "execute_result",
          "data": {
            "text/plain": [
              "<matplotlib.axes._subplots.AxesSubplot at 0x7f5cf69bedd8>"
            ]
          },
          "metadata": {
            "tags": []
          },
          "execution_count": 88
        },
        {
          "output_type": "display_data",
          "data": {
            "image/png": "[encoded data removed]",
            "text/plain": [
              "<Figure size 432x288 with 1 Axes>"
            ]
          },
          "metadata": {
            "tags": []
          }
        }
      ]
    },
    {
      "cell_type": "markdown",
      "metadata": {
        "id": "PZHAXNqzmkRi"
      },
      "source": [
        "Here we look at a pair plot to see if there is anything else to observe.\n",
        "\n",
        "In the bar charts, we can see a reflection of the scatterplots 'mirrored images'."
      ]
    },
    {
      "cell_type": "code",
      "metadata": {
        "colab": {
          "base_uri": "https://localhost:8080/",
          "height": 566
        },
        "id": "jRSybuXsDOOD",
        "outputId": "b78801d4-7f1c-4195-ecb2-c5861633e95a"
      },
      "source": [
        "sns.pairplot(mad_df, vars = [\"GPR\",\"USPR\",\"Total\"])"
      ],
      "execution_count": null,
      "outputs": [
        {
          "output_type": "execute_result",
          "data": {
            "text/plain": [
              "<seaborn.axisgrid.PairGrid at 0x7f5cf60eeda0>"
            ]
          },
          "metadata": {
            "tags": []
          },
          "execution_count": 89
        },
        {
          "output_type": "display_data",
          "data": {
            "image/png": "[encoded data removed]",
            "text/plain": [
              "<Figure size 540x540 with 12 Axes>"
            ]
          },
          "metadata": {
            "tags": []
          }
        }
      ]
    },
    {
      "cell_type": "markdown",
      "metadata": {
        "id": "Kmtc_ok2u-04"
      },
      "source": [
        "For a comparison of histograms, we group plot for easy inspection.\n",
        "\n",
        "Again, we observe clear indicators of spread and containment across time."
      ]
    },
    {
      "cell_type": "code",
      "metadata": {
        "colab": {
          "base_uri": "https://localhost:8080/",
          "height": 411
        },
        "id": "gfT9y8Gj-63A",
        "outputId": "85cb90cd-14f9-4ddb-b337-0874a4e0831f"
      },
      "source": [
        "mad_df.hist()"
      ],
      "execution_count": null,
      "outputs": [
        {
          "output_type": "execute_result",
          "data": {
            "text/plain": [
              "array([[<matplotlib.axes._subplots.AxesSubplot object at 0x7f5cf5ecbb70>,\n",
              "        <matplotlib.axes._subplots.AxesSubplot object at 0x7f5cec965f60>],\n",
              "       [<matplotlib.axes._subplots.AxesSubplot object at 0x7f5cec99c5f8>,\n",
              "        <matplotlib.axes._subplots.AxesSubplot object at 0x7f5cec94bc50>],\n",
              "       [<matplotlib.axes._subplots.AxesSubplot object at 0x7f5cec9072e8>,\n",
              "        <matplotlib.axes._subplots.AxesSubplot object at 0x7f5cec8b7940>]],\n",
              "      dtype=object)"
            ]
          },
          "metadata": {
            "tags": []
          },
          "execution_count": 90
        },
        {
          "output_type": "display_data",
          "data": {
            "image/png": "[encoded data removed]",
            "text/plain": [
              "<Figure size 432x288 with 6 Axes>"
            ]
          },
          "metadata": {
            "tags": []
          }
        }
      ]
    },
    {
      "cell_type": "markdown",
      "metadata": {
        "id": "HYCsclQ_oSTy"
      },
      "source": [
        "We then look at the data with a box plot to observe the shape of the distribution, its central value, its variability and outliers.\n",
        "\n",
        "Comparing the data from USPR and GPR, we observe that both GPR's highest and lowest confirmed case count are higher than USPR's corresponding case count. This shows a consistently higher rate of confirmed cases Globally than the US.\n"
      ]
    },
    {
      "cell_type": "code",
      "metadata": {
        "colab": {
          "base_uri": "https://localhost:8080/",
          "height": 303
        },
        "id": "f1wzkkveAkHQ",
        "outputId": "6952012d-ad5e-4c4f-a080-bf0c99481e94"
      },
      "source": [
        "sns.boxplot(x = mad_df['USPR'])"
      ],
      "execution_count": null,
      "outputs": [
        {
          "output_type": "execute_result",
          "data": {
            "text/plain": [
              "<matplotlib.axes._subplots.AxesSubplot at 0x7f5cec764e80>"
            ]
          },
          "metadata": {
            "tags": []
          },
          "execution_count": 91
        },
        {
          "output_type": "display_data",
          "data": {
            "image/png": "[encoded data removed]",
            "text/plain": [
              "<Figure size 432x288 with 1 Axes>"
            ]
          },
          "metadata": {
            "tags": []
          }
        }
      ]
    },
    {
      "cell_type": "code",
      "metadata": {
        "colab": {
          "base_uri": "https://localhost:8080/",
          "height": 288
        },
        "id": "7ttS5abkJgua",
        "outputId": "934bd1af-2678-4a3f-912c-3da4b8efd6f1"
      },
      "source": [
        "mad_df[['USPR']].describe()"
      ],
      "execution_count": null,
      "outputs": [
        {
          "output_type": "execute_result",
          "data": {
            "text/html": [
              "<div>\n",
              "<style scoped>\n",
              "    .dataframe tbody tr th:only-of-type {\n",
              "        vertical-align: middle;\n",
              "    }\n",
              "\n",
              "    .dataframe tbody tr th {\n",
              "        vertical-align: top;\n",
              "    }\n",
              "\n",
              "    .dataframe thead th {\n",
              "        text-align: right;\n",
              "    }\n",
              "</style>\n",
              "<table border=\"1\" class=\"dataframe\">\n",
              "  <thead>\n",
              "    <tr style=\"text-align: right;\">\n",
              "      <th></th>\n",
              "      <th>USPR</th>\n",
              "    </tr>\n",
              "  </thead>\n",
              "  <tbody>\n",
              "    <tr>\n",
              "      <th>count</th>\n",
              "      <td>321.000000</td>\n",
              "    </tr>\n",
              "    <tr>\n",
              "      <th>mean</th>\n",
              "      <td>16.199475</td>\n",
              "    </tr>\n",
              "    <tr>\n",
              "      <th>std</th>\n",
              "      <td>7.895858</td>\n",
              "    </tr>\n",
              "    <tr>\n",
              "      <th>min</th>\n",
              "      <td>0.018366</td>\n",
              "    </tr>\n",
              "    <tr>\n",
              "      <th>25%</th>\n",
              "      <td>16.590472</td>\n",
              "    </tr>\n",
              "    <tr>\n",
              "      <th>50%</th>\n",
              "      <td>18.549769</td>\n",
              "    </tr>\n",
              "    <tr>\n",
              "      <th>75%</th>\n",
              "      <td>20.621878</td>\n",
              "    </tr>\n",
              "    <tr>\n",
              "      <th>max</th>\n",
              "      <td>24.825807</td>\n",
              "    </tr>\n",
              "  </tbody>\n",
              "</table>\n",
              "</div>"
            ],
            "text/plain": [
              "             USPR\n",
              "count  321.000000\n",
              "mean    16.199475\n",
              "std      7.895858\n",
              "min      0.018366\n",
              "25%     16.590472\n",
              "50%     18.549769\n",
              "75%     20.621878\n",
              "max     24.825807"
            ]
          },
          "metadata": {
            "tags": []
          },
          "execution_count": 92
        }
      ]
    },
    {
      "cell_type": "code",
      "metadata": {
        "colab": {
          "base_uri": "https://localhost:8080/",
          "height": 303
        },
        "id": "BVntJZ-dPmcx",
        "outputId": "812de3f7-79c3-461a-cbdb-6fb8b5125ca4"
      },
      "source": [
        "sns.boxplot(x = mad_df['GPR'])"
      ],
      "execution_count": null,
      "outputs": [
        {
          "output_type": "execute_result",
          "data": {
            "text/plain": [
              "<matplotlib.axes._subplots.AxesSubplot at 0x7f5cec74ba20>"
            ]
          },
          "metadata": {
            "tags": []
          },
          "execution_count": 93
        },
        {
          "output_type": "display_data",
          "data": {
            "image/png": "[encoded data removed]",
            "text/plain": [
              "<Figure size 432x288 with 1 Axes>"
            ]
          },
          "metadata": {
            "tags": []
          }
        }
      ]
    },
    {
      "cell_type": "code",
      "metadata": {
        "colab": {
          "base_uri": "https://localhost:8080/",
          "height": 288
        },
        "id": "JlFDYW0VJrkq",
        "outputId": "43ac01c9-fdeb-4b3f-d2d2-41dbe21bebc3"
      },
      "source": [
        "mad_df[['GPR']].describe()"
      ],
      "execution_count": null,
      "outputs": [
        {
          "output_type": "execute_result",
          "data": {
            "text/html": [
              "<div>\n",
              "<style scoped>\n",
              "    .dataframe tbody tr th:only-of-type {\n",
              "        vertical-align: middle;\n",
              "    }\n",
              "\n",
              "    .dataframe tbody tr th {\n",
              "        vertical-align: top;\n",
              "    }\n",
              "\n",
              "    .dataframe thead th {\n",
              "        text-align: right;\n",
              "    }\n",
              "</style>\n",
              "<table border=\"1\" class=\"dataframe\">\n",
              "  <thead>\n",
              "    <tr style=\"text-align: right;\">\n",
              "      <th></th>\n",
              "      <th>GPR</th>\n",
              "    </tr>\n",
              "  </thead>\n",
              "  <tbody>\n",
              "    <tr>\n",
              "      <th>count</th>\n",
              "      <td>321.000000</td>\n",
              "    </tr>\n",
              "    <tr>\n",
              "      <th>mean</th>\n",
              "      <td>83.800525</td>\n",
              "    </tr>\n",
              "    <tr>\n",
              "      <th>std</th>\n",
              "      <td>7.895858</td>\n",
              "    </tr>\n",
              "    <tr>\n",
              "      <th>min</th>\n",
              "      <td>75.174193</td>\n",
              "    </tr>\n",
              "    <tr>\n",
              "      <th>25%</th>\n",
              "      <td>79.378122</td>\n",
              "    </tr>\n",
              "    <tr>\n",
              "      <th>50%</th>\n",
              "      <td>81.450231</td>\n",
              "    </tr>\n",
              "    <tr>\n",
              "      <th>75%</th>\n",
              "      <td>83.409528</td>\n",
              "    </tr>\n",
              "    <tr>\n",
              "      <th>max</th>\n",
              "      <td>99.981634</td>\n",
              "    </tr>\n",
              "  </tbody>\n",
              "</table>\n",
              "</div>"
            ],
            "text/plain": [
              "              GPR\n",
              "count  321.000000\n",
              "mean    83.800525\n",
              "std      7.895858\n",
              "min     75.174193\n",
              "25%     79.378122\n",
              "50%     81.450231\n",
              "75%     83.409528\n",
              "max     99.981634"
            ]
          },
          "metadata": {
            "tags": []
          },
          "execution_count": 94
        }
      ]
    },
    {
      "cell_type": "markdown",
      "metadata": {
        "id": "VYKY349WQq4I"
      },
      "source": [
        "In comparing the GPR plot to the USPR plot, we can see that the density of confirmation in Global cases were higher in the beginning, leveling off and then spiking again towards the end of the year. However, when you look at the USPR, we can see that there was a initial spike when the first cases were reported, and a large a secondary spike later in the year which continued to increase then remained steady. This shows that the US measures for control of spread was not as efficient as the Global control measures."
      ]
    },
    {
      "cell_type": "code",
      "metadata": {
        "colab": {
          "base_uri": "https://localhost:8080/",
          "height": 359
        },
        "id": "cffvpcbKzJ7X",
        "outputId": "06ffd272-d3cc-4b2b-a9a3-e2a9b9114b9c"
      },
      "source": [
        "sns. distplot(mad_df['GPR'])"
      ],
      "execution_count": null,
      "outputs": [
        {
          "output_type": "stream",
          "text": [
            "/usr/local/lib/python3.6/dist-packages/seaborn/distributions.py:2557: FutureWarning: `distplot` is a deprecated function and will be removed in a future version. Please adapt your code to use either `displot` (a figure-level function with similar flexibility) or `histplot` (an axes-level function for histograms).\n",
            "  warnings.warn(msg, FutureWarning)\n"
          ],
          "name": "stderr"
        },
        {
          "output_type": "execute_result",
          "data": {
            "text/plain": [
              "<matplotlib.axes._subplots.AxesSubplot at 0x7f5cec6aefd0>"
            ]
          },
          "metadata": {
            "tags": []
          },
          "execution_count": 95
        },
        {
          "output_type": "display_data",
          "data": {
            "image/png": "[encoded data removed]",
            "text/plain": [
              "<Figure size 432x288 with 1 Axes>"
            ]
          },
          "metadata": {
            "tags": []
          }
        }
      ]
    },
    {
      "cell_type": "code",
      "metadata": {
        "colab": {
          "base_uri": "https://localhost:8080/",
          "height": 359
        },
        "id": "OQSZn5pYBjy4",
        "outputId": "74b8f5b2-6e24-4c37-ecdf-687a8b5cc97c"
      },
      "source": [
        "sns. distplot(mad_df['USPR'])"
      ],
      "execution_count": null,
      "outputs": [
        {
          "output_type": "stream",
          "text": [
            "/usr/local/lib/python3.6/dist-packages/seaborn/distributions.py:2557: FutureWarning: `distplot` is a deprecated function and will be removed in a future version. Please adapt your code to use either `displot` (a figure-level function with similar flexibility) or `histplot` (an axes-level function for histograms).\n",
            "  warnings.warn(msg, FutureWarning)\n"
          ],
          "name": "stderr"
        },
        {
          "output_type": "execute_result",
          "data": {
            "text/plain": [
              "<matplotlib.axes._subplots.AxesSubplot at 0x7f5cec6485c0>"
            ]
          },
          "metadata": {
            "tags": []
          },
          "execution_count": 96
        },
        {
          "output_type": "display_data",
          "data": {
            "image/png": "[encoded data removed]",
            "text/plain": [
              "<Figure size 432x288 with 1 Axes>"
            ]
          },
          "metadata": {
            "tags": []
          }
        }
      ]
    },
    {
      "cell_type": "code",
      "metadata": {
        "colab": {
          "base_uri": "https://localhost:8080/",
          "height": 371
        },
        "id": "m_BWWNyZABGx",
        "outputId": "ba5b4e09-f4c0-41ef-adee-ec9751db5629"
      },
      "source": [
        "sns. distplot(mad_df['US'])"
      ],
      "execution_count": null,
      "outputs": [
        {
          "output_type": "stream",
          "text": [
            "/usr/local/lib/python3.6/dist-packages/seaborn/distributions.py:2557: FutureWarning: `distplot` is a deprecated function and will be removed in a future version. Please adapt your code to use either `displot` (a figure-level function with similar flexibility) or `histplot` (an axes-level function for histograms).\n",
            "  warnings.warn(msg, FutureWarning)\n"
          ],
          "name": "stderr"
        },
        {
          "output_type": "execute_result",
          "data": {
            "text/plain": [
              "<matplotlib.axes._subplots.AxesSubplot at 0x7f5cec5f9860>"
            ]
          },
          "metadata": {
            "tags": []
          },
          "execution_count": 97
        },
        {
          "output_type": "display_data",
          "data": {
            "image/png": "[encoded data removed]",
            "text/plain": [
              "<Figure size 432x288 with 1 Axes>"
            ]
          },
          "metadata": {
            "tags": []
          }
        }
      ]
    },
    {
      "cell_type": "code",
      "metadata": {
        "colab": {
          "base_uri": "https://localhost:8080/",
          "height": 371
        },
        "id": "OEg72WPHAAxu",
        "outputId": "8d89c336-6f98-4d2b-d90f-aeec5b692f02"
      },
      "source": [
        "sns. distplot(mad_df['Global'])"
      ],
      "execution_count": null,
      "outputs": [
        {
          "output_type": "stream",
          "text": [
            "/usr/local/lib/python3.6/dist-packages/seaborn/distributions.py:2557: FutureWarning: `distplot` is a deprecated function and will be removed in a future version. Please adapt your code to use either `displot` (a figure-level function with similar flexibility) or `histplot` (an axes-level function for histograms).\n",
            "  warnings.warn(msg, FutureWarning)\n"
          ],
          "name": "stderr"
        },
        {
          "output_type": "execute_result",
          "data": {
            "text/plain": [
              "<matplotlib.axes._subplots.AxesSubplot at 0x7f5cec5ac128>"
            ]
          },
          "metadata": {
            "tags": []
          },
          "execution_count": 98
        },
        {
          "output_type": "display_data",
          "data": {
            "image/png": "[encoded data removed]",
            "text/plain": [
              "<Figure size 432x288 with 1 Axes>"
            ]
          },
          "metadata": {
            "tags": []
          }
        }
      ]
    },
    {
      "cell_type": "markdown",
      "metadata": {
        "id": "EWGzSVAIUgZR"
      },
      "source": [
        "Now we run a pearsonr test to validate my observations."
      ]
    },
    {
      "cell_type": "code",
      "metadata": {
        "colab": {
          "base_uri": "https://localhost:8080/"
        },
        "id": "ox4Dm43nhV3j",
        "outputId": "aada6b24-c76d-4271-a60e-d8408d2f4204"
      },
      "source": [
        "stats.pearsonr(mad_df['Global'], mad_df['US'])"
      ],
      "execution_count": null,
      "outputs": [
        {
          "output_type": "execute_result",
          "data": {
            "text/plain": [
              "(0.9956845956729282, 0.0)"
            ]
          },
          "metadata": {
            "tags": []
          },
          "execution_count": 99
        }
      ]
    },
    {
      "cell_type": "code",
      "metadata": {
        "colab": {
          "base_uri": "https://localhost:8080/"
        },
        "id": "IjBrLGMUWDBp",
        "outputId": "29151e02-9b9c-481f-e1a5-7f2fe206c72e"
      },
      "source": [
        "stats.pearsonr(mad_df['GPR'], mad_df['USPR'])"
      ],
      "execution_count": null,
      "outputs": [
        {
          "output_type": "execute_result",
          "data": {
            "text/plain": [
              "(-0.9999999999999999, 0.0)"
            ]
          },
          "metadata": {
            "tags": []
          },
          "execution_count": 100
        }
      ]
    },
    {
      "cell_type": "markdown",
      "metadata": {
        "id": "wYlXwp0JxjJi"
      },
      "source": [
        "As we observe in the pearsonr results, the correlation coefficient for both the case counts and the percentage of totals of the US and Global data are -0.999 and 0.995 respectively. This shows a very strong correlation. If we move on to the probability factor is, in fact 0.00 for both, indicating that the correlation being random, is an impossibility."
      ]
    },
    {
      "cell_type": "markdown",
      "metadata": {
        "id": "KbvCyR7vhlV9"
      },
      "source": [
        "# Conclusions\n",
        "Note: This data only tracks confirmation rates over time, and does not take into account *any* outside factors that may have had any effect on the rate of spread."
      ]
    },
    {
      "cell_type": "markdown",
      "metadata": {
        "id": "rSvIkYN9h21C"
      },
      "source": [
        "The global population as of January 1, 2020, not including the US, was projected to be a massive 7,290,796,536 people compared to the US population of 330,222,422 people (Citation: Census Bureau Projects U.S. and World Populations on New Year’s Day DECEMBER 30, 2019; RELEASE NUMBER CB19-199). Even though the US population is just 4.52% of the total global population, our results show a very different picture of overall results for each group. This analysis shows that the US failed in having effective containment measures in place, or in developing such measures over time, as the pandemic continued to progress.\n",
        "\n",
        "As we have observed while analyzing this data, despite having the majority of the confirmed cases of Covid-19, the Global communities control initiatives were considerably more effective than that of the US communities.\n",
        "\n",
        "This suggests to me that a deeper dive is indicated. By zooming in to the Global data to analyze by country, which had the most effective measures. I believe that by using that information as a framework, an extrapolation of effective measures can be crafted into a best practices guide for the US to follow for future types of occurrences.\n",
        "\n"
      ]
    },
    {
      "cell_type": "code",
      "metadata": {
        "colab": {
          "base_uri": "https://localhost:8080/"
        },
        "id": "3EWlVfThfuvj",
        "outputId": "9acb22e8-984b-47f8-9095-7554e7ab5a24"
      },
      "source": [
        "mad_df['Global'].sum()"
      ],
      "execution_count": null,
      "outputs": [
        {
          "output_type": "execute_result",
          "data": {
            "text/plain": [
              "5801707424"
            ]
          },
          "metadata": {
            "tags": []
          },
          "execution_count": 103
        }
      ]
    },
    {
      "cell_type": "code",
      "metadata": {
        "colab": {
          "base_uri": "https://localhost:8080/"
        },
        "id": "GS0CEgpjgTdE",
        "outputId": "477a5703-c7ba-41e1-d372-3fe1c8091c28"
      },
      "source": [
        "mad_df['US'].sum()"
      ],
      "execution_count": null,
      "outputs": [
        {
          "output_type": "execute_result",
          "data": {
            "text/plain": [
              "1294628392"
            ]
          },
          "metadata": {
            "tags": []
          },
          "execution_count": 104
        }
      ]
    },
    {
      "cell_type": "code",
      "metadata": {
        "id": "ARRace5egYLH",
        "outputId": "8815bb0a-c5bf-404c-a3e0-0683a60458d9",
        "colab": {
          "base_uri": "https://localhost:8080/"
        }
      },
      "source": [
        "mad_df['Total'].sum()"
      ],
      "execution_count": null,
      "outputs": [
        {
          "output_type": "execute_result",
          "data": {
            "text/plain": [
              "7096335816"
            ]
          },
          "metadata": {
            "tags": []
          },
          "execution_count": 105
        }
      ]
    },
    {
      "cell_type": "code",
      "metadata": {
        "id": "mJN-QzL8gaXw"
      },
      "source": [],
      "execution_count": null,
      "outputs": []
    }
  ]
}